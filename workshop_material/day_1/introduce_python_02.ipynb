{
 "cells": [
  {
   "cell_type": "markdown",
   "metadata": {},
   "source": [
    "# クラスについて\n",
    "- クラスとは、「xxx」と「xxx」をまとめたものです。\n",
    "- クラスを初期化（xxxのようなイメージ）すると、まるで英文のようにプログラミングが書けます。\n",
    "- 別々で「xxx」したクラスは、別物です。変数はそれぞれ独立しています。"
   ]
  },
  {
   "cell_type": "code",
   "execution_count": 2,
   "metadata": {},
   "outputs": [],
   "source": [
    "class 犬:\n",
    "    def __init__(self, 名前, 年):\n",
    "        self.名前 = 名前\n",
    "        self.年 = 年\n",
    "        \n",
    "    def 挨拶する(self):\n",
    "        print(f'こんにちは、私は{self.名前}です。{self.年}歳です。')"
   ]
  },
  {
   "cell_type": "code",
   "execution_count": null,
   "metadata": {},
   "outputs": [],
   "source": [
    "ポチ = 犬('ポチ', 5)\n",
    "ポチ.挨拶する()"
   ]
  }
 ],
 "metadata": {
  "kernelspec": {
   "display_name": "Python 3",
   "language": "python",
   "name": "python3"
  },
  "language_info": {
   "codemirror_mode": {
    "name": "ipython",
    "version": 3
   },
   "file_extension": ".py",
   "mimetype": "text/x-python",
   "name": "python",
   "nbconvert_exporter": "python",
   "pygments_lexer": "ipython3",
   "version": "3.11.8"
  }
 },
 "nbformat": 4,
 "nbformat_minor": 2
}

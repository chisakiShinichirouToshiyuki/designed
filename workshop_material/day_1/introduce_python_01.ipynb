{
 "cells": [
  {
   "cell_type": "markdown",
   "metadata": {},
   "source": [
    "# pythonについて\n",
    "- pythonとは、「xxxxx」です。\n",
    "- プログラミングとは、「xxxにxxxを伝える」ことです"
   ]
  },
  {
   "cell_type": "markdown",
   "metadata": {},
   "source": [
    "# Jupyterについて\n",
    "- jupyterは「xxxxとxxxx」の組み合わせのようなものです。\n",
    "- Markdownセルが「xxxxx」の役割をします。\n",
    "  - セル右上の「xxxx」ボタンで、プレビューできます。\n",
    "- Codeセルが、「xxxxx」の役割をします。\n",
    "  - セル左上の「xxxx」ボタンで、実行できます。"
   ]
  },
  {
   "cell_type": "markdown",
   "metadata": {},
   "source": [
    "# pythonの基本文法\n",
    "## 変数について\n",
    "pythonは変数を扱えます。  \n",
    "変数とは、色々「xxxx」を入れておける「xxx」のようなものです"
   ]
  },
  {
   "cell_type": "code",
   "execution_count": 1,
   "metadata": {},
   "outputs": [
    {
     "name": "stdout",
     "output_type": "stream",
     "text": [
      "こんにちは、参加者です\n"
     ]
    }
   ],
   "source": [
    "# 変数を使わない時\n",
    "print(\"こんにちは、参加者です\")"
   ]
  },
  {
   "cell_type": "code",
   "execution_count": null,
   "metadata": {},
   "outputs": [],
   "source": [
    "# 変数で自分の名前を入れた場合\n",
    "名前 = \"xxxx\"\n",
    "print(\"こんにちは、\"+名前+\"です\")"
   ]
  },
  {
   "cell_type": "markdown",
   "metadata": {},
   "source": [
    "## 関数について\n",
    "関数とは、「xxx」に応じて「xxx」が変わるっ処理のことです。  "
   ]
  },
  {
   "cell_type": "code",
   "execution_count": null,
   "metadata": {},
   "outputs": [],
   "source": [
    "# 関数色々\n",
    "def 挨拶する関数(名前引数):\n",
    "    print(\"こんにちは、\"+名前引数+\"です\")"
   ]
  },
  {
   "cell_type": "code",
   "execution_count": null,
   "metadata": {},
   "outputs": [],
   "source": [
    "挨拶する関数(\"xxxx\")"
   ]
  },
  {
   "cell_type": "code",
   "execution_count": null,
   "metadata": {},
   "outputs": [],
   "source": [
    "# 関数色々\n",
    "def 挨拶をつくる関数(名前引数):\n",
    "    return \"こんにちは、\"+名前引数+\"です\""
   ]
  },
  {
   "cell_type": "markdown",
   "metadata": {},
   "source": [
    "## 繰り返しについて\n",
    "繰り返しとは、「xxx」などの「xxx」それぞれに処理をすることです。"
   ]
  },
  {
   "cell_type": "code",
   "execution_count": null,
   "metadata": {},
   "outputs": [],
   "source": [
    "名前 = \"xxxx\"\n",
    "名前リスト = [\"xxxx\", \"yyyy\", \"zzzz\"]\n",
    "for 名前 in 名前リスト:\n",
    "    print(挨拶をつくる関数(名前))"
   ]
  },
  {
   "cell_type": "markdown",
   "metadata": {},
   "source": [
    "## 分岐について\n",
    "分岐とは、「xxx」に応じて「xxx」が変わることです。  "
   ]
  },
  {
   "cell_type": "code",
   "execution_count": null,
   "metadata": {},
   "outputs": [],
   "source": [
    "名前リスト = [\"xxxx\", \"yyyy\", \"zzzz\"]\n",
    "for 名前 in 名前リスト:\n",
    "    if 名前 == \"yyyy\":\n",
    "        print(挨拶をつくる関数(名前))"
   ]
  }
 ],
 "metadata": {
  "kernelspec": {
   "display_name": "Python 3",
   "language": "python",
   "name": "python3"
  },
  "language_info": {
   "codemirror_mode": {
    "name": "ipython",
    "version": 3
   },
   "file_extension": ".py",
   "mimetype": "text/x-python",
   "name": "python",
   "nbconvert_exporter": "python",
   "pygments_lexer": "ipython3",
   "version": "3.11.8"
  }
 },
 "nbformat": 4,
 "nbformat_minor": 2
}

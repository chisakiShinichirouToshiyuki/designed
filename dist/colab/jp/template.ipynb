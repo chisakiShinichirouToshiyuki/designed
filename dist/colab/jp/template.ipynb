{
 "cells": [
  {
   "cell_type": "code",
   "execution_count": null,
   "metadata": {},
   "outputs": [],
   "source": [
    "! git clone https://github.com/chisakiShinichirouToshiyuki/designed.git"
   ]
  },
  {
   "cell_type": "code",
   "execution_count": null,
   "metadata": {},
   "outputs": [],
   "source": [
    "!pip install sympy==1.11.1\n",
    "!pip install jedi>=0.16\n",
    "!pip install setuptools>65.5.1\n",
    "!pip install spb==0.1.1\n",
    "!pip install seaborn==0.12.2\n",
    "!pip install japanize_matplotlib==1.1.3\n",
    "!pip install colorama==0.4.6"
   ]
  },
  {
   "cell_type": "code",
   "execution_count": 3,
   "metadata": {},
   "outputs": [],
   "source": [
    "from __future__ import annotations\n",
    "from typing import Union \n",
    "from typing import TYPE_CHECKING\n",
    "from pprint import pprint\n",
    "import sympy\n",
    "from typing import Literal, cast\n",
    "# import math\n",
    "from typing import Union\n",
    "import re\n",
    "from matplotlib_venn import venn2 # type: ignore\n",
    "from matplotlib_venn import venn3 # type: ignore\n",
    "import matplotlib.pyplot as plt\n",
    "from typing import NamedTuple, TypedDict\n",
    "import traceback\n",
    "import sympy # type: ignore\n",
    "from sympy import var # type: ignore\n",
    "from spb import * # type: ignore # SymPy Plotting Module \n",
    "import matplotlib.pyplot as plt\n",
    "import seaborn as sns# type: ignore\n",
    "import numpy as np\n",
    "from designed.dist.colab.jp.module.designed2 import 方程式ずクラス\n",
    "from designed.dist.colab.jp.module.designed2 import 証明クラス\n",
    "from designed.dist.colab.jp.module.designed2 import 方程式クラス\n",
    "from designed.dist.colab.jp.module.designed2 import 方程式_2dクラス\n",
    "from designed.dist.colab.jp.module.designed2 import 不等式クラス\n",
    "from designed.dist.colab.jp.module.designed2 import 不等式_v1クラス\n",
    "from designed.dist.colab.jp.module.designed2 import 不等式_v2クラス\n",
    "from designed.dist.colab.jp.module.designed2 import 複合条件クラス\n",
    "from designed.dist.colab.jp.module.designed2 import 自然数ペアクラス\n",
    "from designed.dist.colab.jp.module.designed2 import 解ずクラス\n",
    "from designed.dist.colab.jp.module.designed2 import 複合条件_v1クラス\n",
    "from designed.dist.colab.jp.module.designed2 import 複合条件_v2クラス\n",
    "from designed.dist.colab.jp.module.designed2 import 式クラス\n",
    "from designed.dist.colab.jp.module.designed2 import 有限小数クラス\n",
    "from designed.dist.colab.jp.module.designed2 import 整数クラス\n",
    "from designed.dist.colab.jp.module.designed2 import 分数クラス\n",
    "from designed.dist.colab.jp.module.designed2 import テーブルクラス\n",
    "from designed.dist.colab.jp.module.designed2 import 図形クラス\n",
    "from designed.dist.colab.jp.module.designed2 import 座標クラス\n",
    "from designed.dist.colab.jp.module.designed2 import 抽象木クラス\n",
    "from designed.dist.colab.jp.module.designed2 import 数理的真偽クラス\n",
    "from designed.dist.colab.jp.module.designed2 import 関係コンテンツクラス\n",
    "from designed.dist.colab.jp.module.designed2 import ベクトル方程式クラス\n",
    "from designed.dist.colab.jp.module.designed2 import 数理的命題クラス\n",
    "from designed.dist.colab.jp.module.designed2 import 定義式クラス\n",
    "from designed.dist.colab.jp.module.designed2 import ベクトルクラス\n",
    "from designed.dist.colab.jp.module.designed2 import 方程式ずクラス\n",
    "from designed.dist.colab.jp.module.designed2 import 説明式クラス\n",
    "from designed.dist.colab.jp.module.designed2 import ベクトル解ずクラス\n",
    "from designed.dist.colab.jp.module.designed2 import 図形登録クラス\n",
    "from designed.dist.colab.jp.module.designed2 import ベン図登録クラス\n",
    "from designed.dist.colab.jp.module.designed2 import 章クラス\n",
    "from designed.dist.colab.jp.module.py_utils import Utils as py_utils\n",
    "from IPython.display import display, Markdown, Latex # type: ignore\n",
    "import pandas as pd\n",
    "import japanize_matplotlib # type: ignore\n",
    "import fractions \n",
    "import random\n",
    "import copy\n",
    "from copy import deepcopy\n",
    "import sys\n",
    "\n",
    "sympy.init_printing(scale=10) # type: ignore"
   ]
  },
  {
   "attachments": {},
   "cell_type": "markdown",
   "metadata": {},
   "source": [
    "### 自然数mとnが互いに素ならば、$3*m+n$と$7*m+2*n$も互いに素である。"
   ]
  },
  {
   "cell_type": "code",
   "execution_count": 6,
   "metadata": {},
   "outputs": [
    {
     "data": {
      "text/markdown": [
       "------ 証明開始 ------"
      ],
      "text/plain": [
       "<IPython.core.display.Markdown object>"
      ]
     },
     "metadata": {},
     "output_type": "display_data"
    },
    {
     "data": {
      "text/markdown": [
       "&emsp;&emsp;------ ユークリッドの互除法 ------"
      ],
      "text/plain": [
       "<IPython.core.display.Markdown object>"
      ]
     },
     "metadata": {},
     "output_type": "display_data"
    },
    {
     "data": {
      "text/markdown": [
       "&emsp;&emsp;$GCD($&nbsp;$\\displaystyle 3 m + n$&nbsp;$,$&nbsp;$\\displaystyle 7 m + 2 n$&nbsp;$)$ &nbsp; $=$ &nbsp;$GCD($&nbsp;$\\displaystyle 3 m + n$&nbsp;$ , $&nbsp;$\\displaystyle m$&nbsp;$)$"
      ],
      "text/plain": [
       "<IPython.core.display.Markdown object>"
      ]
     },
     "metadata": {},
     "output_type": "display_data"
    },
    {
     "data": {
      "text/markdown": [
       "&emsp;&emsp;$GCD($&nbsp;$\\displaystyle 3 m + n$&nbsp;$,$&nbsp;$\\displaystyle 7 m + 2 n$&nbsp;$)$ &nbsp; $=$ &nbsp;$GCD($&nbsp;$\\displaystyle n$&nbsp;$ , $&nbsp;$\\displaystyle m$&nbsp;$)$"
      ],
      "text/plain": [
       "<IPython.core.display.Markdown object>"
      ]
     },
     "metadata": {},
     "output_type": "display_data"
    },
    {
     "data": {
      "text/markdown": [
       "&emsp;&emsp;$GCD($ &nbsp;$\\displaystyle 3 m + n$&nbsp;, &nbsp;$\\displaystyle 7 m + 2 n$&nbsp;) $=$ &nbsp;$\\displaystyle 1$&nbsp;"
      ],
      "text/plain": [
       "<IPython.core.display.Markdown object>"
      ]
     },
     "metadata": {},
     "output_type": "display_data"
    },
    {
     "data": {
      "text/markdown": [
       "<span></span>"
      ],
      "text/plain": [
       "<IPython.core.display.Markdown object>"
      ]
     },
     "metadata": {},
     "output_type": "display_data"
    },
    {
     "data": {
      "text/markdown": [
       "∴ 互いに素である。"
      ],
      "text/plain": [
       "<IPython.core.display.Markdown object>"
      ]
     },
     "metadata": {},
     "output_type": "display_data"
    },
    {
     "data": {
      "text/markdown": [
       "------ 証明終了 ------"
      ],
      "text/plain": [
       "<IPython.core.display.Markdown object>"
      ]
     },
     "metadata": {},
     "output_type": "display_data"
    }
   ],
   "source": [
    "def proof_01():\n",
    "    証明 = 証明クラス()\n",
    "    m, n = 証明.作成する_変数(['m', 'n'], {'integer': True, 'positive': True})\n",
    "    ペア = 自然数ペアクラス(証明, (3*m+n, 7*m+2*n), 互いに素なペア=[(m, n)])\n",
    "    結果 = ペア.最大公約数\n",
    "    assert 結果 == 1\n",
    "    # Explain\n",
    "    証明\\\n",
    "        .追加する_説明(ペア.最大公約数の履歴)\\\n",
    "        .追加する_説明('∴ 互いに素である。')\\\n",
    "        .表示する_説明()\n",
    "\n",
    "\n",
    "proof_01()\n",
    "\n"
   ]
  },
  {
   "attachments": {},
   "cell_type": "markdown",
   "metadata": {},
   "source": [
    "## 3変数の不定方程式（逆数型）"
   ]
  },
  {
   "attachments": {},
   "cell_type": "markdown",
   "metadata": {},
   "source": [
    "### (1)\n",
    "#### $x \\leq 3$であることを示せ"
   ]
  },
  {
   "cell_type": "code",
   "execution_count": null,
   "metadata": {},
   "outputs": [],
   "source": [
    "def proof_02_01():\n",
    "    証明 = 証明クラス()\n",
    "    x,y,z = 証明.作成する_変数ず('x,y,z', {'integer':True, 'positive':True})\n",
    "    左辺 = 1/x+1/y+1/z\n",
    "    右辺 = 整数クラス(証明,1)\n",
    "    左辺_min = 左辺.代入する({'y':'x', 'z':'x'})\n",
    "    左辺_max = 左辺.代入する({'y':'z', 'x':'z'})\n",
    "    x_不等式 = 不等式_v1クラス(証明, (右辺, 左辺_min))\n",
    "    x_min2=x_不等式\n",
    "    期待結果 = (x<=3)\n",
    "    # Explain\n",
    "    証明.追加する_説明('変数の大小関係より、')\n",
    "    証明.追加する_説明(x_不等式)\n",
    "    証明.追加する_説明(f'よって、{x}は')\n",
    "    証明.追加する_説明(期待結果)\n",
    "    証明.表示する_説明()\n",
    "\n",
    "\n",
    "\n",
    "proof_02_01()"
   ]
  },
  {
   "attachments": {},
   "cell_type": "markdown",
   "metadata": {},
   "source": [
    "### (2)\n",
    "#### 自然数$x,y,z$の組を求めよ"
   ]
  },
  {
   "cell_type": "code",
   "execution_count": 7,
   "metadata": {},
   "outputs": [
    {
     "data": {
      "text/markdown": [
       "------ 証明開始 ------"
      ],
      "text/plain": [
       "<IPython.core.display.Markdown object>"
      ]
     },
     "metadata": {},
     "output_type": "display_data"
    },
    {
     "data": {
      "text/markdown": [
       "&emsp;&emsp;------ 対称式の不定方程式の解 ------"
      ],
      "text/plain": [
       "<IPython.core.display.Markdown object>"
      ]
     },
     "metadata": {},
     "output_type": "display_data"
    },
    {
     "data": {
      "text/markdown": [
       "&emsp;&emsp;変数の大小関係より、"
      ],
      "text/plain": [
       "<IPython.core.display.Markdown object>"
      ]
     },
     "metadata": {},
     "output_type": "display_data"
    },
    {
     "data": {
      "text/markdown": [
       "&emsp;&emsp; $\\displaystyle 1 \\leq \\frac{3}{x} $ &nbsp;"
      ],
      "text/plain": [
       "<IPython.core.display.Markdown object>"
      ]
     },
     "metadata": {},
     "output_type": "display_data"
    },
    {
     "data": {
      "text/markdown": [
       "&emsp;&emsp;&#8756;&nbsp;&nbsp;$\\displaystyle x$&nbsp; $=$ &nbsp;$\\displaystyle 1$&nbsp;, &nbsp;$\\displaystyle 2$&nbsp;, &nbsp;$\\displaystyle 3$&nbsp;"
      ],
      "text/plain": [
       "<IPython.core.display.Markdown object>"
      ]
     },
     "metadata": {},
     "output_type": "display_data"
    },
    {
     "data": {
      "text/markdown": [
       "&emsp;&emsp;&emsp;&emsp;------ &nbsp;$\\displaystyle x$&nbsp; $=$ &nbsp;$\\displaystyle 1$&nbsp;のとき ------"
      ],
      "text/plain": [
       "<IPython.core.display.Markdown object>"
      ]
     },
     "metadata": {},
     "output_type": "display_data"
    },
    {
     "data": {
      "text/markdown": [
       "&emsp;&emsp;&emsp;&emsp;変数の大小関係より、"
      ],
      "text/plain": [
       "<IPython.core.display.Markdown object>"
      ]
     },
     "metadata": {},
     "output_type": "display_data"
    },
    {
     "data": {
      "text/markdown": [
       "&emsp;&emsp;&emsp;&emsp; $\\displaystyle 1 \\leq 1 + \\frac{2}{y} $ &nbsp;"
      ],
      "text/plain": [
       "<IPython.core.display.Markdown object>"
      ]
     },
     "metadata": {},
     "output_type": "display_data"
    },
    {
     "data": {
      "text/markdown": [
       "&emsp;&emsp;&emsp;&emsp;解なし"
      ],
      "text/plain": [
       "<IPython.core.display.Markdown object>"
      ]
     },
     "metadata": {},
     "output_type": "display_data"
    },
    {
     "data": {
      "text/markdown": [
       "<span></span>"
      ],
      "text/plain": [
       "<IPython.core.display.Markdown object>"
      ]
     },
     "metadata": {},
     "output_type": "display_data"
    },
    {
     "data": {
      "text/markdown": [
       "&emsp;&emsp;&emsp;&emsp;------ &nbsp;$\\displaystyle x$&nbsp; $=$ &nbsp;$\\displaystyle 2$&nbsp;のとき ------"
      ],
      "text/plain": [
       "<IPython.core.display.Markdown object>"
      ]
     },
     "metadata": {},
     "output_type": "display_data"
    },
    {
     "data": {
      "text/markdown": [
       "&emsp;&emsp;&emsp;&emsp;変数の大小関係より、"
      ],
      "text/plain": [
       "<IPython.core.display.Markdown object>"
      ]
     },
     "metadata": {},
     "output_type": "display_data"
    },
    {
     "data": {
      "text/markdown": [
       "&emsp;&emsp;&emsp;&emsp; $\\displaystyle 1 \\leq \\frac{1}{2} + \\frac{2}{y} $ &nbsp;"
      ],
      "text/plain": [
       "<IPython.core.display.Markdown object>"
      ]
     },
     "metadata": {},
     "output_type": "display_data"
    },
    {
     "data": {
      "text/markdown": [
       "&emsp;&emsp;&emsp;&emsp;&#8756;&nbsp;&nbsp;$\\displaystyle y$&nbsp; $=$ &nbsp;$\\displaystyle 1$&nbsp;, &nbsp;$\\displaystyle 2$&nbsp;, &nbsp;$\\displaystyle 3$&nbsp;, &nbsp;$\\displaystyle 4$&nbsp;"
      ],
      "text/plain": [
       "<IPython.core.display.Markdown object>"
      ]
     },
     "metadata": {},
     "output_type": "display_data"
    },
    {
     "data": {
      "text/markdown": [
       "&emsp;&emsp;&emsp;&emsp;&emsp;&emsp;------ &nbsp;$\\displaystyle y$&nbsp; $=$ &nbsp;$\\displaystyle 1$&nbsp;のとき ------"
      ],
      "text/plain": [
       "<IPython.core.display.Markdown object>"
      ]
     },
     "metadata": {},
     "output_type": "display_data"
    },
    {
     "data": {
      "text/markdown": [
       "&emsp;&emsp;&emsp;&emsp;&emsp;&emsp;解なし"
      ],
      "text/plain": [
       "<IPython.core.display.Markdown object>"
      ]
     },
     "metadata": {},
     "output_type": "display_data"
    },
    {
     "data": {
      "text/markdown": [
       "<span></span>"
      ],
      "text/plain": [
       "<IPython.core.display.Markdown object>"
      ]
     },
     "metadata": {},
     "output_type": "display_data"
    },
    {
     "data": {
      "text/markdown": [
       "&emsp;&emsp;&emsp;&emsp;&emsp;&emsp;------ &nbsp;$\\displaystyle y$&nbsp; $=$ &nbsp;$\\displaystyle 2$&nbsp;のとき ------"
      ],
      "text/plain": [
       "<IPython.core.display.Markdown object>"
      ]
     },
     "metadata": {},
     "output_type": "display_data"
    },
    {
     "data": {
      "text/markdown": [
       "&emsp;&emsp;&emsp;&emsp;&emsp;&emsp;解なし"
      ],
      "text/plain": [
       "<IPython.core.display.Markdown object>"
      ]
     },
     "metadata": {},
     "output_type": "display_data"
    },
    {
     "data": {
      "text/markdown": [
       "<span></span>"
      ],
      "text/plain": [
       "<IPython.core.display.Markdown object>"
      ]
     },
     "metadata": {},
     "output_type": "display_data"
    },
    {
     "data": {
      "text/markdown": [
       "&emsp;&emsp;&emsp;&emsp;&emsp;&emsp;------ &nbsp;$\\displaystyle y$&nbsp; $=$ &nbsp;$\\displaystyle 3$&nbsp;のとき ------"
      ],
      "text/plain": [
       "<IPython.core.display.Markdown object>"
      ]
     },
     "metadata": {},
     "output_type": "display_data"
    },
    {
     "data": {
      "text/markdown": [
       "&emsp;&emsp;&emsp;&emsp;&emsp;&emsp;よって、&nbsp;$\\displaystyle z$&nbsp; $=$ &nbsp;$\\displaystyle 6$&nbsp;"
      ],
      "text/plain": [
       "<IPython.core.display.Markdown object>"
      ]
     },
     "metadata": {},
     "output_type": "display_data"
    },
    {
     "data": {
      "text/markdown": [
       "<span></span>"
      ],
      "text/plain": [
       "<IPython.core.display.Markdown object>"
      ]
     },
     "metadata": {},
     "output_type": "display_data"
    },
    {
     "data": {
      "text/markdown": [
       "&emsp;&emsp;&emsp;&emsp;&emsp;&emsp;------ &nbsp;$\\displaystyle y$&nbsp; $=$ &nbsp;$\\displaystyle 4$&nbsp;のとき ------"
      ],
      "text/plain": [
       "<IPython.core.display.Markdown object>"
      ]
     },
     "metadata": {},
     "output_type": "display_data"
    },
    {
     "data": {
      "text/markdown": [
       "&emsp;&emsp;&emsp;&emsp;&emsp;&emsp;よって、&nbsp;$\\displaystyle z$&nbsp; $=$ &nbsp;$\\displaystyle 4$&nbsp;"
      ],
      "text/plain": [
       "<IPython.core.display.Markdown object>"
      ]
     },
     "metadata": {},
     "output_type": "display_data"
    },
    {
     "data": {
      "text/markdown": [
       "<span></span>"
      ],
      "text/plain": [
       "<IPython.core.display.Markdown object>"
      ]
     },
     "metadata": {},
     "output_type": "display_data"
    },
    {
     "data": {
      "text/markdown": [
       "&emsp;&emsp;&emsp;&emsp;------ &nbsp;$\\displaystyle x$&nbsp; $=$ &nbsp;$\\displaystyle 3$&nbsp;のとき ------"
      ],
      "text/plain": [
       "<IPython.core.display.Markdown object>"
      ]
     },
     "metadata": {},
     "output_type": "display_data"
    },
    {
     "data": {
      "text/markdown": [
       "&emsp;&emsp;&emsp;&emsp;変数の大小関係より、"
      ],
      "text/plain": [
       "<IPython.core.display.Markdown object>"
      ]
     },
     "metadata": {},
     "output_type": "display_data"
    },
    {
     "data": {
      "text/markdown": [
       "&emsp;&emsp;&emsp;&emsp; $\\displaystyle 1 \\leq \\frac{1}{3} + \\frac{2}{y} $ &nbsp;"
      ],
      "text/plain": [
       "<IPython.core.display.Markdown object>"
      ]
     },
     "metadata": {},
     "output_type": "display_data"
    },
    {
     "data": {
      "text/markdown": [
       "&emsp;&emsp;&emsp;&emsp;&#8756;&nbsp;&nbsp;$\\displaystyle y$&nbsp; $=$ &nbsp;$\\displaystyle 1$&nbsp;, &nbsp;$\\displaystyle 2$&nbsp;, &nbsp;$\\displaystyle 3$&nbsp;"
      ],
      "text/plain": [
       "<IPython.core.display.Markdown object>"
      ]
     },
     "metadata": {},
     "output_type": "display_data"
    },
    {
     "data": {
      "text/markdown": [
       "&emsp;&emsp;&emsp;&emsp;&emsp;&emsp;------ &nbsp;$\\displaystyle y$&nbsp; $=$ &nbsp;$\\displaystyle 1$&nbsp;のとき ------"
      ],
      "text/plain": [
       "<IPython.core.display.Markdown object>"
      ]
     },
     "metadata": {},
     "output_type": "display_data"
    },
    {
     "data": {
      "text/markdown": [
       "&emsp;&emsp;&emsp;&emsp;&emsp;&emsp;解なし"
      ],
      "text/plain": [
       "<IPython.core.display.Markdown object>"
      ]
     },
     "metadata": {},
     "output_type": "display_data"
    },
    {
     "data": {
      "text/markdown": [
       "<span></span>"
      ],
      "text/plain": [
       "<IPython.core.display.Markdown object>"
      ]
     },
     "metadata": {},
     "output_type": "display_data"
    },
    {
     "data": {
      "text/markdown": [
       "&emsp;&emsp;&emsp;&emsp;&emsp;&emsp;------ &nbsp;$\\displaystyle y$&nbsp; $=$ &nbsp;$\\displaystyle 2$&nbsp;のとき ------"
      ],
      "text/plain": [
       "<IPython.core.display.Markdown object>"
      ]
     },
     "metadata": {},
     "output_type": "display_data"
    },
    {
     "data": {
      "text/markdown": [
       "&emsp;&emsp;&emsp;&emsp;&emsp;&emsp;よって、&nbsp;$\\displaystyle z$&nbsp; $=$ &nbsp;$\\displaystyle 6$&nbsp;"
      ],
      "text/plain": [
       "<IPython.core.display.Markdown object>"
      ]
     },
     "metadata": {},
     "output_type": "display_data"
    },
    {
     "data": {
      "text/markdown": [
       "<span></span>"
      ],
      "text/plain": [
       "<IPython.core.display.Markdown object>"
      ]
     },
     "metadata": {},
     "output_type": "display_data"
    },
    {
     "data": {
      "text/markdown": [
       "&emsp;&emsp;&emsp;&emsp;&emsp;&emsp;------ &nbsp;$\\displaystyle y$&nbsp; $=$ &nbsp;$\\displaystyle 3$&nbsp;のとき ------"
      ],
      "text/plain": [
       "<IPython.core.display.Markdown object>"
      ]
     },
     "metadata": {},
     "output_type": "display_data"
    },
    {
     "data": {
      "text/markdown": [
       "&emsp;&emsp;&emsp;&emsp;&emsp;&emsp;よって、&nbsp;$\\displaystyle z$&nbsp; $=$ &nbsp;$\\displaystyle 3$&nbsp;"
      ],
      "text/plain": [
       "<IPython.core.display.Markdown object>"
      ]
     },
     "metadata": {},
     "output_type": "display_data"
    },
    {
     "data": {
      "text/markdown": [
       "<span></span>"
      ],
      "text/plain": [
       "<IPython.core.display.Markdown object>"
      ]
     },
     "metadata": {},
     "output_type": "display_data"
    },
    {
     "data": {
      "text/markdown": [
       "数の大小関係を考慮すると、"
      ],
      "text/plain": [
       "<IPython.core.display.Markdown object>"
      ]
     },
     "metadata": {},
     "output_type": "display_data"
    },
    {
     "data": {
      "text/markdown": [
       " $\\displaystyle \\left[\\begin{matrix}y\\\\z\\\\x\\end{matrix}\\right]$&nbsp; $=$ &nbsp;$\\displaystyle \\left[\\begin{matrix}3\\\\6\\\\2\\end{matrix}\\right]$&nbsp;, &nbsp;$\\displaystyle \\left[\\begin{matrix}4\\\\4\\\\2\\end{matrix}\\right]$&nbsp;, &nbsp;$\\displaystyle \\left[\\begin{matrix}3\\\\3\\\\3\\end{matrix}\\right]$&nbsp;"
      ],
      "text/plain": [
       "<IPython.core.display.Markdown object>"
      ]
     },
     "metadata": {},
     "output_type": "display_data"
    },
    {
     "data": {
      "text/markdown": [
       "------ 証明終了 ------"
      ],
      "text/plain": [
       "<IPython.core.display.Markdown object>"
      ]
     },
     "metadata": {},
     "output_type": "display_data"
    }
   ],
   "source": [
    "def proof_02_02():\n",
    "    証明 = 証明クラス()\n",
    "    x,y,z = 証明.作成する_変数(['x','y','z'], {'integer':True})\n",
    "    与式 = (1/x+1/y+1/z==1) >> 方程式クラス\n",
    "    結果 = 与式.不定方程式を解く_対称型( ['x', 'y', 'z'])\n",
    "    assert 結果 is not None\n",
    "    証明.挿入する_章('不定方程式を解く_対称型')\\\n",
    "        .追加する_説明('数の大小関係を考慮すると、')\\\n",
    "        .追加する_説明(結果)\\\n",
    "        .表示する_説明()\n",
    "\n",
    "\n",
    "proof_02_02()\n"
   ]
  },
  {
   "attachments": {},
   "cell_type": "markdown",
   "metadata": {},
   "source": [
    "## 2次以上の不定方程式（分解型） \n",
    "### $xy+2x+3y=0$を満たす整数$x,y$の組を求めよ"
   ]
  },
  {
   "cell_type": "code",
   "execution_count": 8,
   "metadata": {},
   "outputs": [
    {
     "data": {
      "text/markdown": [
       "------ 証明開始 ------"
      ],
      "text/plain": [
       "<IPython.core.display.Markdown object>"
      ]
     },
     "metadata": {},
     "output_type": "display_data"
    },
    {
     "data": {
      "text/markdown": [
       "&emsp;&emsp;------ １次２変数の不定方程式(分解型)の解 ------"
      ],
      "text/plain": [
       "<IPython.core.display.Markdown object>"
      ]
     },
     "metadata": {},
     "output_type": "display_data"
    },
    {
     "data": {
      "text/markdown": [
       "&emsp;&emsp;与式を変形すると、"
      ],
      "text/plain": [
       "<IPython.core.display.Markdown object>"
      ]
     },
     "metadata": {},
     "output_type": "display_data"
    },
    {
     "data": {
      "text/markdown": [
       "&emsp;&emsp;$\\displaystyle \\left(x + 3\\right) \\left(y + 2\\right)$&nbsp; $=$ &nbsp;$\\displaystyle 6$&nbsp;"
      ],
      "text/plain": [
       "<IPython.core.display.Markdown object>"
      ]
     },
     "metadata": {},
     "output_type": "display_data"
    },
    {
     "data": {
      "text/markdown": [
       "&emsp;&emsp;&nbsp;$\\displaystyle x$&nbsp;,&nbsp;$\\displaystyle y$&nbsp;は、整数なので、下記が成り立つ"
      ],
      "text/plain": [
       "<IPython.core.display.Markdown object>"
      ]
     },
     "metadata": {},
     "output_type": "display_data"
    },
    {
     "data": {
      "text/markdown": [
       "&emsp;&emsp; $\\displaystyle \\left[\\begin{matrix}y + 2\\\\x + 3\\end{matrix}\\right]$&nbsp; $=$ &nbsp;$\\displaystyle \\left[\\begin{matrix}-3\\\\-2\\end{matrix}\\right]$&nbsp;, &nbsp;$\\displaystyle \\left[\\begin{matrix}6\\\\1\\end{matrix}\\right]$&nbsp;, &nbsp;$\\displaystyle \\left[\\begin{matrix}-6\\\\-1\\end{matrix}\\right]$&nbsp;, &nbsp;$\\displaystyle \\left[\\begin{matrix}-2\\\\-3\\end{matrix}\\right]$&nbsp;, &nbsp;$\\displaystyle \\left[\\begin{matrix}-1\\\\-6\\end{matrix}\\right]$&nbsp;, &nbsp;$\\displaystyle \\left[\\begin{matrix}2\\\\3\\end{matrix}\\right]$&nbsp;, &nbsp;$\\displaystyle \\left[\\begin{matrix}1\\\\6\\end{matrix}\\right]$&nbsp;, &nbsp;$\\displaystyle \\left[\\begin{matrix}3\\\\2\\end{matrix}\\right]$&nbsp;"
      ],
      "text/plain": [
       "<IPython.core.display.Markdown object>"
      ]
     },
     "metadata": {},
     "output_type": "display_data"
    },
    {
     "data": {
      "text/markdown": [
       "&emsp;&emsp;よって、"
      ],
      "text/plain": [
       "<IPython.core.display.Markdown object>"
      ]
     },
     "metadata": {},
     "output_type": "display_data"
    },
    {
     "data": {
      "text/markdown": [
       "&emsp;&emsp; $\\displaystyle \\left[\\begin{matrix}y\\\\x\\end{matrix}\\right]$&nbsp; $=$ &nbsp;$\\displaystyle \\left[\\begin{matrix}-5\\\\-5\\end{matrix}\\right]$&nbsp;, &nbsp;$\\displaystyle \\left[\\begin{matrix}4\\\\-2\\end{matrix}\\right]$&nbsp;, &nbsp;$\\displaystyle \\left[\\begin{matrix}-8\\\\-4\\end{matrix}\\right]$&nbsp;, &nbsp;$\\displaystyle \\left[\\begin{matrix}-4\\\\-6\\end{matrix}\\right]$&nbsp;, &nbsp;$\\displaystyle \\left[\\begin{matrix}-3\\\\-9\\end{matrix}\\right]$&nbsp;, &nbsp;$\\displaystyle \\left[\\begin{matrix}0\\\\0\\end{matrix}\\right]$&nbsp;, &nbsp;$\\displaystyle \\left[\\begin{matrix}-1\\\\3\\end{matrix}\\right]$&nbsp;, &nbsp;$\\displaystyle \\left[\\begin{matrix}1\\\\-1\\end{matrix}\\right]$&nbsp;"
      ],
      "text/plain": [
       "<IPython.core.display.Markdown object>"
      ]
     },
     "metadata": {},
     "output_type": "display_data"
    },
    {
     "data": {
      "text/markdown": [
       "<span></span>"
      ],
      "text/plain": [
       "<IPython.core.display.Markdown object>"
      ]
     },
     "metadata": {},
     "output_type": "display_data"
    },
    {
     "data": {
      "text/markdown": [
       "------ 証明終了 ------"
      ],
      "text/plain": [
       "<IPython.core.display.Markdown object>"
      ]
     },
     "metadata": {},
     "output_type": "display_data"
    }
   ],
   "source": [
    "def proof_03():\n",
    "    証明 = 証明クラス()\n",
    "    x,y = 証明.作成する_変数ず('x y', {'integer': True})\n",
    "    式 = (x*y+2*x+3*y == 0) >> 方程式クラス\n",
    "    式.不定方程式を解く_d1_v2_分解型()\n",
    "    証明.挿入する_章('不定方程式を解く_d1_v2_分解型')\n",
    "    証明.表示する_説明()\n",
    "\n",
    "proof_03()"
   ]
  },
  {
   "attachments": {},
   "cell_type": "markdown",
   "metadata": {},
   "source": [
    "## 和と積の比較\n",
    "### $n$を正の整数とする。実数$x,y,z$に対する方程式\n",
    "### $x^n+y^n+z^n=xyz$...{1}\n",
    "### を考える"
   ]
  },
  {
   "attachments": {},
   "cell_type": "markdown",
   "metadata": {},
   "source": [
    "### (1)\n",
    "#### $n=1$のとき、{1}を満たす正の整数$(x,y,z)$で、$x\\leq y \\leq z$となるものを全て求めよ"
   ]
  },
  {
   "cell_type": "code",
   "execution_count": 9,
   "metadata": {},
   "outputs": [
    {
     "data": {
      "image/png": "[encoded data removed]",
      "text/plain": [
       "<Figure size 2000x1000 with 6 Axes>"
      ]
     },
     "metadata": {},
     "output_type": "display_data"
    },
    {
     "data": {
      "text/markdown": [
       "------ 証明開始 ------"
      ],
      "text/plain": [
       "<IPython.core.display.Markdown object>"
      ]
     },
     "metadata": {},
     "output_type": "display_data"
    },
    {
     "data": {
      "text/markdown": [
       "&emsp;&emsp;------ 不定方程式の解の範囲 ------"
      ],
      "text/plain": [
       "<IPython.core.display.Markdown object>"
      ]
     },
     "metadata": {},
     "output_type": "display_data"
    },
    {
     "data": {
      "text/markdown": [
       "&emsp;&emsp;<span style=\"opacity: 0\">━</span>$3 x \\leq z^{3} \\wedge x^{3} \\leq 3 z \\wedge x^{3} \\leq x + y + z \\wedge x y - 3 \\leq 0 \\wedge y z - 3 \\leq 0 \\wedge x + y + z \\leq z^{3}$<br>&emsp;&emsp;<span style=\"opacity: 0\">━</span><span style=\"opacity: 0\">━</span><span style=\"opacity: 0\">━</span><span style=\"color: #F4A3A3\">┣</span><span style=\"color: #F4A3A3\">━</span><span style=\"color: #F4A3A3\">━</span><span style=\"color: #F4A3A3\">━</span><span style=\"opacity: 0\">━</span>&#9312;<span style=\"opacity: 0\">━</span>$x + y + z \\leq z^{3}$<br>&emsp;&emsp;<span style=\"opacity: 0\">━</span><span style=\"opacity: 0\">━</span><span style=\"opacity: 0\">━</span><span style=\"color: #F4A3A3\">┣</span><span style=\"color: #F4A3A3\">━</span><span style=\"color: #F4A3A3\">━</span><span style=\"color: #F4A3A3\">━</span><span style=\"opacity: 0\">━</span>&#9313;<span style=\"opacity: 0\">━</span>$x^{3} \\leq x + y + z$<br>&emsp;&emsp;<span style=\"opacity: 0\">━</span><span style=\"opacity: 0\">━</span><span style=\"opacity: 0\">━</span><span style=\"color: #F4A3A3\">┣</span><span style=\"color: #F4A3A3\">━</span><span style=\"color: #F4A3A3\">━</span><span style=\"color: #F4A3A3\">━</span><span style=\"opacity: 0\">━</span>&#9314;<span style=\"opacity: 0\">━</span>$y z - 3 \\leq 0$<br>&emsp;&emsp;<span style=\"opacity: 0\">━</span><span style=\"opacity: 0\">━</span><span style=\"opacity: 0\">━</span><span style=\"color: #F4A3A3\">┣</span><span style=\"color: #F4A3A3\">━</span><span style=\"color: #F4A3A3\">━</span><span style=\"color: #F4A3A3\">━</span><span style=\"opacity: 0\">━</span>&#9315;<span style=\"opacity: 0\">━</span>$x y - 3 \\leq 0$<br>&emsp;&emsp;<span style=\"opacity: 0\">━</span><span style=\"opacity: 0\">━</span><span style=\"opacity: 0\">━</span><span style=\"color: #F4A3A3\">┣</span><span style=\"color: #F4A3A3\">━</span><span style=\"color: #F4A3A3\">━</span><span style=\"color: #F4A3A3\">━</span><span style=\"opacity: 0\">━</span>&#9316;<span style=\"opacity: 0\">━</span>$x^{3} \\leq 3 z$<br>&emsp;&emsp;<span style=\"opacity: 0\">━</span><span style=\"opacity: 0\">━</span><span style=\"opacity: 0\">━</span><span style=\"color: #F4A3A3\">┗</span><span style=\"color: #F4A3A3\">━</span><span style=\"color: #F4A3A3\">━</span><span style=\"color: #F4A3A3\">━</span><span style=\"opacity: 0\">━</span>&#9317;<span style=\"opacity: 0\">━</span>$3 x \\leq z^{3}$<br>&emsp;&emsp;"
      ],
      "text/plain": [
       "<IPython.core.display.Markdown object>"
      ]
     },
     "metadata": {},
     "output_type": "display_data"
    },
    {
     "data": {
      "text/markdown": [
       "<span></span>"
      ],
      "text/plain": [
       "<IPython.core.display.Markdown object>"
      ]
     },
     "metadata": {},
     "output_type": "display_data"
    },
    {
     "data": {
      "text/markdown": [
       "------ 証明終了 ------"
      ],
      "text/plain": [
       "<IPython.core.display.Markdown object>"
      ]
     },
     "metadata": {},
     "output_type": "display_data"
    }
   ],
   "source": [
    "def proof_04_01():\n",
    "    証明 = 証明クラス()\n",
    "    x,y,z = 証明.作成する_変数(['x', 'y', 'z'], {'positive':True})\n",
    "    方程式 = (x+y+z==x*y*z) >> 方程式クラス\n",
    "    方程式.不定方程式を解の範囲を取得する(['x', 'y', 'z'])\n",
    "    証明\\\n",
    "        .挿入する_章('不定方程式を解の範囲を取得する')\\\n",
    "        .表示する_説明()\n",
    "\n",
    "\n",
    "proof_04_01()"
   ]
  },
  {
   "cell_type": "code",
   "execution_count": 10,
   "metadata": {},
   "outputs": [
    {
     "data": {
      "text/markdown": [
       "&nbsp; &nbsp;$\\displaystyle \\left[\\begin{matrix}x\\\\y\\\\z\\end{matrix}\\right]$&nbsp; $=$ &nbsp;$\\displaystyle \\left[\\begin{matrix}1\\\\2\\\\3\\end{matrix}\\right]$&nbsp; &nbsp;"
      ],
      "text/plain": [
       "<IPython.core.display.Markdown object>"
      ]
     },
     "metadata": {},
     "output_type": "display_data"
    },
    {
     "data": {
      "text/markdown": [
       "&nbsp; &nbsp;$\\displaystyle \\left[\\begin{matrix}x\\\\y\\\\z\\end{matrix}\\right]$&nbsp; $=$ &nbsp;$\\displaystyle \\left[\\begin{matrix}1\\\\3\\\\2\\end{matrix}\\right]$&nbsp; &nbsp;"
      ],
      "text/plain": [
       "<IPython.core.display.Markdown object>"
      ]
     },
     "metadata": {},
     "output_type": "display_data"
    }
   ],
   "source": [
    "def proof_04_02():\n",
    "    証明 = 証明クラス()\n",
    "    x,y,z = 証明.作成する_変数ず('x,y,z')\n",
    "    不定方程式 = (x+y+z ==x*y*z) >> 方程式クラス\n",
    "    部分解ず = ベクトル解ずクラス(\n",
    "        証明, [\n",
    "            ベクトル方程式クラス(証明, [\n",
    "                (x==1) >> 方程式クラス, \n",
    "                (y==1) >> 方程式クラス\n",
    "            ]),\n",
    "            ベクトル方程式クラス(証明, [\n",
    "                (x==1) >> 方程式クラス, \n",
    "                (y==2) >> 方程式クラス\n",
    "            ]),\n",
    "            ベクトル方程式クラス(証明, [\n",
    "                (x==1) >> 方程式クラス, \n",
    "                (y==3) >> 方程式クラス\n",
    "            ]),\n",
    "        ]\n",
    "    ) \n",
    "    for 部分解 in 部分解ず:\n",
    "        不定方程式_current = deepcopy(不定方程式)\n",
    "        for eq in 部分解:\n",
    "            不定方程式_current = 不定方程式_current.代入する(eq)\n",
    "        解 = 不定方程式_current.解く('z')\n",
    "        if len(解) == 1: #and 部分解['y'] <= int(z[0].テキスト):\n",
    "            解ず = deepcopy(部分解)\n",
    "            解ず.追加する((z  == 解[0])>>方程式クラス)\n",
    "            解ず.表示する()\n",
    "\n",
    "\n",
    "proof_04_02()"
   ]
  }
 ],
 "metadata": {
  "kernelspec": {
   "display_name": "Python 3",
   "language": "python",
   "name": "python3"
  },
  "language_info": {
   "codemirror_mode": {
    "name": "ipython",
    "version": 3
   },
   "file_extension": ".py",
   "mimetype": "text/x-python",
   "name": "python",
   "nbconvert_exporter": "python",
   "pygments_lexer": "ipython3",
   "version": "3.9.13"
  },
  "orig_nbformat": 4
 },
 "nbformat": 4,
 "nbformat_minor": 2
}

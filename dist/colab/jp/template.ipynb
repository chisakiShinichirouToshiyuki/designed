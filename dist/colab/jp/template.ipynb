{
 "cells": [
  {
   "cell_type": "code",
   "execution_count": null,
   "metadata": {},
   "outputs": [],
   "source": [
    "! git clone https://github.com/chisakiShinichirouToshiyuki/designed.git"
   ]
  },
  {
   "cell_type": "code",
   "execution_count": null,
   "metadata": {},
   "outputs": [],
   "source": [
    "!pip install sympy==1.11.1\n",
    "!pip install jedi>=0.16\n",
    "!pip install setuptools>65.5.1\n",
    "!pip install spb==0.1.1\n",
    "!pip install seaborn==0.12.2\n",
    "!pip install japanize_matplotlib==1.1.3\n",
    "!pip install colorama==0.4.6\n",
    "!pip install colorama==0.4.6"
   ]
  },
  {
   "cell_type": "code",
   "execution_count": null,
   "metadata": {},
   "outputs": [],
   "source": [
    "from __future__ import annotations\n",
    "from typing import Union \n",
    "from typing import TYPE_CHECKING\n",
    "from pprint import pprint\n",
    "import sympy\n",
    "from typing import Literal, cast\n",
    "# import math\n",
    "from typing import Union\n",
    "import re\n",
    "from matplotlib_venn import venn2 # type: ignore\n",
    "from matplotlib_venn import venn3 # type: ignore\n",
    "import matplotlib.pyplot as plt\n",
    "from typing import NamedTuple, TypedDict\n",
    "import traceback\n",
    "import sympy # type: ignore\n",
    "from sympy import var # type: ignore\n",
    "from spb import * # type: ignore # SymPy Plotting Module \n",
    "import matplotlib.pyplot as plt\n",
    "import seaborn as sns# type: ignore\n",
    "import numpy as np\n",
    "from designed.dist.colab.jp.module.designed2 import 方程式ずクラス\n",
    "from designed.dist.colab.jp.module.designed2 import 証明クラス\n",
    "from designed.dist.colab.jp.module.designed2 import 方程式クラス\n",
    "from designed.dist.colab.jp.module.designed2 import 方程式_2dクラス\n",
    "from designed.dist.colab.jp.module.designed2 import 不等式クラス\n",
    "from designed.dist.colab.jp.module.designed2 import 不等式_v1クラス\n",
    "from designed.dist.colab.jp.module.designed2 import 不等式_v2クラス\n",
    "from designed.dist.colab.jp.module.designed2 import 複合条件クラス\n",
    "from designed.dist.colab.jp.module.designed2 import 自然数ペアクラス\n",
    "from designed.dist.colab.jp.module.designed2 import 解ずクラス\n",
    "from designed.dist.colab.jp.module.designed2 import 複合条件_v1クラス\n",
    "from designed.dist.colab.jp.module.designed2 import 複合条件_v2クラス\n",
    "from designed.dist.colab.jp.module.designed2 import 式クラス\n",
    "from designed.dist.colab.jp.module.designed2 import 有限小数クラス\n",
    "from designed.dist.colab.jp.module.designed2 import 整数クラス\n",
    "from designed.dist.colab.jp.module.designed2 import 分数クラス\n",
    "from designed.dist.colab.jp.module.designed2 import テーブルクラス\n",
    "from designed.dist.colab.jp.module.designed2 import 図形クラス\n",
    "from designed.dist.colab.jp.module.designed2 import 座標クラス\n",
    "from designed.dist.colab.jp.module.designed2 import 抽象木クラス\n",
    "from designed.dist.colab.jp.module.designed2 import 数理的真偽クラス\n",
    "from designed.dist.colab.jp.module.designed2 import 関係コンテンツクラス\n",
    "from designed.dist.colab.jp.module.designed2 import ベクトル方程式クラス\n",
    "from designed.dist.colab.jp.module.designed2 import 数理的命題クラス\n",
    "from designed.dist.colab.jp.module.designed2 import 定義式クラス\n",
    "from designed.dist.colab.jp.module.designed2 import ベクトルクラス\n",
    "from designed.dist.colab.jp.module.designed2 import 方程式ずクラス\n",
    "from designed.dist.colab.jp.module.designed2 import 説明式クラス\n",
    "from designed.dist.colab.jp.module.designed2 import ベクトル解ずクラス\n",
    "from designed.dist.colab.jp.module.designed2 import 図形登録クラス\n",
    "from designed.dist.colab.jp.module.designed2 import ベン図登録クラス\n",
    "from designed.dist.colab.jp.module.designed2 import 章クラス\n",
    "from designed.dist.colab.jp.module.py_utils import Utils as py_utils\n",
    "from IPython.display import display, Markdown, Latex # type: ignore\n",
    "import pandas as pd\n",
    "import japanize_matplotlib # type: ignore\n",
    "import fractions \n",
    "import random\n",
    "import copy\n",
    "from copy import deepcopy\n",
    "import sys\n",
    "\n",
    "sympy.init_printing(scale=10) # type: ignore"
   ]
  },
  {
   "attachments": {},
   "cell_type": "markdown",
   "metadata": {},
   "source": [
    "### 自然数mとnが互いに素ならば、$3*m+n$と$7*m+2*n$も互いに素である。"
   ]
  },
  {
   "cell_type": "code",
   "execution_count": null,
   "metadata": {},
   "outputs": [],
   "source": [
    "def proof_01():\n",
    "    証明 = 証明クラス()\n",
    "    m, n = 証明.作成する_変数(['m', 'n'], {'integer': True, 'positive': True})\n",
    "    pair = 自然数ペアクラス(証明, (3*m+n, 7*m+2*n), 互いに素なペア=[(m, n)])\n",
    "    result = pair.最大公約数\n",
    "    assert result == 1\n",
    "    # Explain\n",
    "    証明\\\n",
    "        .追加する_説明(pair.最大公約数の履歴)\\\n",
    "        .追加する_説明('∴ 互いに素である。')\\\n",
    "        .表示する_説明()\n",
    "\n",
    "\n",
    "proof_01()\n",
    "\n"
   ]
  },
  {
   "attachments": {},
   "cell_type": "markdown",
   "metadata": {},
   "source": [
    "## 3変数の不定方程式（逆数型）"
   ]
  },
  {
   "attachments": {},
   "cell_type": "markdown",
   "metadata": {},
   "source": [
    "### (1)\n",
    "#### $x \\leq 3$であることを示せ"
   ]
  },
  {
   "cell_type": "code",
   "execution_count": null,
   "metadata": {},
   "outputs": [],
   "source": [
    "def proof_02_01():\n",
    "    証明 = 証明クラス()\n",
    "    x,y,z = 証明.作成する_変数ず('x,y,z', {'integer':True, 'positive':True})\n",
    "    leftFormula = 1/x+1/y+1/z\n",
    "    rightSide = 整数クラス(証明,1)\n",
    "    leftFormula_min = leftFormula.代入する({'y':'x', 'z':'x'})\n",
    "    leftFormula_max = leftFormula.代入する({'y':'z', 'x':'z'})\n",
    "    x_inequation = 不等式_v1クラス(証明, (rightSide, leftFormula_min))\n",
    "    x_min2=x_inequation\n",
    "    expect = (x<=3)\n",
    "    # assert expect == x_min2 # sympyのbugのためおかしい。バグレポートすみ：https://github.com/sympy/sympy/issues/24626\n",
    "    # Explain\n",
    "    証明.追加する_説明('変数の大小関係より、')\n",
    "    証明.追加する_説明(x_inequation)\n",
    "    証明.追加する_説明(f'よって、{x}は')\n",
    "    証明.追加する_説明(expect)\n",
    "    証明.表示する_説明()\n",
    "\n",
    "\n",
    "\n",
    "proof_02_01()"
   ]
  },
  {
   "attachments": {},
   "cell_type": "markdown",
   "metadata": {},
   "source": [
    "### (2)\n",
    "#### 自然数$x,y,z$の組を求めよ"
   ]
  },
  {
   "cell_type": "code",
   "execution_count": null,
   "metadata": {},
   "outputs": [],
   "source": [
    "def proof_02_02():\n",
    "    証明 = 証明クラス()\n",
    "    # x,y,z = 証明.作成する_変数(['x','y','z'], {'integer':True, 'positive':True})\n",
    "    x,y,z = 証明.作成する_変数(['x','y','z'], {'integer':True})\n",
    "    given_eq = (1/x+1/y+1/z==1) >> 方程式クラス\n",
    "    result = given_eq.不定方程式を解く_対称型( ['x', 'y', 'z'])\n",
    "    assert result is not None\n",
    "    証明.挿入する_章('不定方程式を解く_対称型')\\\n",
    "        .追加する_説明('数の大小関係を考慮すると、')\\\n",
    "        .追加する_説明(result)\\\n",
    "        .表示する_説明()\n",
    "\n",
    "\n",
    "proof_02_02()\n"
   ]
  }
 ],
 "metadata": {
  "language_info": {
   "name": "python"
  },
  "orig_nbformat": 4
 },
 "nbformat": 4,
 "nbformat_minor": 2
}

{
 "cells": [
  {
   "cell_type": "code",
   "execution_count": null,
   "metadata": {},
   "outputs": [],
   "source": [
    "! git clone https://github.com/chisakiShinichirouToshiyuki/designed.git"
   ]
  },
  {
   "cell_type": "code",
   "execution_count": null,
   "metadata": {},
   "outputs": [],
   "source": [
    "!pip install sympy==1.11.1\n",
    "!pip install jedi>=0.16\n",
    "!pip install setuptools>65.5.1\n",
    "!pip install spb==0.1.1\n",
    "!pip install seaborn==0.12.2\n",
    "!pip install japanize_matplotlib==1.1.3\n",
    "!pip install colorama==0.4.6\n",
    "!pip install colorama==0.4.6"
   ]
  },
  {
   "cell_type": "code",
   "execution_count": null,
   "metadata": {},
   "outputs": [],
   "source": [
    "from __future__ import annotations\n",
    "from typing import Union \n",
    "from typing import TYPE_CHECKING\n",
    "from pprint import pprint\n",
    "import sympy\n",
    "from typing import Literal, cast\n",
    "# import math\n",
    "from typing import Union\n",
    "import re\n",
    "from matplotlib_venn import venn2 # type: ignore\n",
    "from matplotlib_venn import venn3 # type: ignore\n",
    "import matplotlib.pyplot as plt\n",
    "from typing import NamedTuple, TypedDict\n",
    "import traceback\n",
    "import sympy # type: ignore\n",
    "from sympy import var # type: ignore\n",
    "from spb import * # type: ignore # SymPy Plotting Module \n",
    "import matplotlib.pyplot as plt\n",
    "import seaborn as sns# type: ignore\n",
    "import numpy as np\n",
    "from test2.dists.colab.en.designed2 import Equations\n",
    "from test2.dists.colab.en.designed2 import Proof\n",
    "from test2.dists.colab.en.designed2 import Equation\n",
    "from test2.dists.colab.en.designed2 import Equation_2d\n",
    "from test2.dists.colab.en.designed2 import Inequation\n",
    "from test2.dists.colab.en.designed2 import Inequation_v1\n",
    "from test2.dists.colab.en.designed2 import Inequation_v2\n",
    "from test2.dists.colab.en.designed2 import ComplexCondition\n",
    "from test2.dists.colab.en.designed2 import NaturalPair\n",
    "from test2.dists.colab.en.designed2 import Solutions\n",
    "from test2.dists.colab.en.designed2 import ComplexCondition_v1\n",
    "from test2.dists.colab.en.designed2 import ComplexCondition_v2\n",
    "from test2.dists.colab.en.designed2 import Formula\n",
    "from test2.dists.colab.en.designed2 import Float\n",
    "from test2.dists.colab.en.designed2 import Integer\n",
    "from test2.dists.colab.en.designed2 import Fraction\n",
    "from test2.dists.colab.en.designed2 import Table\n",
    "from test2.dists.colab.en.designed2 import Figure\n",
    "from test2.dists.colab.en.designed2 import Ax\n",
    "from test2.dists.colab.en.designed2 import Ast\n",
    "from test2.dists.colab.en.designed2 import SymbolicBool\n",
    "from test2.dists.colab.en.designed2 import RelationContent\n",
    "from test2.dists.colab.en.designed2 import VectorEquation\n",
    "from test2.dists.colab.en.designed2 import MathConditional\n",
    "from test2.dists.colab.en.designed2 import DefineEquation\n",
    "from test2.dists.colab.en.designed2 import Vector\n",
    "from test2.dists.colab.en.designed2 import Equations\n",
    "from test2.dists.colab.en.designed2 import ExplainEquation\n",
    "from test2.dists.colab.en.designed2 import VectorSolutions\n",
    "from test2.dists.colab.en.designed2 import FigureReservation\n",
    "from test2.dists.colab.en.designed2 import VenDiagramReservation\n",
    "from test2.dists.colab.en.designed2 import Section\n",
    "from test2.dists.colab.en.py_utils import Utils as py_utils\n",
    "from IPython.display import display, Markdown, Latex # type: ignore\n",
    "import pandas as pd\n",
    "import japanize_matplotlib # type: ignore\n",
    "import fractions \n",
    "import random\n",
    "import copy\n",
    "from copy import deepcopy\n",
    "import sys\n",
    "\n",
    "sympy.init_printing(scale=10) # type: ignore"
   ]
  },
  {
   "attachments": {},
   "cell_type": "markdown",
   "metadata": {},
   "source": [
    "### 自然数mとnが互いに素ならば、$3*m+n$と$7*m+2*n$も互いに素である。"
   ]
  },
  {
   "cell_type": "code",
   "execution_count": null,
   "metadata": {},
   "outputs": [],
   "source": [
    "def proof_01_08_01():\n",
    "    proof = Proof()\n",
    "    m,n = proof.make_variable(['m', 'n'], {'integer':True, 'positive':True})\n",
    "    pair =NaturalPair(proof, (3*m+n, 7*m+2*n), relational_prime_pairs=[(m,n)])\n",
    "    result = pair.gcd\n",
    "    assert result == 1\n",
    "    # Explain\n",
    "    proof\\\n",
    "        .append_explain(pair.gcd_history)\\\n",
    "        .append_explain('∴ 互いに素である。')\\\n",
    "        .display_explain()\n",
    "\n",
    "\n",
    "proof_01_08_01()\n"
   ]
  }
 ],
 "metadata": {
  "language_info": {
   "name": "python"
  },
  "orig_nbformat": 4
 },
 "nbformat": 4,
 "nbformat_minor": 2
}

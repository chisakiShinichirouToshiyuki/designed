{
 "cells": [
  {
   "cell_type": "markdown",
   "metadata": {},
   "source": [
    "# designED  \n",
    "## designEDってなに？  \n",
    "designEDは、デザインされた(designed)教育(ED)で、学びをアップデートするアプリです。  \n",
    "より具体的には、プログラマーの秘密道具を使って、楽して大学に合格しちゃうアプリです。  \n",
    "このアプリは、2023/12/06現在、大学受験-数学-整数論の参考書に相当する機能を提供します。\n",
    "\n",
    "---\n",
    "\n",
    "## 誰のためのアプリ？\n",
    "### あなたのためのアプリです😄！\n",
    "- 「有能な怠け者」のあなた\n",
    "- 「プログラミングスキルはあるけど、苦労して受験勉強したくない高校生」のあなた\n",
    "- 「理解力が高い中学生」のあなた\n",
    "- 「特殊な技能をつけて、高単価なバイトをしたい大学生」のあなた\n",
    "- 「プログラミングを覚えたい」あなた\n",
    "- 「子供の受験サポートのために、自分も学びたい親」のあなた\n",
    "\n",
    "---\n",
    " \n",
    "## 何の役に立つの？\n",
    "|できます|できません / 興味がありません|\n",
    "|:---|:---|\n",
    "|難関大学に合格するスキルがつきます。|大学以上の高度な数学能力は対象外です。<br>数学的な論理力を上げることを目的としません。|\n",
    "|プログラミング初心者レベルのスキルがつきます。<br>pythonモジュール利用のスキルがつきます。|関数型言語は扱いません。<br>依存型は扱いません。|\n",
    "|受験勉強の工数を削減し、余暇を提供します。|。|\n",
    "|プログラマーの秘密道具がたくさん知れます。||\n",
    "\n",
    "---\n",
    "\n",
    "### どうやって実現するの？\n",
    "- 受験問題を、日本語プログラミングで解きます。  \n",
    "![Demo : Proof by python](https://www.designed.academy/tutorial/proof.gif)\n",
    "\n",
    "- プログラミングの便利ツールで、証明作成をサポートします。  \n",
    "  - よく使う定型文に名前をつけて、簡単呼び出し（ユーザスニペット）  \n",
    "    ![Demo : implementation](https://www.designed.academy/tutorial/user_snipet.gif)\n",
    "  - 公式や定理の入力補完  \n",
    "    ![Demo : implementation](https://www.designed.academy/tutorial/implementation.gif)\n",
    "  - 公式や定理の型チェック  \n",
    "    ![Demo : implementation](https://www.designed.academy/tutorial/type_check.gif)\n",
    "  - 公式や定理の説明を簡単に確認  \n",
    "    ![Demo : implementation](https://www.designed.academy/tutorial/docstring.gif)\n",
    "  - レンダリング自動化\n",
    "  - デバッグモード\n",
    "  - エラー表示\n",
    "  - AIによるコード作成支援  \n",
    "    ![Demo : implementation](https://www.designed.academy/tutorial/copilot.gif)\n",
    "  - AIによるコード図表変換\n",
    "- プログラマー用SNSで学習進捗を管理/共有  "
   ]
  },
  {
   "attachments": {},
   "cell_type": "markdown",
   "metadata": {},
   "source": [
    "## セットアップ"
   ]
  },
  {
   "cell_type": "code",
   "execution_count": null,
   "metadata": {},
   "outputs": [],
   "source": [
    "! git clone https://github.com/chisakiShinichirouToshiyuki/designed.git"
   ]
  },
  {
   "cell_type": "code",
   "execution_count": null,
   "metadata": {},
   "outputs": [],
   "source": [
    "!pip install sympy==1.11.1\n",
    "!pip install jedi>=0.16\n",
    "!pip install setuptools>65.5.1\n",
    "!pip install spb==0.1.1\n",
    "!pip install seaborn==0.12.2\n",
    "!pip install japanize_matplotlib==1.1.3\n",
    "!pip install colorama==0.4.6\n"
   ]
  },
  {
   "cell_type": "code",
   "execution_count": null,
   "metadata": {},
   "outputs": [],
   "source": [
    "from __future__ import annotations\n",
    "from typing import Literal\n",
    "from typing import TypedDict\n",
    "from copy import deepcopy\n",
    "import sympy\n",
    "from designed.dists.jp.designed import *\n",
    "\n",
    "sympy.init_printing(scale=10) # type: ignore\"\n"
   ]
  },
  {
   "attachments": {},
   "cell_type": "markdown",
   "id": "7599e51e",
   "metadata": {},
   "source": [
    "## 第０章"
   ]
  },
  {
   "attachments": {},
   "cell_type": "markdown",
   "id": "7599e51e",
   "metadata": {},
   "source": [
    "### [01]  \n",
    "次の命題の真偽を調べよ。ただし、$m、n$は自然数である。"
   ]
  },
  {
   "attachments": {},
   "cell_type": "markdown",
   "id": "c2309ffa",
   "metadata": {},
   "source": [
    "#### (1)\n",
    "$n$ が奇数ならば $n^2$ は奇数である。  "
   ]
  },
  {
   "cell_type": "code",
   "execution_count": null,
   "id": "92d86932-b4bf-4609-ae9c-1330766ebc51",
   "metadata": {},
   "outputs": [],
   "source": [
    "parity = Literal[\"even\", \"odd\"]\n",
    "\n",
    "\n",
    "def get_squared_parity(\n",
    "    証明: 証明クラス, parity: parity, タイトル: str = \"get_squared_parity\"\n",
    ") -> bool | None:\n",
    "    \"\"\"2乗した結果の偶奇を取得する\n",
    "\n",
    "    引数:\n",
    "        証明: 処理が所属する証明。変数の管理などを行う。\n",
    "        parity: ２乗される数値の偶奇\n",
    "    結果:\n",
    "        bool | None:偶数であるか(bool)、解析不能か(None)\n",
    "    \"\"\"\n",
    "    m, n = 証明.作成する_変数([\"m\", \"n\"], {\"integer\": True, \"positive\": True})\n",
    "    N = 2 * m if (parity == \"even\") else 2 * m + 1\n",
    "    # Check parity\n",
    "    coefficients_for_even = (N**2).取得する_係数s(\"m\")\n",
    "    偶数: Literal[True] | None = None\n",
    "    偶数 = True if len(coefficients_for_even) == 0 else None\n",
    "    for coefficient in coefficients_for_even:\n",
    "        coefficient_int = int(coefficient.テキスト)\n",
    "        assert isinstance(coefficient_int, int)\n",
    "        偶数 = True if (coefficient_int % 2 == 0) else None\n",
    "        if not (偶数):\n",
    "            break\n",
    "    # Check not parity\n",
    "    coefficients_for_odd = (N**2 + 1).取得する_係数s(\"m\")\n",
    "    is_not_parity: Literal[True] | None = None\n",
    "    is_not_parity = True if len(coefficients_for_odd) == 0 else None\n",
    "    for coefficient in coefficients_for_odd:\n",
    "        coefficient_int = int(coefficient.テキスト)\n",
    "        assert isinstance(coefficient_int, int)\n",
    "        is_not_parity = True if (coefficient_int % 2 == 0) else None\n",
    "        if not (is_not_parity):\n",
    "            break\n",
    "    # 説明\n",
    "    セクション = (\n",
    "        証明.作成する_セクション(\"2乗の偶奇の判定\", タイトル)\n",
    "        .追加する((n == N) >> 定義式クラス, 順接か=True, 補足=f'{m ==\"整数\"}', 補足のタイプ=\"annotate\")\n",
    "        .追加する(n**2 == (N**2), 順接か=True)\n",
    "        .追加する(n**2 == (N**2).展開する())\n",
    "    )\n",
    "    if 偶数:\n",
    "        セクション.追加する(\"各係数が$2$で割り切れるので、偶数\")\n",
    "    if is_not_parity:\n",
    "        セクション.追加する(\"各係数が$2$で割り切れないので、奇数\")\n",
    "    return 偶数 if 偶数 else not is_not_parity\n",
    "\n",
    "\n",
    "def proof_00_01_01():\n",
    "    証明 = 証明クラス()\n",
    "    偶数か = get_squared_parity(証明, \"odd\")\n",
    "    assert 偶数か == False\n",
    "    証明.挿入する_セクション(\n",
    "        \"get_squared_parity\"\n",
    "    ).表示する_説明()\n",
    "\n",
    "\n",
    "proof_00_01_01()"
   ]
  },
  {
   "attachments": {},
   "cell_type": "markdown",
   "id": "7d311088",
   "metadata": {},
   "source": [
    "### (2)\n",
    "「 $m+n$ が偶数」ならば、「 $m,n$ はともに偶数」である。  "
   ]
  },
  {
   "cell_type": "code",
   "execution_count": null,
   "id": "e554ad1c",
   "metadata": {},
   "outputs": [],
   "source": [
    "def proof_00_01_02():\n",
    "    証明 = 証明クラス()\n",
    "    m, n = 証明.作成する_変数([\"m\", \"n\"])\n",
    "    証明\\\n",
    "        .追加する_説明(\"上記の対偶を考える。\")\\\n",
    "        .追加する_説明(\n",
    "            \"「$m,n$のいずれかが奇数」ならば、「$m+n$は奇数」である\",\n",
    "        )\\\n",
    "        .追加する_説明(\n",
    "            ベクトル方程式クラス(証明, [(m == 1) >> 方程式クラス, (n == 1) >> 方程式クラス]),\n",
    "            補足=\"反例\",\n",
    "            補足のタイプ=\"plain\",\n",
    "        )\\\n",
    "        .表示する_説明()\n",
    "\n",
    "\n",
    "proof_00_01_02()"
   ]
  },
  {
   "attachments": {},
   "cell_type": "markdown",
   "id": "e0070532",
   "metadata": {},
   "source": [
    "#### (3)\n",
    "「 $n^2+n+1<0$ 」ならば、「 $n=100$ 」である。  "
   ]
  },
  {
   "cell_type": "code",
   "execution_count": null,
   "metadata": {},
   "outputs": [],
   "source": [
    "def proof_00_01_03():\n",
    "    証明 = 証明クラス()\n",
    "    n = 証明.作成する_変数(\"n\")\n",
    "    十分条件 = n != 100\n",
    "    必要条件 = (0 <= n**2 + n + 1) >> 不等式_v1クラス\n",
    "    結果 = 十分条件 <= 必要条件\n",
    "    assert 結果 == True\n",
    "\n",
    "    # Explain\n",
    "    証明\\\n",
    "        .追加する_説明(必要条件, 補足=\"①与式\", 補足のタイプ=\"plain\")\\\n",
    "        .追加する_説明(\"対偶：「$n\\ne100$」ならば、「$n^2+n+1\\geq0$」である、を証明する\")\\\n",
    "        .追加する_説明(\"上記を図示する。\")\\\n",
    "        .追加する_説明(図登録クラス(必要条件.式[1], ((-10, 10), (0, 50))))\\\n",
    "        .追加する_説明(図登録クラス(必要条件.式[1], ((-5, 5), (0, 10))))\\\n",
    "        .追加する_説明(結果, 順接か=True)\\\n",
    "        .表示する_説明()\n",
    "\n",
    "\n",
    "proof_00_01_03()"
   ]
  },
  {
   "attachments": {},
   "cell_type": "markdown",
   "id": "fe5a2879",
   "metadata": {},
   "source": [
    "### [02]  \n",
    "次の命題同士の関係を述べよ"
   ]
  },
  {
   "attachments": {},
   "cell_type": "markdown",
   "id": "5f7143b5",
   "metadata": {},
   "source": [
    "#### (1)\n",
    "「 $x<1$ 」ならば、「 $x^2-4x+3\\geq0$ 」である。  "
   ]
  },
  {
   "cell_type": "code",
   "execution_count": null,
   "metadata": {},
   "outputs": [],
   "source": [
    "def proof_00_02_01():\n",
    "    証明 = 証明クラス()\n",
    "    x = 証明.作成する_変数(\"x\")\n",
    "    十分条件 = x < 1\n",
    "    必要条件 = (0 <= x**2 - 4 * x + 3) >> 不等式_v1クラス\n",
    "    結果 = 十分条件 <= 必要条件\n",
    "    assert 結果 == True\n",
    "    # Explain\n",
    "    証明\\\n",
    "        .追加する_説明(必要条件, 補足=\"与式\", 補足のタイプ=\"because\")\\\n",
    "        .追加する_説明(必要条件 & True, 順接か=True)\\\n",
    "        .追加する_説明(図登録クラス(必要条件.式[1], (((-5, 5), (-2, 10)))))\\\n",
    "        .追加する_説明(図登録クラス(必要条件.式[1], (((-2, 2), (-2, 10)))))\\\n",
    "        .追加する_説明(数理命題クラス(十分条件, 必要条件), 順接か=True)\\\n",
    "        .表示する_説明()\n",
    "\n",
    "\n",
    "proof_00_02_01()"
   ]
  },
  {
   "attachments": {},
   "cell_type": "markdown",
   "id": "a2f995c9",
   "metadata": {},
   "source": [
    "#### (2)\n",
    "「 $xy+1>x+y$ 」ならば、「 $|x|<1かつ|y|<1$ 」である。  "
   ]
  },
  {
   "cell_type": "code",
   "execution_count": null,
   "metadata": {},
   "outputs": [],
   "source": [
    "def proof_00_02_02():\n",
    "    証明 = 証明クラス()\n",
    "    x, y = 証明.作成する_変数(['x', 'y'])\n",
    "    # Make sufficient condition\n",
    "    十分条件 = (x*y+1>x+y) >> 不等式_v2クラス\n",
    "    十分条件_因数分解後 = 十分条件.因数分解する()\n",
    "    # Make necessary condition\n",
    "    不等式_左 = 不等式_v1クラス(証明, 'abs(x)<1')\n",
    "    不等式_右 = 不等式_v1クラス(証明, 'abs(y)<1')\n",
    "    必要条件 = 不等式_左 & 不等式_右\n",
    "    assert isinstance(必要条件, 複合条件_v2クラス)\n",
    "    # Explain\n",
    "    証明\\\n",
    "        .追加する_説明(十分条件, 補足='与式')\\\n",
    "        .追加する_説明(十分条件_因数分解後, 順接か=True)\\\n",
    "        .追加する_説明(f\"{十分条件}を図示する。\")\\\n",
    "        .追加する_説明(図登録クラス( 十分条件_因数分解後,((-3, 3))))\\\n",
    "        .追加する_説明(f\"{必要条件}を図示する。\")\\\n",
    "        .追加する_説明(図登録クラス( 必要条件,((-3, 3))))\\\n",
    "        .追加する_説明(数理命題クラス(十分条件,必要条件), 順接か=True)\\\n",
    "        .表示する_説明()\n",
    "\n",
    "proof_00_02_02()"
   ]
  },
  {
   "attachments": {},
   "cell_type": "markdown",
   "id": "57a7d58c",
   "metadata": {},
   "source": [
    "### [03]  \n",
    "次の命題が真であることを証明せよ。ただし、$m, n$は自然数とする。"
   ]
  },
  {
   "attachments": {},
   "cell_type": "markdown",
   "metadata": {},
   "source": [
    "#### (1)\n",
    "「 $n^2$が偶数 」ならば、「 $n$ は偶数」である。"
   ]
  },
  {
   "cell_type": "code",
   "execution_count": null,
   "metadata": {},
   "outputs": [],
   "source": [
    "def proof_00_03_01():\n",
    "    証明 = 証明クラス()\n",
    "    偶数か = get_squared_parity(証明, 'odd')\n",
    "    assert 偶数か == False\n",
    "    証明\\\n",
    "        .追加する_説明(\"上記の対偶を考える。\")\\\n",
    "        .追加する_説明(\"「$n$は奇数」ならば、「$n^2$は奇数」である。  \")\\\n",
    "        .挿入する_セクション('get_squared_parity')\\\n",
    "        .表示する_説明()\n",
    "\n",
    "proof_00_03_01()"
   ]
  },
  {
   "attachments": {},
   "cell_type": "markdown",
   "id": "af1cfe30",
   "metadata": {},
   "source": [
    "#### (2)\n",
    "「 $\\sqrt{m}$ が整数でない」ならば、「$\\sqrt{m}$は無理数」である。  "
   ]
  },
  {
   "cell_type": "code",
   "execution_count": null,
   "metadata": {},
   "outputs": [],
   "source": [
    "def proof_00_03_02():\n",
    "    証明 = 証明クラス()\n",
    "    結果 = 整数クラス.証明する_有理平方根を持つならば整数(証明)\n",
    "    assert 結果 == True\n",
    "    証明\\\n",
    "        .追加する_説明('下記、対偶を用いて証明する。')\\\n",
    "        .追加する_説明('「$\\sqrt{m}$は有理数」ならば、「$\\sqrt{m}$が整数」である。')\\\n",
    "        .挿入する_セクション('証明する_有理平方根を持つならば整数')\\\n",
    "        .追加する_説明(f'よって、{結果}である。')\\\n",
    "        .表示する_説明()\n",
    "\n",
    "\n",
    "proof_00_03_02()\n"
   ]
  },
  {
   "attachments": {},
   "cell_type": "markdown",
   "id": "57a7d58c",
   "metadata": {},
   "source": [
    "### [04]  "
   ]
  },
  {
   "attachments": {},
   "cell_type": "markdown",
   "metadata": {},
   "source": [
    "#### (1)\n",
    "「$\\sqrt{2}$が無理数であることを証明せよ。"
   ]
  },
  {
   "cell_type": "code",
   "execution_count": null,
   "metadata": {},
   "outputs": [],
   "source": [
    "def proof_00_04_01():\n",
    "    証明 = 証明クラス()\n",
    "    m,q =証明.作成する_変数(['m', 'q'], {'integer':True, 'positive':True})\n",
    "    _2 = 整数クラス(証明,2)\n",
    "    _1_2 = 分数クラス(証明,(1,2))\n",
    "    結果 = 整数クラス.証明する_有理平方根を持つならば整数(証明)\n",
    "    assert 結果==True\n",
    "    証明\\\n",
    "        .追加する_説明('背理法で証明する。')\\\n",
    "        .追加する_説明(f'「{_2**(_1_2)}は有理数である」と、仮定する。') \\\n",
    "        .追加する_説明((m==2) >> 定義式クラス, 補足='と置く。', 補足のタイプ='plain')\\\n",
    "        .挿入する_セクション('証明する_有理平方根を持つならば整数')\\\n",
    "        .追加する_説明(q**2==2, 順接か=True)\\\n",
    "        .追加する_説明(f'$2$は整数の$2$乗ではないので、矛盾。')\\\n",
    "        .追加する_説明(f'よって、{_2**(_1_2)}は無理数である。') \\\n",
    "        .表示する_説明()\n",
    "\n",
    "\n",
    "proof_00_04_01()\n"
   ]
  },
  {
   "attachments": {},
   "cell_type": "markdown",
   "id": "8d49f8d0",
   "metadata": {},
   "source": [
    "#### (2)\n",
    "「素数は無限にある」ことを証明せよ。"
   ]
  },
  {
   "cell_type": "code",
   "execution_count": null,
   "metadata": {},
   "outputs": [],
   "source": [
    "def proof_00_04_02():\n",
    "    証明 = 証明クラス()\n",
    "    整数クラス.証明する_素数が無限に存在すること(証明)\n",
    "    証明\\\n",
    "        .挿入する_セクション('証明する_素数が無限に存在すること')\\\n",
    "        .表示する_説明()\n",
    "\n",
    "\n",
    "proof_00_04_02()"
   ]
  },
  {
   "attachments": {},
   "cell_type": "markdown",
   "id": "fae25ca7",
   "metadata": {},
   "source": [
    "## 第１章  "
   ]
  },
  {
   "attachments": {},
   "cell_type": "markdown",
   "id": "d6581da9",
   "metadata": {},
   "source": [
    "### [06]  "
   ]
  },
  {
   "attachments": {},
   "cell_type": "markdown",
   "id": "b6a8f563",
   "metadata": {},
   "source": [
    "#### (1)  \n",
    "$5400$の正の約数の個数、およびその総和を求めよ。"
   ]
  },
  {
   "cell_type": "code",
   "execution_count": null,
   "metadata": {},
   "outputs": [],
   "source": [
    "def proof_01_06_01_01():\n",
    "    証明 = 証明クラス()\n",
    "    n = 整数クラス(証明, 5400)\n",
    "    assert n.約数の個数 ==48\n",
    "    # Explain\n",
    "    証明\\\n",
    "        .追加する_説明(f\"{n}の正の約数の個数は、{n.約数の個数}\")\\\n",
    "        .表示する_説明()\n",
    "\n",
    "\n",
    "def proof_01_06_01_02():\n",
    "    証明 = 証明クラス()\n",
    "    n = 整数クラス(証明, 5400)\n",
    "    assert n.約数の和 ==18600\n",
    "    # Explain\n",
    "    証明\\\n",
    "        .追加する_説明(f\"{n}の正の約数の総和は、{n.約数の和}\")\\\n",
    "        .表示する_説明()\n",
    "\n",
    "\n",
    "\n",
    "def proof_01_06_01():\n",
    "    proof_01_06_01_01()\n",
    "    proof_01_06_01_02()\n",
    "\n",
    "\n",
    "proof_01_06_01()\n"
   ]
  },
  {
   "attachments": {},
   "cell_type": "markdown",
   "id": "b6a8f563",
   "metadata": {},
   "source": [
    "#### (2)  \n",
    "$2$桁の自然数の中で、正の約数がちょうど$10$個であるものを全て求めよ"
   ]
  },
  {
   "cell_type": "code",
   "execution_count": null,
   "metadata": {},
   "outputs": [],
   "source": [
    "def proof_01_06_02(約数の個数: int, range: tuple[int, int]) :\n",
    "    証明 = 証明クラス()\n",
    "    n = 証明.作成する_変数('n',{'integer':True, 'positive':True})\n",
    "    結果 = n.同定する_条件から(10, (10, 99))\n",
    "    assert 結果 == [48,80] \n",
    "    証明.挿入する_セクション('同定する_条件から').表示する_説明()\n",
    "\n",
    "proof_01_06_02(10, (10, 99)) \n"
   ]
  },
  {
   "attachments": {},
   "cell_type": "markdown",
   "id": "eb649f80",
   "metadata": {},
   "source": [
    "### [07]  \n",
    "次の条件を満たす２つの自然数$a,b(a \\leq b$)を求めよ"
   ]
  },
  {
   "attachments": {},
   "cell_type": "markdown",
   "id": "bae9754a",
   "metadata": {},
   "source": [
    "#### (1)\n",
    "和が$117$で、最大公約数が$13$  "
   ]
  },
  {
   "cell_type": "code",
   "execution_count": null,
   "metadata": {},
   "outputs": [],
   "source": [
    "def proof_01_07_01():\n",
    "    証明 = 証明クラス()\n",
    "    l,k = 証明.作成する_変数s('l k', {'integer':True, 'positive':True})\n",
    "    ペア = 自然数ペアクラス(証明, (l,k))\n",
    "    ペア.同定する_条件から(117,最大公約数 = 13, 最小公倍数=None)\n",
    "    # Explain\n",
    "    証明.挿入する_セクション('同定する_条件から')\\\n",
    "        .表示する_説明()\n",
    "\n",
    "\n",
    "proof_01_07_01()\n"
   ]
  },
  {
   "attachments": {},
   "cell_type": "markdown",
   "id": "effe40f7",
   "metadata": {},
   "source": [
    "#### (2)\n",
    "和が$341$で、最小公倍数が$1650$  "
   ]
  },
  {
   "cell_type": "code",
   "execution_count": null,
   "metadata": {},
   "outputs": [],
   "source": [
    "def proof_01_07_02():\n",
    "    証明 = 証明クラス()\n",
    "    m,n = 証明.作成する_変数s('m,n', {'integer':True, 'positive':True})\n",
    "    ペア = 自然数ペアクラス(証明, (m,n))\n",
    "    結果 = ペア.同定する_条件から(341, 最小公倍数=1650)\n",
    "    # assertion\n",
    "    正解か:bool|数理的ブールクラス = True\n",
    "    correct_解s = [(66, 275)]\n",
    "    for i, ベクトル方程式 in enumerate(結果):\n",
    "        for j, 方程式 in enumerate(ベクトル方程式):\n",
    "            a =((方程式.式s[1] == correct_解s[i][j]) == True)\n",
    "            正解か =  a & 正解か\n",
    "    assert 正解か\n",
    "    # Explain\n",
    "    証明\\\n",
    "        .挿入する_セクション('同定する_条件から')\\\n",
    "        .表示する_説明()\n",
    "\n",
    "\n",
    "proof_01_07_02()\n"
   ]
  },
  {
   "attachments": {},
   "cell_type": "markdown",
   "id": "10756697",
   "metadata": {},
   "source": [
    "### [08]  \n",
    "自然数$m$と$n$が互いに素ならば、$3m+n$と$7m+2n$も互いに素である。"
   ]
  },
  {
   "cell_type": "code",
   "execution_count": null,
   "id": "bb357ad1",
   "metadata": {},
   "outputs": [],
   "source": [
    "def proof_01_08_01():\n",
    "    証明 = 証明クラス()\n",
    "    m,n = 証明.作成する_変数(['m', 'n'], {'integer':True, 'positive':True})\n",
    "    ペア =自然数ペアクラス(証明, (3*m+n, 7*m+2*n), relational_prime_pairs=[(m,n)])\n",
    "    結果 = ペア.最大公約数\n",
    "    assert 結果 == 1\n",
    "    # Explain\n",
    "    証明\\\n",
    "        .追加する_説明(ペア.最大公約数の履歴)\\\n",
    "        .追加する_説明('∴ 互いに素である。')\\\n",
    "        .表示する_説明()\n",
    "\n",
    "\n",
    "proof_01_08_01()\n"
   ]
  },
  {
   "attachments": {},
   "cell_type": "markdown",
   "id": "10756697",
   "metadata": {},
   "source": [
    "### [9]  \n",
    "nを自然数とするとき、$m \\leq n$でmとnの最大公約数が１となる自然数mの個数を$f(x)$とする。"
   ]
  },
  {
   "attachments": {},
   "cell_type": "markdown",
   "id": "bae9754a",
   "metadata": {},
   "source": [
    "#### (1)\n",
    "$f(15)$を求めよ  "
   ]
  },
  {
   "cell_type": "code",
   "execution_count": null,
   "metadata": {},
   "outputs": [],
   "source": [
    "class ベン図(TypedDict):\n",
    "    label: str\n",
    "    set: set[int]\n",
    "\n",
    "\n",
    "class VennData(TypedDict):\n",
    "    label: str\n",
    "    set: set[int] | set[str]\n",
    "\n",
    "\n",
    "def オイラー関数_v0(証明: 証明クラス, integer: int, セクションタイトル: str='オイラー関数') -> int:\n",
    "    素因数s = 整数クラス(証明, integer).素因数分解する()\n",
    "    assert len(素因数s) <= 2,\\\n",
    "        '    素因数が３以上には対応していません。\\n    素因数：{}'.format(\n",
    "        list(素因数s.keys()))\n",
    "    multiples: dict[int, set[int]] = {}\n",
    "    all_element: set[int] = set(range(1, integer+1))\n",
    "    relative_primes_candidate: set[int] = set(range(1, integer+1))\n",
    "    for i, prime in enumerate(素因数s):\n",
    "        multiples[prime] = set()\n",
    "        for j in range(1, integer+1):\n",
    "            if (j % prime == 0):\n",
    "                multiples[prime].add(j)\n",
    "                if j in relative_primes_candidate:\n",
    "                    relative_primes_candidate.remove(j)\n",
    "    relative_primes = relative_primes_candidate\n",
    "    結果 = len(relative_primes)\n",
    "    # Explain\n",
    "    セクション = 証明.作成する_セクション('オイラー関数の証明', セクションタイトル)\n",
    "    セクション.追加する('$ET(n)$ := オイラー関数(ただし、$n$は自然数)')\n",
    "    ベン図data: list[VennData] = [{\n",
    "        'label':  '{}以下の自然数'.format(integer),\n",
    "        'set': all_element\n",
    "    }]\n",
    "    for key, 値 in multiples.items():\n",
    "        ベン図data.append(\n",
    "            {\n",
    "                'label': '{} の倍数'.format(key),\n",
    "                'set': 値\n",
    "            }\n",
    "        )\n",
    "    セクション.追加する(ベン図登録クラス(ベン図data))\n",
    "    セクション.追加する('上図より、')\n",
    "    セクション.追加する(f'$ET({integer}) = $ {結果}')\n",
    "    return 結果\n",
    "\n",
    "\n",
    "def proof_01_09_01():\n",
    "    証明 = 証明クラス()\n",
    "    結果 = オイラー関数_v0(証明, 15, 'オイラー関数')\n",
    "    assert 結果 == 8\n",
    "    # Explain\n",
    "    証明\\\n",
    "        .挿入する_セクション('オイラー関数')\\\n",
    "        .表示する_説明()\n",
    "\n",
    "\n",
    "proof_01_09_01()\n"
   ]
  },
  {
   "attachments": {},
   "cell_type": "markdown",
   "id": "bae9754a",
   "metadata": {},
   "source": [
    "#### (2)\n",
    "$p, q$を互いに異なる素数とする。このとき$f(pq)$を求めよ  "
   ]
  },
  {
   "cell_type": "code",
   "execution_count": null,
   "metadata": {},
   "outputs": [],
   "source": [
    "def オイラー関数_d1_v2(証明: 証明クラス, prime_symbols: tuple[str, str], セクションタイトル: str='オイラー関数') -> str:\n",
    "    p, q = 証明.作成する_変数(list(prime_symbols))\n",
    "    # p = 式クラス(証明, primeSymbols[0])\n",
    "    # q = 式クラス(証明, primeSymbols[1])\n",
    "    結果 = p+q\n",
    "    # Explain\n",
    "    セクション = 証明.作成する_セクション('オイラー関数の証明', セクションタイトル)\n",
    "    セクション\\\n",
    "        .追加する(f'$ET(n)$ :=オイラー関数 （nは自然数）')\\\n",
    "        .追加する(f'{p},{q}は互いに異なる素数なので、')\n",
    "    ベン図data: list[VennData] = [\n",
    "        {\n",
    "            'label': f'{p.テキスト}×{q.テキスト}以下の自然数',\n",
    "            'set': {1, 2, 3, 4, 5, 6, 7, 8, 9, 10}\n",
    "        },\n",
    "        {\n",
    "            'label': f'{p.テキスト}の倍数',\n",
    "            'set': {1, 2}\n",
    "        },\n",
    "        {\n",
    "            'label': f'{q.テキスト}の倍数',\n",
    "            'set': {3, 4}\n",
    "        }\n",
    "    ]\n",
    "    セクション\\\n",
    "        .追加する(ベン図登録クラス(ベン図data))\\\n",
    "        .追加する('上図より（数字に意味はない）、')\\\n",
    "        .追加する(f'$ET(${p}{q}$) = ${結果}')\n",
    "    return 結果.テキスト\n",
    "\n",
    "\n",
    "def proof_01_09_02():\n",
    "    証明 = 証明クラス()\n",
    "    結果 = オイラー関数_d1_v2(証明, ('p', 'q'))\n",
    "    assert 結果 == 'p + q'\n",
    "    # Explain\n",
    "    証明\\\n",
    "        .挿入する_セクション('オイラー関数')\\\n",
    "        .表示する_説明()\n",
    "\n",
    "\n",
    "proof_01_09_02()\n"
   ]
  },
  {
   "attachments": {},
   "cell_type": "markdown",
   "id": "10756697",
   "metadata": {},
   "source": [
    "### [10]  "
   ]
  },
  {
   "attachments": {},
   "cell_type": "markdown",
   "id": "bae9754a",
   "metadata": {},
   "source": [
    "#### (1)\n",
    "$589と703の最大公約数を求めよ$  "
   ]
  },
  {
   "cell_type": "code",
   "execution_count": null,
   "id": "bb357ad1",
   "metadata": {},
   "outputs": [],
   "source": [
    "def proof_01_10_01():\n",
    "    証明 = 証明クラス()\n",
    "    ペア = 自然数ペアクラス(証明, (589, 703))\n",
    "    assert ペア.最大公約数 == 19\n",
    "    # Explain\n",
    "    証明.追加する_説明(ペア.最大公約数の履歴).追加する_説明(f\"よって、{ペア.最大公約数}\").表示する_説明()\n",
    "\n",
    "\n",
    "proof_01_10_01()"
   ]
  },
  {
   "attachments": {},
   "cell_type": "markdown",
   "id": "bae9754a",
   "metadata": {},
   "source": [
    "#### (2)\n",
    "m,nが互いに素な自然数であるとき、$\\displaystyle \\frac{4m+9n}{3m+7n}$は既約分数であることを示せ。  "
   ]
  },
  {
   "cell_type": "code",
   "execution_count": null,
   "id": "bb357ad1",
   "metadata": {},
   "outputs": [],
   "source": [
    "def proof_01_10_02():\n",
    "    証明 = 証明クラス()\n",
    "    m,n = 証明.作成する_変数(['m', 'n'], {'integer':True, 'positive':True})\n",
    "    ペア = 自然数ペアクラス(証明, (4*m+9*n, 3*m+7*n), relational_prime_pairs=[(m,n)])\n",
    "    assert ペア.最大公約数 ==1\n",
    "    # Explain\n",
    "    証明\\\n",
    "        .追加する_説明('「既約分数でない」ならば、「1より大きい最小公倍数を持つ」')\\\n",
    "        .追加する_説明(ペア.最大公約数の履歴)\\\n",
    "        .追加する_説明('よって、既約分数である。')\\\n",
    "        .表示する_説明()\n",
    "\n",
    "\n",
    "proof_01_10_02()"
   ]
  },
  {
   "attachments": {},
   "cell_type": "markdown",
   "id": "10756697",
   "metadata": {},
   "source": [
    "### [11]  \n",
    "$2010! = 2^nm（mは奇数）のとき、自然数nを求めよ。$"
   ]
  },
  {
   "cell_type": "code",
   "execution_count": null,
   "metadata": {},
   "outputs": [],
   "source": [
    "def 取得する_階乗の素数の乗数(証明: 証明クラス, factorial: int, prime: int, セクションタイトル: str = '取得する_階乗の素数の乗数') -> int:\n",
    "    結果 = 0\n",
    "    power = 1\n",
    "    should_continue: bool = True\n",
    "    while (should_continue):\n",
    "        結果_tmp = factorial//(prime**power)\n",
    "        結果 += 結果_tmp\n",
    "        power += 1\n",
    "        if (結果_tmp < 1):\n",
    "            should_continue = False\n",
    "    # Make テーブル\n",
    "    tableData: dict[str, list[str | int | float]] = {\n",
    "        '自然数': list(range(1, factorial+1))\n",
    "    }\n",
    "    テーブル = テーブルクラス(tableData)\n",
    "    for power in range(1, 10):\n",
    "        テーブル.追加する_列('{}の倍数'.format(\n",
    "            2**power), ((['']*(2**power-1)+['○'])*factorial + ['']*factorial)[:2010])\n",
    "    テーブル.追加する_列('...', ['']*2010)\n",
    "    # Explain\n",
    "    セクション = 証明.作成する_セクション('階乗の素数の乗数の算出', セクションタイトル)\\\n",
    "        .追加する(f'{factorial}までの自然数は、2の何乗まで約数に含むかを、表にまとめる')\n",
    "    セクション.追加する(テーブル)\n",
    "    return 結果\n",
    "\n",
    "\n",
    "def proof_01_11_01():\n",
    "    証明 = 証明クラス()\n",
    "    結果 = 取得する_階乗の素数の乗数(\n",
    "        証明, 2010, 2, )\n",
    "    assert 結果 == 2002\n",
    "    # Explain\n",
    "    n = 証明.作成する_変数('n_')\n",
    "    証明\\\n",
    "        .追加する_説明('$2010!$を素因数分解した際の、2の乗数を求めることと同義である。')\\\n",
    "        .挿入する_セクション('取得する_階乗の素数の乗数')\\\n",
    "        .追加する_説明(n == 結果, 順接か=True)\\\n",
    "        .表示する_説明()\n",
    "\n",
    "\n",
    "proof_01_11_01()\n"
   ]
  },
  {
   "attachments": {},
   "cell_type": "markdown",
   "id": "fae25ca7",
   "metadata": {},
   "source": [
    "### 第2章  "
   ]
  },
  {
   "attachments": {},
   "cell_type": "markdown",
   "id": "10756697",
   "metadata": {},
   "source": [
    "#### [12] 余りで分類 \n",
    "$l,m,n$は自然数とする。"
   ]
  },
  {
   "attachments": {},
   "cell_type": "markdown",
   "id": "bae9754a",
   "metadata": {},
   "source": [
    "#### (1)\n",
    "$n^2$を$3$で割った余りは、$0$または$1$であることを示せ。"
   ]
  },
  {
   "cell_type": "code",
   "execution_count": null,
   "metadata": {},
   "outputs": [],
   "source": [
    "def proof_02_12_01():\n",
    "    証明 = 証明クラス()\n",
    "    n = 証明.作成する_変数('n', {'integer':True, 'positive':True})\n",
    "    結果 = (n**2).チェックする_特定の倍数か(3, [0, 1])\n",
    "    assert 結果 == True\n",
    "    # Explain\n",
    "    証明.挿入する_セクション('チェックする_特定の倍数か')\n",
    "    if 結果:\n",
    "        証明.追加する_説明('よって、証明された。')\n",
    "    証明.表示する_説明()\n",
    "\n",
    "proof_02_12_01()\n"
   ]
  },
  {
   "attachments": {},
   "cell_type": "markdown",
   "id": "bae9754a",
   "metadata": {},
   "source": [
    "#### (2)\n",
    "$l^2+m^2が3の倍数のとき、l,mが共に３の倍数であることを示せ。$"
   ]
  },
  {
   "attachments": {},
   "cell_type": "markdown",
   "id": "bae9754a",
   "metadata": {},
   "source": [
    "#### 対偶をとって、以下を証明する。  \n",
    "#### 「l,mのいずれかが3の倍数でない」ならば、「$l^2+m^2$が3の倍数」ではない  "
   ]
  },
  {
   "attachments": {},
   "cell_type": "markdown",
   "metadata": {},
   "source": [
    "#### 式の対称性より、lを３の倍数でないとする。\n",
    "#### (1)より、$mod(l^2,3)=1$\n",
    "#### $mod(m^2,3)=$　0 or 1\n",
    "#### $mod(l^2+m^2,3) = 0$"
   ]
  },
  {
   "attachments": {},
   "cell_type": "markdown",
   "id": "10756697",
   "metadata": {},
   "source": [
    "### [13] 素数になる、ならない \n",
    "$2以上の自然数nに対して、nとn^2+2がともに素数になるのは、n=3の場合に限ることを証明せよ。$"
   ]
  },
  {
   "cell_type": "code",
   "execution_count": null,
   "metadata": {},
   "outputs": [],
   "source": [
    "def proof_02_13_01():\n",
    "    証明 = 証明クラス()\n",
    "    m, n = 証明.作成する_変数(['m','n'],{'integer':True, 'positive':True})\n",
    "    N2 = 式クラス(証明, '2')\n",
    "    N3 = 式クラス(証明, '3')\n",
    "    N_3times = 3*m\n",
    "    式 = n**2+2\n",
    "    結果 = 式.チェックする_特定の倍数か(\n",
    "        3, [0], {'times': 3, 'mod': [1, 2]})\n",
    "    assert 結果 == True\n",
    "    # Explain\n",
    "    セクション_1 = 証明\\\n",
    "        .作成する_セクション(f'{(n==N2) >> 定義式クラス}のとき', 'case_1')\\\n",
    "        .追加する(式 == 式.代入する((n==N2) >> 方程式クラス))\\\n",
    "        .追加する('よって、素数ではない')\n",
    "    セクション_2 = 証明\\\n",
    "        .作成する_セクション(f'{(n==N3) >> 定義式クラス}のとき', 'case_2')\\\n",
    "        .追加する(式 == 式.代入する((n==N3) >> 方程式クラス))\\\n",
    "        .追加する('よって、素数。')\n",
    "    セクション_3 = 証明\\\n",
    "        .作成する_セクション(f'{(n==N_3times) >> 定義式クラス}のとき', 'case_3')\\\n",
    "        .追加する(n=='3の倍数')\\\n",
    "        .追加する('よって、素数ではない')\\\n",
    "\n",
    "    証明\\\n",
    "        .追加する_説明(f'{n}を[$2, 3, 3$の倍数、$3$の倍数でない]で場合分けする。')\\\n",
    "        .追加する_説明(f'{m}を自然数とする。')\\\n",
    "        .挿入する_セクション(セクション_1)\\\n",
    "        .挿入する_セクション(セクション_2)\\\n",
    "        .挿入する_セクション(セクション_3)\\\n",
    "        .挿入する_セクション('チェックする_特定の倍数か')\n",
    "    if 結果:\n",
    "        証明.追加する_説明('よって、証明された。')\n",
    "    証明.表示する_説明()\n",
    "\n",
    "\n",
    "proof_02_13_01()\n"
   ]
  },
  {
   "attachments": {},
   "cell_type": "markdown",
   "id": "10756697",
   "metadata": {},
   "source": [
    "### [14] 倍数の証明 \n",
    "$nを奇数とすると、次の問いに答えよ。$"
   ]
  },
  {
   "attachments": {},
   "cell_type": "markdown",
   "id": "bae9754a",
   "metadata": {},
   "source": [
    "#### (1)\n",
    "$n^2-1は８の倍数であることを証明せよ。$  "
   ]
  },
  {
   "cell_type": "code",
   "execution_count": null,
   "metadata": {},
   "outputs": [],
   "source": [
    "def proof_02_14_01():\n",
    "    証明 = 証明クラス()\n",
    "    n = 証明.作成する_変数('n', {'integer':True})\n",
    "    結果 = (n**2-1).チェックする_特定の倍数か(\n",
    "        8, [0],{'times': 2, 'mod': [1]}, 'チェックする_特定の倍数か')\n",
    "    assert 結果 == True\n",
    "    # Explain\n",
    "    証明.挿入する_セクション('チェックする_特定の倍数か')\n",
    "    if 結果:\n",
    "        証明.追加する_説明('よって、証明された。')\n",
    "\n",
    "    証明.表示する_説明()\n",
    "\n",
    "\n",
    "proof_02_14_01()\n"
   ]
  },
  {
   "attachments": {},
   "cell_type": "markdown",
   "id": "bae9754a",
   "metadata": {},
   "source": [
    "#### (2)\n",
    "$n^5-nは3の倍数であることを証明せよ。$  "
   ]
  },
  {
   "cell_type": "code",
   "execution_count": null,
   "metadata": {},
   "outputs": [],
   "source": [
    "def proof_02_14_02():\n",
    "    証明 = 証明クラス()\n",
    "    n = 証明.作成する_変数('n', {'integer':True})\n",
    "    結果 = (n**5-n).チェックする_特定の倍数か(\n",
    "        3, [0],{'times': 2, 'mod': [1]})\n",
    "    assert 結果 == True\n",
    "    # Explain\n",
    "    証明.挿入する_セクション(\"チェックする_特定の倍数か\")\n",
    "    if 結果:\n",
    "        証明.追加する_説明('よって、証明された。')\n",
    "    証明.表示する_説明()\n",
    "\n",
    "\n",
    "proof_02_14_02()"
   ]
  },
  {
   "attachments": {},
   "cell_type": "markdown",
   "id": "bae9754a",
   "metadata": {},
   "source": [
    "#### (3)\n",
    "$n^5-1は3の倍数であることを証明せよ。$  "
   ]
  },
  {
   "attachments": {},
   "cell_type": "markdown",
   "id": "bae9754a",
   "metadata": {},
   "source": [
    "$ (1),(2)より、n^5-1は、3の倍数、かつ８の倍数なので、あとは５の倍数であることを証明すれば良い。 $  "
   ]
  },
  {
   "cell_type": "code",
   "execution_count": null,
   "metadata": {},
   "outputs": [],
   "source": [
    "def proof_02_14_03():\n",
    "    証明 = 証明クラス()\n",
    "    式 = 式クラス(証明, 'n**5-n')\n",
    "    結果 = 式.チェックする_特定の倍数か(\n",
    "        5, [0],{'times': 2, 'mod': [1]})\n",
    "    assert 結果 == True\n",
    "    # Explain\n",
    "    証明.挿入する_セクション('チェックする_特定の倍数か')\n",
    "    if 結果:\n",
    "        証明.追加する_説明('よって、証明された。')\n",
    "\n",
    "    証明.表示する_説明()\n",
    "\n",
    "\n",
    "proof_02_14_03()"
   ]
  },
  {
   "attachments": {},
   "cell_type": "markdown",
   "id": "10756697",
   "metadata": {},
   "source": [
    "### [15] ピタゴラス数 \n",
    "$自然数の組(x,y,z)が等式x^2+y^2=z^2を満たすとする。$"
   ]
  },
  {
   "attachments": {},
   "cell_type": "markdown",
   "id": "bae9754a",
   "metadata": {},
   "source": [
    "#### (1)\n",
    "全ての自然数$n$について、$n^2$を$4$で割った余りは$0$か$1$もいずれかであることを示せ。"
   ]
  },
  {
   "cell_type": "code",
   "execution_count": null,
   "metadata": {},
   "outputs": [],
   "source": [
    "def proof_02_15_01():\n",
    "    証明 = 証明クラス()\n",
    "    式 = 式クラス(証明, 'n**2')\n",
    "    結果 = 式.チェックする_特定の倍数か(\n",
    "        4, [0,1],{'times': 0, 'mod': []},)\n",
    "    # Explain\n",
    "    証明.挿入する_セクション('チェックする_特定の倍数か')\n",
    "    if 結果:\n",
    "        証明.追加する_説明('よって、証明された。')\n",
    "    証明.表示する_説明()\n",
    "\n",
    "\n",
    "proof_02_15_01()"
   ]
  },
  {
   "attachments": {},
   "cell_type": "markdown",
   "id": "bae9754a",
   "metadata": {},
   "source": [
    "#### (2)\n",
    "$xとyの少なくとも一方が偶数であることを示せ。$"
   ]
  },
  {
   "attachments": {},
   "cell_type": "markdown",
   "id": "bae9754a",
   "metadata": {},
   "source": [
    "#### $x$,$y$ともに奇数と仮定する。\n",
    "#### (1)と仮定より、$x^2+y^2$を4で割った余りは、2である。\n",
    "#### 同様に、(1)より$z^2$を4で割った余りは、0,1のいずれかである。\n",
    "#### よって矛盾。\n",
    "#### $x$,$y$のいずれかが、偶数である。"
   ]
  },
  {
   "attachments": {},
   "cell_type": "markdown",
   "id": "bae9754a",
   "metadata": {},
   "source": [
    "#### (3)\n",
    "$xが偶数、yが奇数であるとする。このとき、xが4の倍数であることを示せ。$"
   ]
  },
  {
   "cell_type": "code",
   "execution_count": null,
   "metadata": {},
   "outputs": [],
   "source": [
    "def proof_02_15_03():\n",
    "    証明 = 証明クラス()\n",
    "    a,b,c, x, y,z = 証明.作成する_変数(['a','b','c', 'x','y','z'], {'integer':True})\n",
    "    X_2 = 4*a\n",
    "    Y = 2*b+1\n",
    "    Z= 2*c+1\n",
    "    与式 = (X_2 == (Z**2-Y**2)) >> 方程式クラス\n",
    "    aについて解いた式 = 与式.解く('a')[0].因数分解する()\n",
    "    結果 = aについて解いた式.チェックする_特定の倍数か(2, [0])\n",
    "    assert 結果 == True\n",
    "    # Explain\n",
    "    証明\\\n",
    "        .追加する_説明(f'条件より、{x},{y},{z}を下記で書き換える。（{a},{b},{c}は自然数）')\\\n",
    "        .追加する_説明(x**2 == X_2)\\\n",
    "        .追加する_説明(y == Y)\\\n",
    "        .追加する_説明(z == Z)\\\n",
    "        .追加する_説明('上記を用い、問題文の式を書き換えると、')\\\n",
    "        .追加する_説明(与式)\\\n",
    "        .追加する_説明(a == aについて解いた式)\\\n",
    "        .追加する_説明('「右辺が２の倍数」であると証明する')\\\n",
    "        .挿入する_セクション('チェックする_特定の倍数か')\\\n",
    "        .追加する_説明(f'よって、{x**2}は下記となる')\\\n",
    "        .追加する_説明(x**2 == 8*a)\\\n",
    "        .追加する_説明(f'よって、{x}は4の倍数')\\\n",
    "        .表示する_説明()\n",
    "\n",
    "\n",
    "proof_02_15_03()"
   ]
  },
  {
   "attachments": {},
   "cell_type": "markdown",
   "id": "10756697",
   "metadata": {},
   "source": [
    "### [16] ピタゴラス数 \n",
    "$m,n(m<n)$を自然数として、  \n",
    "a=n^2-m^2,  b=2mn,c=n^2+m^2\n",
    "とおく。  \n",
    "３辺の長さが、$a,b,c$である三角形の内接円の半径を$r$とし、その三角形の面積を$S$とする。  \n",
    "このとき、以下の問いに答えよ。"
   ]
  },
  {
   "attachments": {},
   "cell_type": "markdown",
   "id": "bae9754a",
   "metadata": {},
   "source": [
    "#### (1)\n",
    "$a^2+b^2=c^2$を示せ"
   ]
  },
  {
   "cell_type": "code",
   "execution_count": null,
   "metadata": {},
   "outputs": [],
   "source": [
    "def proof_02_16_01():\n",
    "    証明 = 証明クラス()\n",
    "    m,n = 証明.作成する_変数s('m,n', {'positive':True, 'integer':True})\n",
    "    a,b,c= 証明.作成する_変数s('a,b,c')\n",
    "    A = n**2-m**2\n",
    "    B = 2*m*n\n",
    "    C = n**2+m**2\n",
    "    方程式 = A**2+B**2 == C**2\n",
    "    assert 方程式 == True\n",
    "    # Explain\n",
    "    証明\\\n",
    "        .追加する_説明(a**2+b**2 == (A**2+B**2).展開する())\\\n",
    "        .追加する_説明(a**2+b**2 ==(A**2+B**2).因数分解する())\\\n",
    "        .追加する_説明(a**2+b**2==c**2)\\\n",
    "        .表示する_説明()\n",
    "\n",
    "proof_02_16_01()"
   ]
  },
  {
   "attachments": {},
   "cell_type": "markdown",
   "id": "bae9754a",
   "metadata": {},
   "source": [
    "### (2)\n",
    "$r$を$m,n$を用いて表せ"
   ]
  },
  {
   "cell_type": "code",
   "execution_count": null,
   "metadata": {},
   "outputs": [],
   "source": [
    "def proof_02_16_02():\n",
    "    証明 = 証明クラス()\n",
    "    # 変数定義\n",
    "    m,n = 証明.作成する_変数s('m,n', {'positive':True, 'integer':True})\n",
    "    a,b,c= 証明.作成する_変数s('a,b,c' )\n",
    "    A = n**2-m**2\n",
    "    B = 2*m*n\n",
    "    C = n**2+m**2\n",
    "    r = 証明.作成する_変数('r')\n",
    "    # 証明\n",
    "    方程式 = (C == (A-r)+(B-r)) >> 方程式クラス\n",
    "    R = 方程式.解く('r')[0]\n",
    "    assert R == m*(-m + n)\n",
    "    # Explain\n",
    "    証明.追加する_説明(c == (a-r)+(b-r))\\\n",
    "        .追加する_説明(C == (A-r)+(B-r), 順接か=True)\\\n",
    "        .追加する_説明(r==R, 順接か=True)\\\n",
    "        .表示する_説明()\n",
    "\n",
    "\n",
    "\n",
    "proof_02_16_02()"
   ]
  },
  {
   "attachments": {},
   "cell_type": "markdown",
   "id": "bae9754a",
   "metadata": {},
   "source": [
    "### (3)\n",
    "#### $r$が素数のときに、$S$を$r$を用いて表せ"
   ]
  },
  {
   "cell_type": "code",
   "execution_count": null,
   "metadata": {},
   "outputs": [],
   "source": [
    "def proof_02_16_03():\n",
    "    証明 = 証明クラス()\n",
    "    # 変数定義\n",
    "    m,n = 証明.作成する_変数s('m,n', {'positive':True, 'integer':True})\n",
    "    a,b,c= 証明.作成する_変数s('a,b,c' )\n",
    "    A = n**2-m**2\n",
    "    B = 2*m*n\n",
    "    C = n**2+m**2\n",
    "    r = 証明.作成する_変数('r')\n",
    "    s = 証明.作成する_変数('s')\n",
    "    S = (A+B+C)*r/2\n",
    "    # (m, n-m) = (r, 1)の場合\n",
    "    S_1 = S.代入する({'n':'1+m'}).代入する({ 'm':'r'}).因数分解する()\n",
    "    # (m, n-m) = (1, r)の場合\n",
    "    S_2 = S.代入する({'n':'r+m'}).代入する({ 'm':1}).因数分解する()\n",
    "    assert (S_1 ==r*(r + 1)*(2*r + 1)) >> 数理的ブールクラス\n",
    "    assert (S_2 ==r*(r + 1)*(r + 2)) >> 数理的ブールクラス\n",
    "    # Explain\n",
    "    解_1 =  ベクトル方程式クラス(証明, [\n",
    "                (m==r) >> 方程式クラス,\n",
    "                (n-m==1) >> 方程式クラス,\n",
    "            ])\n",
    "    解_2 =  ベクトル方程式クラス(証明, [\n",
    "                (m==1) >> 方程式クラス,\n",
    "                (n-m==r) >> 方程式クラス,\n",
    "            ])\n",
    "    解s =  ベクトル解sクラス(証明, [解_1, 解_2])\n",
    "    # セクションを作成\n",
    "    セクション_1 = 証明.作成する_セクション(f'{解_1}のとき', 'case_1')\\\n",
    "        .追加する(s==S_1)\n",
    "    セクション_2 = 証明.作成する_セクション(f'{解_2}のとき','case_2')\\\n",
    "        .追加する(s==S_2)\n",
    "    証明.追加する_説明((r == m*(n-m)) >> 方程式クラス)\\\n",
    "        .追加する_説明(f'{r}は素数なので、')\\\n",
    "        .追加する_説明(解s)\\\n",
    "        .挿入する_セクション(セクション_1)\\\n",
    "        .挿入する_セクション(セクション_2)\\\n",
    "        .表示する_説明()\n",
    "\n",
    "proof_02_16_03()"
   ]
  },
  {
   "attachments": {},
   "cell_type": "markdown",
   "id": "bae9754a",
   "metadata": {},
   "source": [
    "### (4)\n",
    "#### $r$が素数のときに、$S$が6で割り切れることを示せ"
   ]
  },
  {
   "cell_type": "code",
   "execution_count": null,
   "metadata": {},
   "outputs": [],
   "source": [
    "def proof_02_16_04():\n",
    "    証明 = 証明クラス()\n",
    "    r = 証明.作成する_変数('r', {'integer':True, 'positive':True})\n",
    "    s = 証明.作成する_変数('s')\n",
    "    # (m, n-m) = (r, 1)の場合\n",
    "    S_1 = r*(r+1)*(2*r+1)\n",
    "    結果_S_1 = S_1.チェックする_特定の倍数か(\n",
    "        6, \n",
    "        [0], \n",
    "        {'times': 2, 'mod': [1]}, \n",
    "        セクションタイトル='チェックする_特定の倍数か_s1'\n",
    "    )\n",
    "    # (m, n-m) = (1, r)の場合\n",
    "    S_2 = r*(r+1)*(r+2)\n",
    "    結果_S_2 = S_2.チェックする_特定の倍数か(\n",
    "        6, [0], {'times': 2, 'mod': [1]}, セクションタイトル='チェックする_特定の倍数か_s2')\n",
    "    assert 結果_S_1 & 結果_S_2 == True\n",
    "    # Explain\n",
    "    # セクションを作成\n",
    "    セクション_1 = 証明\\\n",
    "        .作成する_セクション(f' {s==S_1}のとき ', 'case_1')\\\n",
    "        .挿入する_セクション('チェックする_特定の倍数か_s1')\n",
    "    セクション_2 = 証明\\\n",
    "        .作成する_セクション(f' {s==S_2}のとき ', 'case_2')\\\n",
    "        .挿入する_セクション('チェックする_特定の倍数か_s2')\n",
    "\n",
    "    証明.挿入する_セクション(セクション_1)\n",
    "    証明.挿入する_セクション(セクション_2)\n",
    "    証明.表示する_説明()\n",
    "\n",
    "\n",
    "proof_02_16_04()\n"
   ]
  },
  {
   "attachments": {},
   "cell_type": "markdown",
   "id": "fae25ca7",
   "metadata": {},
   "source": [
    "## 第3章  "
   ]
  },
  {
   "attachments": {},
   "cell_type": "markdown",
   "id": "10756697",
   "metadata": {},
   "source": [
    "### [17] １次不定方程式（直線型） "
   ]
  },
  {
   "attachments": {},
   "cell_type": "markdown",
   "id": "bae9754a",
   "metadata": {},
   "source": [
    "#### (1)\n",
    "等式$3x+5y=1$を満たす整数$x,y$の組を求めよ"
   ]
  },
  {
   "cell_type": "code",
   "execution_count": null,
   "metadata": {},
   "outputs": [],
   "source": [
    "def proof_03_17_01():\n",
    "    証明 = 証明クラス()\n",
    "    x,y,k = 証明.作成する_変数s('x,y,k_', {'integer':True})\n",
    "    方程式 = (3*x+5*y ==  1) >> 方程式クラス\n",
    "    結果 = 方程式.解く_不定方程式_d1_v2()\n",
    "    # assert (\n",
    "    #     (結果['x'] == 5*k + 2) == True  and (結果['y'] == 3*k - 1) == True\n",
    "    # ) or (\n",
    "    #     (結果['x'] == 5*k - 3) == True  and (結果['y'] == 3*k + 2) == True\n",
    "    # )\n",
    "    証明.挿入する_セクション('解く_不定方程式_d1_v2')\n",
    "    証明.表示する_説明()\n",
    "\n",
    "\n",
    "proof_03_17_01()\n"
   ]
  },
  {
   "attachments": {},
   "cell_type": "markdown",
   "id": "10756697",
   "metadata": {},
   "source": [
    "### [18] 2次以上の不定方程式（分解型） ...京都大学"
   ]
  },
  {
   "attachments": {},
   "cell_type": "markdown",
   "id": "bae9754a",
   "metadata": {},
   "source": [
    "#### (1)\n",
    "$xy+2x+3y=0$を満たす整数$x,y$の組を求めよ"
   ]
  },
  {
   "cell_type": "code",
   "execution_count": null,
   "metadata": {},
   "outputs": [],
   "source": [
    "# $xy+2x+3y=0$を満たす整数$x,y$の組を求めよ\n",
    "def proof_03_18_01():\n",
    "    ### 1. 与式を設定 ###\n",
    "    証明 = 証明クラス()\n",
    "    x,y = 証明.作成する_変数s('x y', {'integer':True})\n",
    "    方程式 = (x*y+2*x+3*y == 0) >> 方程式クラス\n",
    "    ##########\n",
    "    ### 2. 解く ###\n",
    "    方程式.解く_分解型の不定方程式_d1_v2()\n",
    "    ##########\n",
    "    ### 3. 証明を表示 ###\n",
    "    証明.挿入する_セクション('解く_分解型の不定方程式_d1_v2')\n",
    "    証明.表示する_説明()\n",
    "    ##########\n",
    "\n",
    "proof_03_18_01()\n"
   ]
  },
  {
   "attachments": {},
   "cell_type": "markdown",
   "id": "bae9754a",
   "metadata": {},
   "source": [
    "#### (2)\n",
    "$3xy+2x+y+2=0$を満たす整数$x,y$の組を求めよ"
   ]
  },
  {
   "cell_type": "code",
   "execution_count": null,
   "metadata": {},
   "outputs": [],
   "source": [
    "def proof_03_18_02():\n",
    "    ### 1. 与式を設定 ###\n",
    "    証明 = 証明クラス()\n",
    "    x,y = 証明.作成する_変数s('x y', {'integer':True})\n",
    "    方程式 = (3*x*y+2*x+y+2 == 0) >> 方程式クラス\n",
    "    ##########\n",
    "    ### 2. 解く ###\n",
    "    方程式.解く_分解型の不定方程式_d1_v2()\n",
    "    ##########\n",
    "    ### 3. 証明を表示 ###\n",
    "    証明.挿入する_セクション('解く_分解型の不定方程式_d1_v2')\n",
    "    証明.表示する_説明()\n",
    "    ##########\n",
    "\n",
    "proof_03_18_02()"
   ]
  },
  {
   "attachments": {},
   "cell_type": "markdown",
   "id": "10756697",
   "metadata": {},
   "source": [
    "## [19] 2次以上の不定方程式（分解型） (2)"
   ]
  },
  {
   "attachments": {},
   "cell_type": "markdown",
   "id": "bae9754a",
   "metadata": {},
   "source": [
    "### (1)\n",
    "#### 45を引いても、44を足しても平方数となるような自然数を求めよ。\n",
    "#### ただし、平方数とはある自然数$n$によって$n^2$と表される数のことである"
   ]
  },
  {
   "attachments": {},
   "cell_type": "markdown",
   "id": "bae9754a",
   "metadata": {},
   "source": [
    "#### 言い換えると、$a,b,m$を自然数として\n",
    "#### $a^2 = m-45$ \n",
    "#### $b^2 = m+44$ \n",
    "#### となる$m$を求める"
   ]
  },
  {
   "cell_type": "code",
   "execution_count": null,
   "metadata": {},
   "outputs": [],
   "source": [
    "def proof_03_19_01():\n",
    "    証明 = 証明クラス()\n",
    "    a,b,m = 証明.作成する_変数s('a,b,m',{'integer':True, 'positive':True})\n",
    "    方程式 = (b**2-a**2 == 89) >> 方程式クラス\n",
    "    結果s = 方程式.解く_分解型不定方程式_d2_v2(自然数かい=True)\n",
    "    M = a**2+45\n",
    "    結果 = M.代入する(結果s[0])\n",
    "    assert 結果 == 1981\n",
    "    # Explain\n",
    "    証明\\\n",
    "        .挿入する_セクション('解く_分解型不定方程式_d2_v2')\\\n",
    "        .追加する_説明((m == 結果) >> 方程式クラス, 順接か=True)\\\n",
    "        .表示する_説明()\n",
    "\n",
    "\n",
    "\n",
    "proof_03_19_01()"
   ]
  },
  {
   "attachments": {},
   "cell_type": "markdown",
   "id": "bae9754a",
   "metadata": {},
   "source": [
    "### (2)\n",
    "$x^2 +x -(a^2 +5) = 0$を満たす自然数$a,x$の組を全て求めよ。"
   ]
  },
  {
   "cell_type": "code",
   "execution_count": null,
   "metadata": {},
   "outputs": [],
   "source": [
    "def proof_03_19_02():\n",
    "    証明 = 証明クラス()\n",
    "    a,x = 証明.作成する_変数s('a, x')\n",
    "    方程式 = (x**2+x-(a**2+5) == 0) >> 方程式クラス\n",
    "    結果s = 方程式.解く_和差の2乗型の不定方程式(\n",
    "        {\n",
    "            'left_plus_term': x**2+x,\n",
    "            'left_minus_term': a**2,\n",
    "            'right_constant_term': 整数クラス(証明, 5)\n",
    "        }, 自然数かい=True)\n",
    "    証明\\\n",
    "        .挿入する_セクション('解く_和差の2乗型の不定方程式')\\\n",
    "        .表示する_説明()\n",
    "\n",
    "\n",
    "proof_03_19_02()\n"
   ]
  },
  {
   "attachments": {},
   "cell_type": "markdown",
   "id": "10756697",
   "metadata": {},
   "source": [
    "## [20] 3変数の不定方程式（逆数型）"
   ]
  },
  {
   "attachments": {},
   "cell_type": "markdown",
   "id": "bae9754a",
   "metadata": {},
   "source": [
    "### (1)\n",
    "#### $x \\leq 3$であることを示せ"
   ]
  },
  {
   "cell_type": "code",
   "execution_count": null,
   "metadata": {},
   "outputs": [],
   "source": [
    "def proof_03_20_01():\n",
    "    証明 = 証明クラス()\n",
    "    x,y,z = 証明.作成する_変数s('x,y,z', {'integer':True, 'positive':True})\n",
    "    left_formula = 1/x+1/y+1/z\n",
    "    right_side = 整数クラス(証明,1)\n",
    "    left_formula_最小 = left_formula.代入する({'y':'x', 'z':'x'})\n",
    "    left_formula_最大 = left_formula.代入する({'y':'z', 'x':'z'})\n",
    "    x_inequation = 不等式_v1クラス(証明, (right_side, left_formula_最小))\n",
    "    x_最小2=x_inequation\n",
    "    expect = (x<=3)\n",
    "    # assert expect == x_最小2 # sympyのbugのためおかしい。バグレポートすみ：https://github.com/sympy/sympy/issues/24626\n",
    "    # Explain\n",
    "    証明.追加する_説明('変数の大小関係より、')\n",
    "    証明.追加する_説明(x_inequation)\n",
    "    証明.追加する_説明(f'よって、{x}は')\n",
    "    証明.追加する_説明(expect)\n",
    "    証明.表示する_説明()\n",
    "\n",
    "\n",
    "\n",
    "proof_03_20_01()"
   ]
  },
  {
   "attachments": {},
   "cell_type": "markdown",
   "id": "bae9754a",
   "metadata": {},
   "source": [
    "### (2)\n",
    "#### 自然数$x,y,z$の組を求めよ"
   ]
  },
  {
   "cell_type": "code",
   "execution_count": null,
   "metadata": {},
   "outputs": [],
   "source": [
    "def proof_03_20_02():\n",
    "    証明 = 証明クラス()\n",
    "    # x,y,z = 証明.作成する_変数(['x','y','z'], {'integer':True, 'positive':True})\n",
    "    x,y,z = 証明.作成する_変数(['x','y','z'], {'integer':True})\n",
    "    与式 = (1/x+1/y+1/z==1) >> 方程式クラス\n",
    "    結果 = 与式.解く_対称不定方程式( ['x', 'y', 'z'])\n",
    "    assert 結果 is not None\n",
    "    証明\\\n",
    "        .挿入する_セクション('解く_対称不定方程式')\\\n",
    "        .追加する_説明('数の大小関係を考慮すると、')\\\n",
    "        .追加する_説明(結果)\\\n",
    "        .表示する_説明()\n",
    "\n",
    "\n",
    "proof_03_20_02()\n"
   ]
  },
  {
   "attachments": {},
   "cell_type": "markdown",
   "id": "10756697",
   "metadata": {},
   "source": [
    "## [21] 3変数の不定方程式（逆数型）\n",
    "### $a,b,c$を正の整数とするとき、等式\n",
    "### $(1+ \\frac{1}{a})(1+ \\frac{1}{b})(1+ \\frac{1}{c})=2$...(*)\n",
    "### について、次の問いに答えよ"
   ]
  },
  {
   "attachments": {},
   "cell_type": "markdown",
   "id": "bae9754a",
   "metadata": {},
   "source": [
    "### (1)\n",
    "#### $c=1$のとき、等式(*)を満たす正の整数$a,b$は存在しないことを示せ"
   ]
  },
  {
   "attachments": {},
   "cell_type": "markdown",
   "id": "bae9754a",
   "metadata": {},
   "source": [
    "### (2)\n",
    "#### $c=2$のとき、等式(*)を満たす正の整数$a,b$の組で、$a\\geq b$を満たすものを全て求めよ。"
   ]
  },
  {
   "attachments": {},
   "cell_type": "markdown",
   "id": "bae9754a",
   "metadata": {},
   "source": [
    "### (3)\n",
    "#### 等式(＊)を満たす正の整数の組$(a,b,c)$で、$a \\geq b \\geq c$を満たすものを全て求めよ。"
   ]
  },
  {
   "cell_type": "code",
   "execution_count": null,
   "metadata": {},
   "outputs": [],
   "source": [
    "def proof_03_21_03():\n",
    "    証明 = 証明クラス()\n",
    "    a,b,c = 証明.作成する_変数s('a,b,c')\n",
    "    方程式 = ((1+1/a)*(1+1/b)*(1+1/c) ==2) >> 方程式クラス\n",
    "    結果 = 方程式.解く_対称不定方程式( ['c', 'b', 'a'])\n",
    "    assert 結果 is not None\n",
    "    証明\\\n",
    "        .挿入する_セクション('解く_対称不定方程式')\\\n",
    "        .追加する_説明(結果)\\\n",
    "        .表示する_説明()\n",
    "\n",
    "\n",
    "proof_03_21_03()"
   ]
  },
  {
   "attachments": {},
   "cell_type": "markdown",
   "id": "10756697",
   "metadata": {},
   "source": [
    "### [22] 和と積の比較\n",
    "$n$ を正の整数とする。実数 $x,y,z$ に対する方程式  \n",
    "$x^n+y^n+z^n=xyz$ ...{1}  \n",
    "を考える"
   ]
  },
  {
   "attachments": {},
   "cell_type": "markdown",
   "id": "bae9754a",
   "metadata": {},
   "source": [
    "### (1)\n",
    "$n=1$ のとき、 {1} を満たす正の整数 $(x,y,z)$ で、 $x\\leq y \\leq z$ となるものを全て求めよ"
   ]
  },
  {
   "cell_type": "code",
   "execution_count": null,
   "metadata": {},
   "outputs": [],
   "source": [
    "def proof_03_22_01_01():\n",
    "    証明 = 証明クラス()\n",
    "    x,y,z = 証明.作成する_変数(['x', 'y', 'z'], {'positive':True})\n",
    "    方程式 = (x+y+z==x*y*z) >> 方程式クラス\n",
    "    方程式.取得する_不定方程式の解の範囲(['x', 'y', 'z'])\n",
    "    証明\\\n",
    "        .挿入する_セクション('取得する_不定方程式の解の範囲')\\\n",
    "        .表示する_説明()\n",
    "\n",
    "\n",
    "proof_03_22_01_01()\n"
   ]
  },
  {
   "cell_type": "code",
   "execution_count": null,
   "metadata": {},
   "outputs": [],
   "source": [
    "def proof_03_22_01_02():\n",
    "    証明 = 証明クラス()\n",
    "    x,y,z = 証明.作成する_変数s('x,y,z')\n",
    "    不定方程式 = (x+y+z ==x*y*z) >> 方程式クラス\n",
    "    特殊解s = ベクトル解sクラス(\n",
    "        証明, [\n",
    "            ベクトル方程式クラス(証明, [\n",
    "                (x==1) >> 方程式クラス, \n",
    "                (y==1) >> 方程式クラス\n",
    "            ]),\n",
    "            ベクトル方程式クラス(証明, [\n",
    "                (x==1) >> 方程式クラス, \n",
    "                (y==2) >> 方程式クラス\n",
    "            ]),\n",
    "            ベクトル方程式クラス(証明, [\n",
    "                (x==1) >> 方程式クラス, \n",
    "                (y==3) >> 方程式クラス\n",
    "            ]),\n",
    "        ]\n",
    "    ) \n",
    "    for 特殊解 in 特殊解s:\n",
    "        不定方程式_現在:方程式クラス = deepcopy(不定方程式)\n",
    "        for 方程式 in 特殊解:\n",
    "            不定方程式_現在 = 不定方程式_現在.代入する(方程式)\n",
    "        解 = 不定方程式_現在.解く('z')\n",
    "        if len(解) == 1: #and 特殊解['y'] <= int(z[0].テキスト):\n",
    "            解s:ベクトル方程式クラス = deepcopy(特殊解)\n",
    "            解s.追加する((z  == 解[0])>>方程式クラス)\n",
    "            解s.表示する()\n",
    "\n",
    "\n",
    "proof_03_22_01_02()"
   ]
  },
  {
   "cell_type": "code",
   "execution_count": null,
   "metadata": {},
   "outputs": [],
   "source": [
    "def proof_03_22_02_01():#TODO:解がおかしい\n",
    "    証明 = 証明クラス()\n",
    "    x,y,z = 証明.作成する_変数s('x,y,z', {'integer':True, 'positive':True}) \n",
    "    # x,y,z = 証明.作成する_変数(['x','y','z'])\n",
    "    方程式 = (x**3+y**3+z**3 ==x*y*z) >> 方程式クラス\n",
    "    方程式.取得する_不定方程式の解の範囲(['x','y','z'])\n",
    "    証明\\\n",
    "        .挿入する_セクション('取得する_不定方程式の解の範囲')\\\n",
    "        .表示する_説明()\n",
    "\n",
    "\n",
    "proof_03_22_02_01()"
   ]
  },
  {
   "attachments": {},
   "cell_type": "markdown",
   "id": "fae25ca7",
   "metadata": {},
   "source": [
    "## 第4セクション  "
   ]
  },
  {
   "attachments": {},
   "cell_type": "markdown",
   "id": "7599e51e",
   "metadata": {},
   "source": [
    "### [23] 2次方程式の整数解(1) (解と係数の関係)  \n",
    "$m$を実数とする方程式  \n",
    "$x^2-2mx-4m+1 = 0$  \n",
    "が整数解を持つような整数$m$の値をすべて求めよ\n"
   ]
  },
  {
   "cell_type": "code",
   "execution_count": null,
   "metadata": {},
   "outputs": [],
   "source": [
    "def proof_04_23():\n",
    "    証明 = 証明クラス()\n",
    "    m, x, x_1, x_2 = 証明.作成する_変数s(\"m x x_1 x_2\", {\"integer\": True})\n",
    "    与式 = 方程式_2dクラス(証明, \"x**2-2*m*x-4*m+1=0\", main_variable=\"x\")\n",
    "    解の和 = x_1 + x_2\n",
    "    解の積 = x_1 * x_2\n",
    "    方程式_1 = (解の和 == 与式.ヴィエタの公式_積) >> 方程式クラス\n",
    "    方程式_2 = (解の積 == 与式.ヴィエタの公式_積) >> 方程式クラス\n",
    "    方程式s = 方程式sクラス(証明, [方程式_1, 方程式_2])\n",
    "    方程式_m除去 = 方程式s.変数を減らす(\"m\")[0]\n",
    "    assert not isinstance(方程式_m除去, type(None))\n",
    "    # [18](1)と同じ解法\n",
    "    方程式 = (2 * x_1 + 2 * x_2 + x_1 * x_2 - 1 == 0) >> 方程式クラス\n",
    "    結果s = 方程式.解く_分解型の不定方程式_d1_v2()\n",
    "    証明.追加する_説明(与式, 補足=\"与式\")\\\n",
    "        .追加する_説明(f\"与式の整数解を{x_1},{x_2}と置く。\")\\\n",
    "        .追加する_説明(\n",
    "            方程式_1, 順接か=True, 補足=\"解と係数の関係\"\n",
    "        ).追加する_説明(方程式_2, 順接か=True, 補足=\"解と係数の関係\")\\\n",
    "        .追加する_説明(\n",
    "            方程式_m除去, 順接か=True, 補足=f\"{m}を消去\", 補足のタイプ=\"plain\"\n",
    "        ).挿入する_セクション(\n",
    "            \"解く_分解型の不定方程式_d1_v2\"\n",
    "        ).表示する_説明()\n",
    "    解s: set[int] = set()\n",
    "    # for 結果 in 結果s:\n",
    "    #     m = 方程式_1.代入する(結果).解く(\"m\")[0]  # TODO:整数条件より、mが不能のハンドリングを追加する。\n",
    "    #     m = m >> 整数クラス\n",
    "    #     print(m.number)\n",
    "    #     解s.add(m.number)\n",
    "\n",
    "\n",
    "proof_04_23()"
   ]
  },
  {
   "attachments": {},
   "cell_type": "markdown",
   "id": "7599e51e",
   "metadata": {},
   "source": [
    "### [24] 2次方程式の整数解(2) (判別式)  \n",
    "以下の問いに答えよ。"
   ]
  },
  {
   "attachments": {},
   "cell_type": "markdown",
   "id": "bae9754a",
   "metadata": {},
   "source": [
    "#### (1)\n",
    " $k$を整数とするとき、xの方程式$x^2-k^2=12$が整数解を持つような$k$の値を求めよ。 "
   ]
  },
  {
   "cell_type": "code",
   "execution_count": null,
   "metadata": {},
   "outputs": [],
   "source": [
    "def proof_04_24_01():\n",
    "    証明 = 証明クラス()\n",
    "    k,x = 証明.作成する_変数s('k,x', {'integer':True, 'positive':True}) #TODO: Modify\n",
    "    # k,x = 証明.作成する_変数s('k,x')\n",
    "    方程式 = (x**2-k**2== 12) >> 方程式クラス\n",
    "    結果s = 方程式.解く_分解型不定方程式_d2_v2(False)\n",
    "    証明.挿入する_セクション('解く_分解型不定方程式_d2_v2')\n",
    "    証明.表示する_説明()\n",
    "\n",
    "proof_04_24_01()"
   ]
  },
  {
   "attachments": {},
   "cell_type": "markdown",
   "id": "bae9754a",
   "metadata": {},
   "source": [
    "#### (2)\n",
    " $x$の方程式$(2a-1)x^2 + (3a+2)x + a+2 = 0$が少なくとも１つの整数解を持つような整数$a$の値と、そのときの整数解をすべて求めよ。"
   ]
  },
  {
   "cell_type": "code",
   "execution_count": null,
   "metadata": {},
   "outputs": [],
   "source": [
    "def proof_04_24_02():\n",
    "    証明 = 証明クラス()\n",
    "    d,n,x = 証明.作成する_変数s('D n x')\n",
    "    a = 証明.作成する_変数('a', {'integer':True})\n",
    "    与式 = 方程式_2dクラス(証明, ((2*a-1)*x**2 + (3*a+2)*x + (a+2), 0), main_variable='x')\n",
    "    D = 与式.判別式\n",
    "    方程式 = (n**2 -a**2== 12) >> 方程式クラス#途中結果を反映\n",
    "    結果s = 方程式.解く_分解型不定方程式_d2_v2(False)#TODO:方程式の柔軟に対応\n",
    "    解_1 = 与式.代入する({'a':-2}).解く('x')\n",
    "    解_2 = 与式.代入する({'a':2}).解く('x')\n",
    "    # Explain\n",
    "    セクション_d = 証明\\\n",
    "        .作成する_セクション('判別式', 'd')\\\n",
    "        .追加する(d==D)\\\n",
    "        .追加する(d==D.展開する())\n",
    "    セクション_1 = 証明\\\n",
    "        .作成する_セクション('$ a = -2のとき $', 'セクション_1')\\\n",
    "        .追加する(解sクラス(証明, [\n",
    "            (x==_) >> 説明式クラス for _ in 解_1\n",
    "        ]))\n",
    "    セクション_2 = 証明\\\n",
    "        .作成する_セクション('$ a = 2のとき $', 'セクション_2')\\\n",
    "        .追加する(解sクラス(証明, [\n",
    "            (x==_) >> 説明式クラス for _ in 解_2\n",
    "        ]))\n",
    "\n",
    "    証明\\\n",
    "        .挿入する_セクション(セクション_d)\\\n",
    "        .追加する_説明(方程式, 順接か=True, 補足='少なくとも１つの整数解を持つ')\\\n",
    "        .挿入する_セクション('解く_分解型不定方程式_d2_v2')\\\n",
    "        .追加する_説明(解sクラス(証明, [ #途中結果を反映\n",
    "            (a==-2) >> 説明式クラス,\n",
    "            (a==2) >> 説明式クラス,\n",
    "        ]))\\\n",
    "        .挿入する_セクション(セクション_1)\\\n",
    "        .挿入する_セクション(セクション_2)\\\n",
    "        .表示する_説明()\n",
    "\n",
    "\n",
    "proof_04_24_02()"
   ]
  },
  {
   "attachments": {},
   "cell_type": "markdown",
   "metadata": {},
   "source": [
    "### [25] 3次方程式の整数解(1)  \n",
    "３次関数$f(x) = x^3 -3x^2 -4x + k$について、次の問いに答えよ。ただし、kは定数とする。"
   ]
  },
  {
   "attachments": {},
   "cell_type": "markdown",
   "id": "bae9754a",
   "metadata": {},
   "source": [
    "### (1)\n",
    "$f(x)$が極値をとるときの$x$の値を求めよ。"
   ]
  },
  {
   "cell_type": "code",
   "execution_count": null,
   "metadata": {},
   "outputs": [],
   "source": [
    "def proof_04_25_01():\n",
    "    証明 = 証明クラス()\n",
    "    k,x = 証明.作成する_変数(['k','x'])\n",
    "    f = x**3-3*x**2-4*x+k\n",
    "    f_diff = f.微分する('x')\n",
    "    極値s = f_diff.解く('x')\n",
    "    解s = 解sクラス(証明, [(x==_) >> 説明式クラス for _ in 極値s]) #Displayだとうまくいかない\n",
    "    # Explain\n",
    "    証明.追加する_説明( 解s)\\\n",
    "        .表示する_説明()\n",
    "\n",
    "proof_04_25_01()"
   ]
  },
  {
   "attachments": {},
   "cell_type": "markdown",
   "id": "bae9754a",
   "metadata": {},
   "source": [
    "### (2)\n",
    "方程式$f(x)$が異なる３つの整数解をとるときの$k$の値を求めよ。"
   ]
  },
  {
   "cell_type": "code",
   "execution_count": null,
   "metadata": {},
   "outputs": [],
   "source": [
    "def proof_04_25_02():\n",
    "    証明 = 証明クラス()\n",
    "    x,y = 証明.作成する_変数(['x','y'])\n",
    "    f = x**3-3*x**2-4*x\n",
    "    図形 = 図形クラス(証明,(1, 2))\n",
    "    図形.追加する_サブプロット((0, 0))\n",
    "    図形.追加する_サブプロット((0, 1))\n",
    "    軸s_0 = 図形.軸s[0][0]\n",
    "    assert isinstance(軸s_0, 座標クラス)\n",
    "    軸s_0.プロットする_直線の式(f, 'x', ラベル='f(x)')\\\n",
    "        .リセットする_範囲(((-3, 5), (-16, 3)))\\\n",
    "        .追加する_グリッド()\\\n",
    "        .プロットする_散布の式(\n",
    "            [\n",
    "                {'x': '1-21**(1/2)/3', 'annotation': '極大'},\n",
    "                {'x': '1+21**(1/2)/3', 'annotation': '極小'}\n",
    "            ], f, 'x','orange'\n",
    "        )\\\n",
    "        .設定する_凡例()\n",
    "    # 上記より考察して\n",
    "    k_最大 = 12\n",
    "    k_最小 = 0\n",
    "    x_範囲:list[int] = list(range(-2, 5))\n",
    "    軸s_1= 図形.軸s[0][1]\n",
    "    assert isinstance(軸s_1, 座標クラス)\n",
    "    軸s_1\\\n",
    "        .プロットする_直線の式(f, 'x', ラベル='f(x)')\\\n",
    "        .プロットする_直線の式(-k_最小, 'x', ラベル= '-k_最小')\\\n",
    "        .プロットする_直線の式(-k_最大, 'x', ラベル= '-k_最大')\\\n",
    "        .リセットする_範囲(((-3, 5), (-16, 3)))\\\n",
    "        .追加する_グリッド()\\\n",
    "        .プロットする_散布の式(\n",
    "            [\n",
    "                {'x': '1-21**(1/2)/3', 'annotation': '極大'},\n",
    "                {'x': '1+21**(1/2)/3', 'annotation': '極小'}\n",
    "            ], f, 'x','orange'\n",
    "        )\\\n",
    "        .プロットする_散布の式({'x':x_範囲}, f, 'x','red'\n",
    "        )\\\n",
    "        .設定する_凡例()\n",
    "    points:list[tuple[int,int]] =[]\n",
    "    for _ in x_範囲:\n",
    "        x_int =  整数クラス(証明, _)\n",
    "        point = (x_int.数, (f.代入する({'x':x_int}) >> 整数クラス).数)\n",
    "        points.append(point)\n",
    "    points_equation = ベクトル解sクラス(証明, [\n",
    "        ベクトル方程式クラス(証明, [\n",
    "            (x== point[0]) >> 方程式クラス,\n",
    "            (y== point[1]) >> 方程式クラス\n",
    "            ] \n",
    "        ) for point in points\n",
    "    ])\n",
    "    証明.追加する_説明(points_equation)\\\n",
    "        .表示する_説明()\n",
    "\n",
    "proof_04_25_02()"
   ]
  },
  {
   "attachments": {},
   "cell_type": "markdown",
   "metadata": {},
   "source": [
    "### [26] 3次方程式の整数解(2)  \n",
    "$n$を自然数とする。３次方程式$2x^3-25x^2+(5n+2)x-35 = 0$について、次の問いに答えよ。"
   ]
  },
  {
   "attachments": {},
   "cell_type": "markdown",
   "id": "bae9754a",
   "metadata": {},
   "source": [
    "#### (1)\n",
    "方程式の１つの解が自然数であるときに、$n$の値を求めよ。"
   ]
  },
  {
   "cell_type": "code",
   "execution_count": null,
   "metadata": {},
   "outputs": [],
   "source": [
    "def proof_04_26_01():\n",
    "    証明 = 証明クラス()\n",
    "    n = 証明.作成する_変数('n', {'integer':True, 'positive':True})\n",
    "    n, x, x_0 = 証明.作成する_変数s('n,x,x_0' , {'n':{'integer':True, 'positive':True}})\n",
    "    与式 = (2*x**3-25*x**2+(5*n+2)*x-35==0) >> 方程式クラス\n",
    "    # 整数解は35の約数\n",
    "    const = 与式.式s[0].取得する_係数s('x')[0] >> 整数クラス\n",
    "    divisor = const.約数s\n",
    "    解s_list:list[式クラス]=[]\n",
    "    for d in divisor:\n",
    "        case = 与式.代入する({'x':d}).解く('n')\n",
    "        if (0<len(case) ):\n",
    "            解s_list.append(case[0])\n",
    "        case = 与式.代入する({'x':-d}).解く('n')\n",
    "        if (0<len(case) ):\n",
    "            解s_list.append(case[0])\n",
    "    解s = 解sクラス(証明,  [(n==sol) >> 説明式クラス for sol in 解s_list if sol.キャスト可能か(整数クラス)])\n",
    "    証明\\\n",
    "        .追加する_説明('下記と置く。')\\\n",
    "        .追加する_説明(x_0 == '１つの解 と置く')\\\n",
    "        .追加する_説明(f'{x_0}は{const}の約数のはずである。')\\\n",
    "        .追加する_説明(f'{x_0}の候補は下記となる')\\\n",
    "        .追加する_説明(解sクラス(証明, [\n",
    "            (x_0 == _) >> 説明式クラス for _ in divisor\n",
    "        ]))\\\n",
    "        .追加する_説明(f'上記を{与式}に代入して、自然数となる{n}を求める。')\\\n",
    "        .追加する_説明( 解s, 順接か=True)\\\n",
    "        .表示する_説明()\n",
    "    \n",
    "\n",
    "proof_04_26_01()"
   ]
  },
  {
   "attachments": {},
   "cell_type": "markdown",
   "id": "bae9754a",
   "metadata": {},
   "source": [
    "#### (２)\n",
    "(1)で求めた$n$に対して、方程式の解を全て求めよ"
   ]
  },
  {
   "cell_type": "code",
   "execution_count": null,
   "metadata": {},
   "outputs": [],
   "source": [
    "def proof_04_26_02():\n",
    "    証明 = 証明クラス()\n",
    "    n, x = 証明.作成する_変数(['n', 'x'])\n",
    "    与式 = (2*x**3-25*x**2+(5*n+2)*x-35 == 0) >> 方程式クラス\n",
    "    # proof_04_26_01より\n",
    "    方程式 = 与式.代入する({'n': 16})\n",
    "    方程式_factorize = 方程式.因数分解する()\n",
    "    解ず = 方程式_factorize.解く('x')\n",
    "    解s_方程式 = 解sクラス(証明, [ (x==_) >> 説明式クラス for _ in 解ず])\n",
    "    証明.追加する_説明(与式, 補足='与式')\\\n",
    "        .追加する_説明(方程式, 補足=f'{n==16}', 順接か=True)\\\n",
    "        .追加する_説明(方程式_factorize,  順接か=True)\\\n",
    "        .追加する_説明(解s_方程式, 順接か=True)\\\n",
    "        .表示する_説明()\n",
    "\n",
    "\n",
    "\n",
    "proof_04_26_02()\n"
   ]
  },
  {
   "attachments": {},
   "cell_type": "markdown",
   "metadata": {},
   "source": [
    "### [27] 2次不等式の整数解  \n",
    " 整数mに対し、$f(x) = x^2 -mx+ \\frac{m}{4} -1$ とおく。次の問いに答えよ。"
   ]
  },
  {
   "attachments": {},
   "cell_type": "markdown",
   "id": "bae9754a",
   "metadata": {},
   "source": [
    "#### (1)\n",
    " 方程式 $f(x)=0$ が、整数の解を少なくとも１つ持つような $m$ の値を求めよ。 "
   ]
  },
  {
   "cell_type": "code",
   "execution_count": null,
   "metadata": {},
   "outputs": [],
   "source": [
    "def proof_04_27_01():\n",
    "    証明 = 証明クラス()\n",
    "    d,n,m,x = 証明.作成する_変数(['D','n','m','x'])\n",
    "    与式 = 方程式_2dクラス(証明, (x**2 -m*x +m/4 -1, 0), main_variable='x')\n",
    "    D = 与式.判別式\n",
    "    方程式 = 方程式クラス(証明, (D, 式クラス(証明, 'n**2')))\n",
    "    結果s = 方程式.解く_和差の2乗型の不定方程式( # 途中結果を反映\n",
    "        {\n",
    "            'left_plus_term': m**2-m,\n",
    "            'left_minus_term': n**2,\n",
    "            'right_constant_term': 整数クラス(証明, -4)\n",
    "        }, 自然数かい=False)\n",
    "    解s:list[方程式クラス] =[]\n",
    "    for 結果 in 結果s:\n",
    "        x_m = 与式.代入する(結果).解く('x')\n",
    "        if 0< len([_ for _ in x_m if _.キャスト可能か(整数クラス)]):\n",
    "            解s.append([_ for _ in 結果 if (_.式s[0] == m) == True][0])\n",
    "    解s_equation = 解sクラス(証明, [_ >> 説明式クラス for _ in 解s])\n",
    "    # Explain\n",
    "    セクション_d = 証明.作成する_セクション('判別式より','セクション_d')\\\n",
    "        .追加する(d==D)\n",
    "    証明\\\n",
    "        .挿入する_セクション(セクション_d)\\\n",
    "        .追加する_説明('整数解を１つ以上持つので、')\\\n",
    "        .追加する_説明(方程式, 順接か=True, 補足='$n=整数$')\\\n",
    "        .挿入する_セクション('解く_和差の2乗型の不定方程式')\\\n",
    "        .追加する_説明(解s_equation)\\\n",
    "        .表示する_説明()\n",
    "\n",
    "proof_04_27_01()"
   ]
  },
  {
   "attachments": {},
   "cell_type": "markdown",
   "id": "bae9754a",
   "metadata": {},
   "source": [
    "#### (2)\n",
    "不等式$f(x)\\leq0$を満たす整数$x$が、ちょうど４個あるような$m$の値を求めよ"
   ]
  },
  {
   "cell_type": "code",
   "execution_count": null,
   "metadata": {},
   "outputs": [],
   "source": [
    "def proof_04_27_02():\n",
    "    証明 = 証明クラス()\n",
    "    解_quantity = 4\n",
    "    # 変数,与式の登録\n",
    "    a,b,c,x,m,n,d = 証明.作成する_変数(['a','b','c','x','m','n','D'])\n",
    "    与式 = 方程式_2dクラス(証明,(x**2 -m*x +m/4 -1, 0),main_variable='x') #castがうまくいかない\n",
    "    # 証明\n",
    "    D = 与式.b**2- 4*与式.a*与式.c\n",
    "    ## xの整数解が4個あるための必要条件\n",
    "    in方程式_1= ((解_quantity-1)**2 < D) >> 不等式_v1クラス\n",
    "    in方程式_2= (D < (解_quantity+1)**2) >> 不等式_v1クラス\n",
    "    必要条件 = (in方程式_1 & in方程式_2) >> 複合条件_v1クラス\n",
    "    ## 必要条件からの解の候補\n",
    "    解_candidates = 必要条件.取得する_整数のセット()\n",
    "    解: list[int] = []\n",
    "    sections:list[セクションクラス] =[]\n",
    "    ## 実際に方程式を解いて、十分条件を満たす解のみ抽出\n",
    "    for i, 解_candidate in enumerate(解_candidates):\n",
    "        方程式 = 与式.代入する({'m':解_candidate})\n",
    "        # 方程式.表示する()\n",
    "        解_方程式 = 方程式.解く('x')\n",
    "        condition = (\n",
    "            (解_方程式[0] <= x) & (x<=解_方程式[1])\n",
    "            if (解_方程式[0] < 解_方程式[1]) == True\n",
    "            else (解_方程式[1] <= x) & (x<=解_方程式[0])\n",
    "        ) >> 複合条件_v1クラス\n",
    "        x_int_解s = condition.取得する_整数のセット()\n",
    "        if len(x_int_解s) ==4:\n",
    "            解.append(解_candidate)\n",
    "        ### 説明セクションの作成\n",
    "        セクション = 証明\\\n",
    "            .作成する_セクション(f'{m == 解_candidate}のとき', f'セクション_{i}')\\\n",
    "            .追加する(方程式, 順接か=True)\\\n",
    "            .追加する(f'解の範囲は{condition.範囲}')\\\n",
    "            .追加する(f'それを満たす整数の{x}は、')\\\n",
    "            .追加する(解sクラス(証明, [(x == _) >> 説明式クラス for _ in x_int_解s]))\n",
    "        if len(x_int_解s) ==解_quantity:\n",
    "            セクション.追加する(f'解が${解_quantity}$個なので、条件を満たす。')\n",
    "        else:\n",
    "            セクション.追加する(f'解が${解_quantity}$個ではないので、条件を満たさない。')\n",
    "        sections.append(セクション)\n",
    "    ## 説明\n",
    "    セクション_d = 証明\\\n",
    "        .作成する_セクション('判別式より', 'セクション_d')\\\n",
    "        .追加する(d==b**2-4*a*c)\\\n",
    "        .追加する(d==D)\n",
    "    セクション_necessary = 証明\\\n",
    "        .作成する_セクション(f'{x}の整数解が4個あるための必要条件', 'セクション_necessary')\\\n",
    "        .追加する(((解_quantity-1)**2< d) & (d < (解_quantity+1)**2))\\\n",
    "        .追加する(((解_quantity-1)**2< D) & (D < (解_quantity+1)**2), 順接か=True)\\\n",
    "        .追加する(解sクラス(証明, [(m == _) >> 説明式クラス for _ in 解_candidates]),順接か=True)\n",
    "    証明.挿入する_セクション(セクション_d)\\\n",
    "        .挿入する_セクション(セクション_necessary)\n",
    "    for _ in sections:\n",
    "        証明.挿入する_セクション(_)\n",
    "    証明.追加する_説明(解sクラス(証明, [(m == _) >> 説明式クラス for _ in 解]), 順接か=True)\\\n",
    "        .表示する_説明()\n",
    "\n",
    "    # return 解\n",
    "        # fig = 図形クラス(証明, (1,1)).足す_座標システム((0,0))\n",
    "        # 座標 = fig.座標ず[0][0]\n",
    "        # 座標.足す_グリッド().再設定する_範囲(((-1,5), (-2,2))).プロットする_式の曲線(方程式.式s[0], 'x')\n",
    "        # print(condition.取得する_整数集合())\n",
    "\n",
    "\n",
    "\n",
    "proof_04_27_02()"
   ]
  },
  {
   "attachments": {},
   "cell_type": "markdown",
   "id": "fae25ca7",
   "metadata": {},
   "source": [
    "## 第6章  "
   ]
  },
  {
   "attachments": {},
   "cell_type": "markdown",
   "metadata": {},
   "source": [
    "### [31] ガウス記号  \n",
    " 実数 $x$ に対して $k \\le x \\lt k+1$ を満たす整数 $k$ を$[x]$で表す。たとえば$[\\frac{5}{2}]=2, [2]=2, [-2.1]=-3$である。"
   ]
  },
  {
   "attachments": {},
   "cell_type": "markdown",
   "id": "bae9754a",
   "metadata": {},
   "source": [
    "#### (1)\n",
    " $n^2-5n+5 \\lt 0$を満たす整数$n$をすべて求めよ。"
   ]
  },
  {
   "cell_type": "code",
   "execution_count": null,
   "metadata": {},
   "outputs": [],
   "source": [
    "def proof_06_31_01():\n",
    "    証明 = 証明クラス()\n",
    "    n = 証明.作成する_変数('n')\n",
    "    式 = n**2-5*n+5\n",
    "    図形 = 図形クラス(証明, (1, 2))\n",
    "    図形\\\n",
    "        .追加する_サブプロット((0, 0))\\\n",
    "        .追加する_サブプロット((0, 1))\n",
    "    軸s_0 = 図形.軸s[0][0]\n",
    "    assert isinstance(軸s_0, 座標クラス)\n",
    "    軸s_0\\\n",
    "        .プロットする_直線の式(式, str(n), ラベル=f'$f({str(n)})$')\\\n",
    "        .リセットする_ラベル((str(n), 'f(n)'))\\\n",
    "        .リセットする_範囲(((0, 6), (-2, 4)))\\\n",
    "        .追加する_グリッド()\\\n",
    "        .設定する_凡例()\n",
    "    # 上記より考察して\n",
    "    軸s_1 = 図形.軸s[0][1]\n",
    "    assert isinstance(軸s_1, 座標クラス)\n",
    "    軸s_1\\\n",
    "        .プロットする_直線の式(式, str(n), ラベル=f'$f({str(n)})$')\\\n",
    "        .リセットする_ラベル((str(n), 'f(n)'))\\\n",
    "        .リセットする_範囲(((0, 6), (-2, 4)))\\\n",
    "        .追加する_グリッド()\\\n",
    "        .プロットする_散布の式({'x':list(range(0,5))}, 式, str(n),'red')\\\n",
    "        .設定する_凡例()\n",
    "proof_06_31_01()"
   ]
  },
  {
   "attachments": {},
   "cell_type": "markdown",
   "id": "bae9754a",
   "metadata": {},
   "source": [
    "### (2)\n",
    " $[x]^2-5[x]+5 \\lt 0$を満たす整数$x$をすべて求めよ。"
   ]
  },
  {
   "attachments": {},
   "cell_type": "markdown",
   "metadata": {},
   "source": [
    "(1)より、$[x]=2,3$となる$x$である。\n",
    "だから、$2\\le x \\lt 4$"
   ]
  },
  {
   "attachments": {},
   "cell_type": "markdown",
   "id": "bae9754a",
   "metadata": {},
   "source": [
    "#### (3)\n",
    " xは(2)で求めた範囲にあるとする。$x^2-5[x]+5=0$を満たす整数$x$をすべて求めよ。 "
   ]
  },
  {
   "cell_type": "code",
   "execution_count": null,
   "metadata": {},
   "outputs": [],
   "source": [
    "def proof_06_31_03():\n",
    "    証明 = 証明クラス()\n",
    "    n,x = 証明.作成する_変数s('n x')\n",
    "    式 = n**2-5*n+5\n",
    "    図形 = 図形クラス(証明,(1, 2))\n",
    "    図形\\\n",
    "        .追加する_サブプロット((0, 0))\n",
    "    軸s_0 = 図形.軸s[0][0]\n",
    "    assert isinstance(軸s_0, 座標クラス)\n",
    "    軸s_0\\\n",
    "        .プロットする_直線の式('n**2-5*math.floor(n)+5', 'n', ラベル='f(n)')\\\n",
    "        .リセットする_範囲(((2, 4), (-2, 4)))\\\n",
    "        .追加する_グリッド()\\\n",
    "        .設定する_凡例()\n",
    "    f_1 = n**2-5*2+5\n",
    "    x_1_最小 = f_1.解く()[0]\n",
    "    x_1_最大 = f_1.解く()[1]\n",
    "    解s_1 = 解sクラス(証明, [ (x==_) >> 方程式クラス for _ in [x_1_最小,x_1_最大] if ((2<=_) & (_<3))==True])\n",
    "    f_2 = n**2-5*3+5\n",
    "    x_2_最小 = f_2.解く()[0]\n",
    "    x_2_最大 = f_2.解く()[1]\n",
    "    解s_2 = 解sクラス(証明, [ (x==_) >> 方程式クラス for _ in [x_2_最小,x_2_最大] if ((3<=_) & (_<4))==True])\n",
    "    case_1 = 証明\\\n",
    "        .作成する_セクション(f'{(2<=x) & (x<3)}のとき', 'case_1')\\\n",
    "        .追加する(f_1==0,順接か=True)\\\n",
    "        .追加する(解s_1, 順接か=True)\n",
    "    case_2 = 証明\\\n",
    "        .作成する_セクション(f'{(3<=x) & (x<4)}のとき', 'case_2')\\\n",
    "        .追加する(f_2==0,順接か=True)\\\n",
    "        .追加する(解s_2, 順接か=True)\n",
    "    証明\\\n",
    "        .挿入する_セクション(case_1)\\\n",
    "        .挿入する_セクション(case_2)\\\n",
    "        .追加する_説明(解s_1+解s_2, 順接か=True)\\\n",
    "        .表示する_説明()\n",
    "\n",
    "\n",
    "\n",
    "proof_06_31_03()"
   ]
  },
  {
   "attachments": {},
   "cell_type": "markdown",
   "metadata": {},
   "source": [
    "### [32] ガウス記号(2)  \n",
    "実数xを超えない最大の整数を[x]とし、$<x>=x-[x]$とする。また、aを定数として次の方程式を考える。\n",
    " $4<x>^2 - <2x> -a = 0$\n",
    " ただし、$<x>^2$は$<x>$の2乗を表す。"
   ]
  },
  {
   "attachments": {},
   "cell_type": "markdown",
   "id": "bae9754a",
   "metadata": {},
   "source": [
    "#### (1)\n",
    "x=1.7のとき、<x>および<2x>を求めよ。"
   ]
  },
  {
   "cell_type": "code",
   "execution_count": null,
   "metadata": {},
   "outputs": [],
   "source": [
    "def proof_06_32_01():\n",
    "    証明 = 証明クラス()\n",
    "    x,X = 証明.作成する_変数s('x X')\n",
    "    floor_x=(x%1).代入する({'x':1.7})\n",
    "    方程式_1 = X == floor_x\n",
    "    floor_2x=((2*x)%1).代入する({'x':1.7})\n",
    "    方程式_2 = 2*X == floor_2x\n",
    "    証明\\\n",
    "        .追加する_説明(X == '<x>と置く')\\\n",
    "        .追加する_説明(方程式_1)\\\n",
    "        .追加する_説明(方程式_2)\\\n",
    "        .表示する_説明()\n",
    "\n",
    "\n",
    "\n",
    "proof_06_32_01()"
   ]
  },
  {
   "attachments": {},
   "cell_type": "markdown",
   "id": "bae9754a",
   "metadata": {},
   "source": [
    "#### (2)\n",
    "$\\alpha$が上の方程式の解ならば、任意の整数$n$について$\\alpha + n$も解であることを示せ。"
   ]
  },
  {
   "cell_type": "code",
   "execution_count": null,
   "metadata": {},
   "outputs": [],
   "source": [
    "def proof_06_32_02():\n",
    "    証明 = 証明クラス()\n",
    "    a, α = 証明.作成する_変数s('a,alpha')\n",
    "    N = 証明.作成する_変数('n_', {'integer':True})\n",
    "    n = 証明.作成する_変数('n',)\n",
    "    式_1_1 = ((n+α) % 1)**2\n",
    "    式_1_2 = ((N+α) % 1)**2\n",
    "    方程式_1 = 式_1_1 == 式_1_2\n",
    "    式_2_1 = ((n+α)*2) % 1\n",
    "    式_2_2 = ((N+α)*2) % 1\n",
    "    方程式_2 = 式_2_1 == 式_2_2\n",
    "    方程式_3 = 4*式_1_1-2*式_2_1-a == 4*式_1_2-2*式_2_2-a\n",
    "    方程式_4 = 4*式_1_1-2*式_2_1-a == 0\n",
    "    証明\\\n",
    "        .追加する_説明(方程式_1, 補足='$n$は整数')\\\n",
    "        .追加する_説明(方程式_2, 補足='$n$は整数')\\\n",
    "        .追加する_説明(方程式_3, 補足='$n$は整数', 順接か=True)\\\n",
    "        .追加する_説明(方程式_4, 順接か=True)\\\n",
    "        .表示する_説明()\n",
    "\n",
    "\n",
    "\n",
    "proof_06_32_02()\n"
   ]
  },
  {
   "attachments": {},
   "cell_type": "markdown",
   "id": "bae9754a",
   "metadata": {},
   "source": [
    "#### (3)\n",
    "上の方程式が解を持つような実数$a$の範囲を求めよ。"
   ]
  },
  {
   "cell_type": "code",
   "execution_count": null,
   "metadata": {},
   "outputs": [],
   "source": [
    "def proof_06_32_03():\n",
    "    証明 = 証明クラス()\n",
    "    x = 証明.作成する_変数('x')\n",
    "    # 式_1 = 式クラス(証明, '4*x**2-2*x')\n",
    "    式_1 = 4*x**2-2*x\n",
    "    # 式_2 = 式クラス(証明, '4*x**2-(2*x-1)')\n",
    "    式_2 = 4*x**2-(2*x-1)\n",
    "    図形 = 図形クラス(証明,(1, 2))\n",
    "    図形\\\n",
    "        .追加する_サブプロット((0, 0))\\\n",
    "        .追加する_サブプロット((0, 1))\n",
    "    極小値_x = 式_1.微分する('x').解く()[0]\n",
    "    極小値_y = 式_1.代入する({'x':極小値_x})\n",
    "    軸s_0 = 図形.軸s[0][0]\n",
    "    assert isinstance(軸s_0, 座標クラス)\n",
    "    軸s_0\\\n",
    "        .リセットする_範囲(((0, 0.5), (-1, 1)))\\\n",
    "        .プロットする_直線の式(式_1, 'x',  ラベル='0<=x<=0.5')\\\n",
    "        .プロットする_散布点(\n",
    "            [\n",
    "                {\n",
    "                    'x':極小値_x.テキスト, \n",
    "                    'y':極小値_y.テキスト,\n",
    "                    'annotation':f'({極小値_x.テキスト}, {極小値_y.テキスト})'\n",
    "                }\n",
    "            ],\n",
    "            'red'\n",
    "        )\\\n",
    "        .追加する_グリッド()\\\n",
    "        .設定する_凡例()\n",
    "    最小_x = 浮動小数クラス(証明, .5)\n",
    "    最小_y = 式_2.代入する({'x':最小_x})\n",
    "    最大_x = 浮動小数クラス(証明, 1)\n",
    "    最大_y = 式_2.代入する({'x':最大_x})\n",
    "    軸ず_1 = 図形.軸s[0][1]\n",
    "    assert isinstance(軸ず_1, 座標クラス)\n",
    "    軸ず_1\\\n",
    "        .リセットする_範囲(((0.5, 1), (1, 4)))\\\n",
    "        .プロットする_直線の式(式_2, 'x', ラベル='0.5<=x<=1')\\\n",
    "        .プロットする_散布点([\n",
    "            {'x':最小_x.テキスト, 'y':最小_y.テキスト,'annotation':f'({最小_x.テキスト}, {最小_y.テキスト})'},\n",
    "            {'x':最大_x.テキスト, 'y':最大_y.テキスト,'annotation':f'({最大_x.テキスト}, {最大_y.テキスト})'}\n",
    "            ],'red')\\\n",
    "        .追加する_グリッド()\\\n",
    "        .設定する_凡例()\n",
    "\n",
    "proof_06_32_03()"
   ]
  },
  {
   "attachments": {},
   "cell_type": "markdown",
   "metadata": {},
   "source": [
    "### [33] 二項定理の利用  "
   ]
  },
  {
   "attachments": {},
   "cell_type": "markdown",
   "id": "bae9754a",
   "metadata": {},
   "source": [
    "#### (1)\n",
    " $2^{32}$を7で割った余りを求めよ。"
   ]
  },
  {
   "cell_type": "code",
   "execution_count": null,
   "metadata": {},
   "outputs": [],
   "source": [
    "def proof_06_33_01():\n",
    "    証明 = 証明クラス()\n",
    "    _0 = 整数クラス(証明, 0)\n",
    "    _2 = (2+_0)\n",
    "\n",
    "    結果 = _2.取得する_べき乗された剰余(32, 7)\n",
    "    # Explain\n",
    "    証明\\\n",
    "        .挿入する_セクション('取得する_べき乗された剰余')\\\n",
    "        .追加する_説明(f'よって {結果}')\\\n",
    "        .表示する_説明()\n",
    "\n",
    "\n",
    "proof_06_33_01()\n"
   ]
  },
  {
   "attachments": {},
   "cell_type": "markdown",
   "id": "bae9754a",
   "metadata": {},
   "source": [
    "#### (2)\n",
    " $n$ を自然数とするとき、 $3^{n+1}+4^{2n-1}$ は、 $13$ で割り切れることを示せ。"
   ]
  },
  {
   "cell_type": "code",
   "execution_count": null,
   "metadata": {},
   "outputs": [],
   "source": [
    "def proof_06_33_02():\n",
    "    証明 = 証明クラス()\n",
    "    n = 証明.作成する_変数(\"n\", {\"integer\": True, \"positive\": True})\n",
    "    式 = 3 ** (n + 1) + 4 ** (2 * n - 1)\n",
    "    式.証明する_乗数のモジュール性(13)\n",
    "    証明.挿入する_セクション(\"証明する_乗数のモジュール性\").表示する_説明()\n",
    "\n",
    "\n",
    "proof_06_33_02()"
   ]
  },
  {
   "attachments": {},
   "cell_type": "markdown",
   "metadata": {},
   "source": [
    "#### (3)\n",
    " $6\\cdot3^{3x}+1 = 7\\cdot5^{2x}$を満たす0以上の整数xを全て求めよ。 "
   ]
  },
  {
   "cell_type": "code",
   "execution_count": null,
   "metadata": {},
   "outputs": [],
   "source": [
    "def proof_06_33_03():\n",
    "    証明 = 証明クラス()\n",
    "    x = 証明.作成する_変数(\"x\", {\"integer\": True})\n",
    "    方程式 = 6 * 3 ** (3 * x) + 1 == 7 * 5 ** (2 * x)\n",
    "    方程式 = 方程式 >> 方程式クラス\n",
    "    方程式.解く_急増する各辺の差の等式()\n",
    "    証明.挿入する_セクション(\"解く_急増する各辺の差の等式\").表示する_説明()\n",
    "\n",
    "\n",
    "proof_06_33_03()"
   ]
  }
 ],
 "metadata": {
  "kernelspec": {
   "display_name": "Python 3",
   "language": "python",
   "name": "python3"
  },
  "language_info": {
   "codemirror_mode": {
    "name": "ipython",
    "version": 3
   },
   "file_extension": ".py",
   "mimetype": "text/x-python",
   "name": "python",
   "nbconvert_exporter": "python",
   "pygments_lexer": "ipython3",
   "version": "3.10.6"
  },
  "orig_nbformat": 4,
  "vscode": {
   "interpreter": {
    "hash": "238c1ea8c448eccf9fd2251b11cfe73ec33b32533ed097542e23ec4f415bcbe6"
   }
  }
 },
 "nbformat": 4,
 "nbformat_minor": 2,
 "nbformat_最小or": 2
}

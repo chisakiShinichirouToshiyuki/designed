{
 "cells": [
  {
   "cell_type": "markdown",
   "metadata": {},
   "source": [
    "# designEDチュートリアル（準備中）"
   ]
  },
  {
   "attachments": {},
   "cell_type": "markdown",
   "metadata": {},
   "source": [
    "## セットアップ"
   ]
  },
  {
   "cell_type": "code",
   "execution_count": null,
   "metadata": {},
   "outputs": [],
   "source": [
    "! git clone https://github.com/chisakiShinichirouToshiyuki/designed.git"
   ]
  },
  {
   "cell_type": "code",
   "execution_count": null,
   "metadata": {},
   "outputs": [],
   "source": [
    "!pip install sympy==1.11.1\n",
    "!pip install jedi>=0.16\n",
    "!pip install setuptools>65.5.1\n",
    "!pip install spb==0.1.1\n",
    "!pip install seaborn==0.12.2\n",
    "!pip install japanize_matplotlib==1.1.3\n",
    "!pip install colorama==0.4.6"
   ]
  },
  {
   "cell_type": "code",
   "execution_count": 1,
   "metadata": {},
   "outputs": [],
   "source": [
    "from __future__ import annotations\n",
    "from typing import Literal\n",
    "from typing import TypedDict\n",
    "import sympy\n",
    "from designed.dists.jp.designed import *\n",
    "# from dists.jp.designed import *\n",
    "\n",
    "sympy.init_printing(scale=10) # type: ignore"
   ]
  },
  {
   "attachments": {},
   "cell_type": "markdown",
   "id": "7599e51e",
   "metadata": {},
   "source": [
    "## 第０章"
   ]
  },
  {
   "attachments": {},
   "cell_type": "markdown",
   "id": "7599e51e",
   "metadata": {},
   "source": [
    "### [01]  \n",
    "次の命題の真偽を調べよ。ただし、$m、n$は自然数である。"
   ]
  },
  {
   "attachments": {},
   "cell_type": "markdown",
   "id": "c2309ffa",
   "metadata": {},
   "source": [
    "#### (1)\n",
    "$n$が奇数ならば$n^2$は奇数である。  "
   ]
  },
  {
   "cell_type": "code",
   "execution_count": 2,
   "id": "92d86932-b4bf-4609-ae9c-1330766ebc51",
   "metadata": {},
   "outputs": [
    {
     "data": {
      "text/markdown": [
       "------ 証明開始 ------"
      ],
      "text/plain": [
       "<IPython.core.display.Markdown object>"
      ]
     },
     "metadata": {},
     "output_type": "display_data"
    },
    {
     "data": {
      "text/markdown": [
       "&emsp;&emsp;------ 2乗の偶奇の判定 ------"
      ],
      "text/plain": [
       "<IPython.core.display.Markdown object>"
      ]
     },
     "metadata": {},
     "output_type": "display_data"
    },
    {
     "data": {
      "text/markdown": [
       "&emsp;&emsp;&#8756;&nbsp;&nbsp;$\\displaystyle n$&nbsp; $ \\coloneqq $ &nbsp;$\\displaystyle 2 m + 1$&nbsp;&nbsp;&#8230;&#8230;&nbsp;(&nbsp;&nbsp;※&nbsp;$\\displaystyle m$&nbsp; $ = 整数 $&nbsp;)"
      ],
      "text/plain": [
       "<IPython.core.display.Markdown object>"
      ]
     },
     "metadata": {},
     "output_type": "display_data"
    },
    {
     "data": {
      "text/markdown": [
       "&emsp;&emsp;&#8756;&nbsp;&nbsp;$\\displaystyle n^{2}$&nbsp; $=$ &nbsp;$\\displaystyle \\left(2 m + 1\\right)^{2}$&nbsp;"
      ],
      "text/plain": [
       "<IPython.core.display.Markdown object>"
      ]
     },
     "metadata": {},
     "output_type": "display_data"
    },
    {
     "data": {
      "text/markdown": [
       "&emsp;&emsp;<em style=\"opacity:0;\">&#8756;&nbsp;</em>&nbsp;$\\textcolor{gray} {\\displaystyle n^{2}}$&nbsp; $=$ &nbsp;$\\displaystyle 4 m^{2} + 4 m + 1$&nbsp;"
      ],
      "text/plain": [
       "<IPython.core.display.Markdown object>"
      ]
     },
     "metadata": {},
     "output_type": "display_data"
    },
    {
     "data": {
      "text/markdown": [
       "&emsp;&emsp;各係数が$2$で割り切れないので、奇数"
      ],
      "text/plain": [
       "<IPython.core.display.Markdown object>"
      ]
     },
     "metadata": {},
     "output_type": "display_data"
    },
    {
     "data": {
      "text/markdown": [
       "<span></span>"
      ],
      "text/plain": [
       "<IPython.core.display.Markdown object>"
      ]
     },
     "metadata": {},
     "output_type": "display_data"
    },
    {
     "data": {
      "text/markdown": [
       "------ 証明終了 ------"
      ],
      "text/plain": [
       "<IPython.core.display.Markdown object>"
      ]
     },
     "metadata": {},
     "output_type": "display_data"
    }
   ],
   "source": [
    "parity = Literal[\"even\", \"odd\"]\n",
    "\n",
    "\n",
    "def get_squared_parity(\n",
    "    証明: 証明クラス, parity: parity, タイトル: str = \"get_squared_parity\"\n",
    ") -> bool | None:\n",
    "    \"\"\"2乗した結果の偶奇を取得する\n",
    "\n",
    "    引数:\n",
    "        証明: 処理が所属する証明。変数の管理などを行う。\n",
    "        parity: ２乗される数値の偶奇\n",
    "    結果:\n",
    "        bool | None:偶数であるか(bool)、解析不能か(None)\n",
    "    \"\"\"\n",
    "    m, n = 証明.作成する_変数([\"m\", \"n\"], {\"integer\": True, \"positive\": True})\n",
    "    N = 2 * m if (parity == \"even\") else 2 * m + 1\n",
    "    # Check parity\n",
    "    coefficients_for_even = (N**2).取得する_係数(\"m\")\n",
    "    偶数: Literal[True] | None = None\n",
    "    偶数 = True if len(coefficients_for_even) == 0 else None\n",
    "    for coefficient in coefficients_for_even:\n",
    "        coefficient_int = int(coefficient.テキスト)\n",
    "        assert isinstance(coefficient_int, int)\n",
    "        偶数 = True if (coefficient_int % 2 == 0) else None\n",
    "        if not (偶数):\n",
    "            break\n",
    "    # Check not parity\n",
    "    coefficients_for_odd = (N**2 + 1).取得する_係数(\"m\")\n",
    "    is_not_parity: Literal[True] | None = None\n",
    "    is_not_parity = True if len(coefficients_for_odd) == 0 else None\n",
    "    for coefficient in coefficients_for_odd:\n",
    "        coefficient_int = int(coefficient.テキスト)\n",
    "        assert isinstance(coefficient_int, int)\n",
    "        is_not_parity = True if (coefficient_int % 2 == 0) else None\n",
    "        if not (is_not_parity):\n",
    "            break\n",
    "    # 説明\n",
    "    セクション = (\n",
    "        証明.作成する_セクション(\"2乗の偶奇の判定\", タイトル)\n",
    "        .追加する((n == N) >> 定義式クラス, 順接か=True, 補足=f'{m ==\"整数\"}', 補足のタイプ=\"annotate\")\n",
    "        .追加する(n**2 == (N**2), 順接か=True)\n",
    "        .追加する(n**2 == (N**2).展開する())\n",
    "    )\n",
    "    if 偶数:\n",
    "        セクション.追加する(\"各係数が$2$で割り切れるので、偶数\")\n",
    "    if is_not_parity:\n",
    "        セクション.追加する(\"各係数が$2$で割り切れないので、奇数\")\n",
    "    return 偶数 if 偶数 else not is_not_parity\n",
    "\n",
    "\n",
    "def proof_00_01_01():\n",
    "    証明 = 証明クラス()\n",
    "    偶数か = get_squared_parity(証明, \"odd\")\n",
    "    assert 偶数か == False\n",
    "    証明.挿入する_セクション(\n",
    "        \"get_squared_parity\"\n",
    "    ).表示する_説明()\n",
    "\n",
    "\n",
    "proof_00_01_01()"
   ]
  },
  {
   "attachments": {},
   "cell_type": "markdown",
   "id": "7d311088",
   "metadata": {},
   "source": [
    "### (2)\n",
    "「$m+n$が偶数」ならば、　「$m,n$はともに偶数」である。  "
   ]
  },
  {
   "cell_type": "code",
   "execution_count": 3,
   "id": "e554ad1c",
   "metadata": {},
   "outputs": [
    {
     "data": {
      "text/markdown": [
       "------ 証明開始 ------"
      ],
      "text/plain": [
       "<IPython.core.display.Markdown object>"
      ]
     },
     "metadata": {},
     "output_type": "display_data"
    },
    {
     "data": {
      "text/markdown": [
       "上記の対偶を考える。"
      ],
      "text/plain": [
       "<IPython.core.display.Markdown object>"
      ]
     },
     "metadata": {},
     "output_type": "display_data"
    },
    {
     "data": {
      "text/markdown": [
       "「$m,n$のいずれかが奇数」ならば、「$m+n$は奇数」である"
      ],
      "text/plain": [
       "<IPython.core.display.Markdown object>"
      ]
     },
     "metadata": {},
     "output_type": "display_data"
    },
    {
     "data": {
      "text/markdown": [
       " &nbsp;$\\displaystyle \\left[\\begin{matrix}m\\\\n\\end{matrix}\\right]$&nbsp; $=$ &nbsp;$\\displaystyle \\left[\\begin{matrix}1\\\\1\\end{matrix}\\right]$&nbsp; &nbsp;&nbsp;&#8230;&#8230;&nbsp;&nbsp;反例&nbsp;"
      ],
      "text/plain": [
       "<IPython.core.display.Markdown object>"
      ]
     },
     "metadata": {},
     "output_type": "display_data"
    },
    {
     "data": {
      "text/markdown": [
       "------ 証明終了 ------"
      ],
      "text/plain": [
       "<IPython.core.display.Markdown object>"
      ]
     },
     "metadata": {},
     "output_type": "display_data"
    }
   ],
   "source": [
    "def proof_00_01_02():\n",
    "    証明 = 証明クラス()\n",
    "    m, n = 証明.作成する_変数([\"m\", \"n\"])\n",
    "    証明\\\n",
    "        .追加する_説明(\"上記の対偶を考える。\").追加する_説明(\"「$m,n$のいずれかが奇数」ならば、「$m+n$は奇数」である\",)\\\n",
    "        .追加する_説明(ベクトル方程式クラス(証明, [(m == 1) >> 方程式クラス, (n == 1) >> 方程式クラス]),補足=\"反例\",補足のタイプ=\"plain\",)\\\n",
    "        .表示する_説明()\n",
    "\n",
    "\n",
    "proof_00_01_02()"
   ]
  },
  {
   "attachments": {},
   "cell_type": "markdown",
   "id": "e0070532",
   "metadata": {},
   "source": [
    "#### (3)\n",
    "「$n^2+n+1<0$」ならば、　「$n=100$」である。  "
   ]
  },
  {
   "attachments": {},
   "cell_type": "markdown",
   "id": "fe5a2879",
   "metadata": {},
   "source": [
    "### [02]  \n",
    "次の命題同士の関係を述べよ"
   ]
  },
  {
   "attachments": {},
   "cell_type": "markdown",
   "id": "5f7143b5",
   "metadata": {},
   "source": [
    "#### (1)\n",
    "「$x<1$」ならば、「$x^2-4x+3=\\geq0$」である。  "
   ]
  },
  {
   "cell_type": "code",
   "execution_count": 4,
   "metadata": {},
   "outputs": [
    {
     "data": {
      "text/markdown": [
       "------ 証明開始 ------"
      ],
      "text/plain": [
       "<IPython.core.display.Markdown object>"
      ]
     },
     "metadata": {},
     "output_type": "display_data"
    },
    {
     "data": {
      "text/markdown": [
       " $\\displaystyle 0 \\leq x^{2} - 4 x + 3 $ &nbsp;&nbsp;&#8230;&#8230;&nbsp;(&nbsp;&#x2235;&nbsp;与式&nbsp;)"
      ],
      "text/plain": [
       "<IPython.core.display.Markdown object>"
      ]
     },
     "metadata": {},
     "output_type": "display_data"
    },
    {
     "data": {
      "text/markdown": [
       "&#8756;&nbsp;&nbsp; $\\displaystyle 3 \\leq x \\vee x \\leq 1 $ &nbsp;"
      ],
      "text/plain": [
       "<IPython.core.display.Markdown object>"
      ]
     },
     "metadata": {},
     "output_type": "display_data"
    },
    {
     "data": {
      "image/png": "[encoded data removed]",
      "text/plain": [
       "<Figure size 500x500 with 1 Axes>"
      ]
     },
     "metadata": {},
     "output_type": "display_data"
    },
    {
     "data": {
      "image/png": "[encoded data removed]",
      "text/plain": [
       "<Figure size 500x500 with 1 Axes>"
      ]
     },
     "metadata": {},
     "output_type": "display_data"
    },
    {
     "data": {
      "text/markdown": [
       "&#8756;&nbsp;&nbsp;「&nbsp; $\\displaystyle x < 1 $ &nbsp;」&nbsp;=>&nbsp;「&nbsp; $\\displaystyle 0 \\leq x^{2} - 4 x + 3 $ &nbsp;」&nbsp;"
      ],
      "text/plain": [
       "<IPython.core.display.Markdown object>"
      ]
     },
     "metadata": {},
     "output_type": "display_data"
    },
    {
     "data": {
      "text/markdown": [
       "------ 証明終了 ------"
      ],
      "text/plain": [
       "<IPython.core.display.Markdown object>"
      ]
     },
     "metadata": {},
     "output_type": "display_data"
    }
   ],
   "source": [
    "def proof_00_02_01():\n",
    "    証明 = 証明クラス()\n",
    "    x = 証明.作成する_変数(\"x\")\n",
    "    十分条件 = x < 1\n",
    "    必要条件 = (0 <= x**2 - 4 * x + 3) >> 不等式_v1クラス\n",
    "    結果 = 十分条件 <= 必要条件\n",
    "    assert 結果 == True\n",
    "    # Explain\n",
    "    証明\\\n",
    "        .追加する_説明(必要条件, 補足=\"与式\", 補足のタイプ=\"because\")\\\n",
    "        .追加する_説明(必要条件 & True, 順接か=True)\\\n",
    "        .追加する_説明(図登録クラス(必要条件.式[1], (((-5, 5), (-2, 10)))))\\\n",
    "        .追加する_説明(図登録クラス(必要条件.式[1], (((-2, 2), (-2, 10)))))\\\n",
    "        .追加する_説明(数理命題クラス(十分条件, 必要条件), 順接か=True)\\\n",
    "        .表示する_説明()\n",
    "\n",
    "\n",
    "proof_00_02_01()"
   ]
  },
  {
   "attachments": {},
   "cell_type": "markdown",
   "id": "a2f995c9",
   "metadata": {},
   "source": [
    "#### (2)\n",
    "「$xy+1>x+y$」ならば、　「$|x|<1かつ|y|<1$」である。  "
   ]
  },
  {
   "cell_type": "code",
   "execution_count": 5,
   "metadata": {},
   "outputs": [
    {
     "data": {
      "text/markdown": [
       "------ 証明開始 ------"
      ],
      "text/plain": [
       "<IPython.core.display.Markdown object>"
      ]
     },
     "metadata": {},
     "output_type": "display_data"
    },
    {
     "data": {
      "text/markdown": [
       " $\\displaystyle x + y < x y + 1 $ &nbsp;&nbsp;&#8230;&#8230;&nbsp;(&nbsp;&#x2235;&nbsp;与式&nbsp;)"
      ],
      "text/plain": [
       "<IPython.core.display.Markdown object>"
      ]
     },
     "metadata": {},
     "output_type": "display_data"
    },
    {
     "data": {
      "text/markdown": [
       "&#8756;&nbsp;&nbsp; $\\displaystyle \\left(1 - x\\right) \\left(y - 1\\right) < 0 $ &nbsp;"
      ],
      "text/plain": [
       "<IPython.core.display.Markdown object>"
      ]
     },
     "metadata": {},
     "output_type": "display_data"
    },
    {
     "data": {
      "text/markdown": [
       "&nbsp; $\\displaystyle x + y < x y + 1 $ &nbsp;を図示する。"
      ],
      "text/plain": [
       "<IPython.core.display.Markdown object>"
      ]
     },
     "metadata": {},
     "output_type": "display_data"
    },
    {
     "data": {
      "image/png": "[encoded data removed]",
      "text/plain": [
       "<Figure size 500x500 with 1 Axes>"
      ]
     },
     "metadata": {},
     "output_type": "display_data"
    },
    {
     "data": {
      "text/markdown": [
       "&nbsp; $\\displaystyle \\left|{x}\\right| < 1 \\wedge \\left|{y}\\right| < 1 $ &nbsp;を図示する。"
      ],
      "text/plain": [
       "<IPython.core.display.Markdown object>"
      ]
     },
     "metadata": {},
     "output_type": "display_data"
    },
    {
     "data": {
      "image/png": "[encoded data removed]",
      "text/plain": [
       "<Figure size 500x500 with 1 Axes>"
      ]
     },
     "metadata": {},
     "output_type": "display_data"
    },
    {
     "data": {
      "text/markdown": [
       "&#8756;&nbsp;&nbsp;「&nbsp; $\\displaystyle x + y < x y + 1 $ &nbsp;」&nbsp;=>&nbsp;「&nbsp; $\\displaystyle \\left|{x}\\right| < 1 \\wedge \\left|{y}\\right| < 1 $ &nbsp;」&nbsp;"
      ],
      "text/plain": [
       "<IPython.core.display.Markdown object>"
      ]
     },
     "metadata": {},
     "output_type": "display_data"
    },
    {
     "data": {
      "text/markdown": [
       "------ 証明終了 ------"
      ],
      "text/plain": [
       "<IPython.core.display.Markdown object>"
      ]
     },
     "metadata": {},
     "output_type": "display_data"
    }
   ],
   "source": [
    "def proof_00_02_02():\n",
    "    証明 = 証明クラス()\n",
    "    x, y = 証明.作成する_変数(['x', 'y'])\n",
    "    # Make sufficient condition\n",
    "    十分条件 = (x*y+1>x+y) >> 不等式_v2クラス\n",
    "    十分条件_因数分解後 = 十分条件.因数分解する()\n",
    "    # Make necessary condition\n",
    "    不等式_左 = 不等式_v1クラス(証明, 'abs(x)<1')\n",
    "    不等式_右 = 不等式_v1クラス(証明, 'abs(y)<1')\n",
    "    必要条件 = 不等式_左 & 不等式_右\n",
    "    assert isinstance(必要条件, 複合条件_v2クラス)\n",
    "    # Explain\n",
    "    証明\\\n",
    "        .追加する_説明(十分条件, 補足='与式')\\\n",
    "        .追加する_説明(十分条件_因数分解後, 順接か=True)\\\n",
    "        .追加する_説明(f\"{十分条件}を図示する。\")\\\n",
    "        .追加する_説明(図登録クラス( 十分条件_因数分解後,((-3, 3))))\\\n",
    "        .追加する_説明(f\"{必要条件}を図示する。\")\\\n",
    "        .追加する_説明(図登録クラス( 必要条件,((-3, 3))))\\\n",
    "        .追加する_説明(数理命題クラス(十分条件,必要条件), 順接か=True)\\\n",
    "        .表示する_説明()\n",
    "\n",
    "proof_00_02_02()"
   ]
  },
  {
   "attachments": {},
   "cell_type": "markdown",
   "id": "57a7d58c",
   "metadata": {},
   "source": [
    "### [03]  \n",
    "次の命題が真であることを証明せよ。ただし、m, nは自然数とする。"
   ]
  },
  {
   "attachments": {},
   "cell_type": "markdown",
   "metadata": {},
   "source": [
    "#### (1)\n",
    "「$n^2$が偶数」ならば、「$n$は偶数」である。  "
   ]
  },
  {
   "cell_type": "code",
   "execution_count": 6,
   "metadata": {},
   "outputs": [
    {
     "data": {
      "text/markdown": [
       "------ 証明開始 ------"
      ],
      "text/plain": [
       "<IPython.core.display.Markdown object>"
      ]
     },
     "metadata": {},
     "output_type": "display_data"
    },
    {
     "data": {
      "text/markdown": [
       "上記の対偶を考える。"
      ],
      "text/plain": [
       "<IPython.core.display.Markdown object>"
      ]
     },
     "metadata": {},
     "output_type": "display_data"
    },
    {
     "data": {
      "text/markdown": [
       "「$n$は奇数」ならば、「$n^2$は奇数」である。  "
      ],
      "text/plain": [
       "<IPython.core.display.Markdown object>"
      ]
     },
     "metadata": {},
     "output_type": "display_data"
    },
    {
     "data": {
      "text/markdown": [
       "&emsp;&emsp;------ 2乗の偶奇の判定 ------"
      ],
      "text/plain": [
       "<IPython.core.display.Markdown object>"
      ]
     },
     "metadata": {},
     "output_type": "display_data"
    },
    {
     "data": {
      "text/markdown": [
       "&emsp;&emsp;&#8756;&nbsp;&nbsp;$\\displaystyle n$&nbsp; $ \\coloneqq $ &nbsp;$\\displaystyle 2 m + 1$&nbsp;&nbsp;&#8230;&#8230;&nbsp;(&nbsp;&nbsp;※&nbsp;$\\displaystyle m$&nbsp; $ = 整数 $&nbsp;)"
      ],
      "text/plain": [
       "<IPython.core.display.Markdown object>"
      ]
     },
     "metadata": {},
     "output_type": "display_data"
    },
    {
     "data": {
      "text/markdown": [
       "&emsp;&emsp;&#8756;&nbsp;&nbsp;$\\displaystyle n^{2}$&nbsp; $=$ &nbsp;$\\displaystyle \\left(2 m + 1\\right)^{2}$&nbsp;"
      ],
      "text/plain": [
       "<IPython.core.display.Markdown object>"
      ]
     },
     "metadata": {},
     "output_type": "display_data"
    },
    {
     "data": {
      "text/markdown": [
       "&emsp;&emsp;<em style=\"opacity:0;\">&#8756;&nbsp;</em>&nbsp;$\\textcolor{gray} {\\displaystyle n^{2}}$&nbsp; $=$ &nbsp;$\\displaystyle 4 m^{2} + 4 m + 1$&nbsp;"
      ],
      "text/plain": [
       "<IPython.core.display.Markdown object>"
      ]
     },
     "metadata": {},
     "output_type": "display_data"
    },
    {
     "data": {
      "text/markdown": [
       "&emsp;&emsp;各係数が$2$で割り切れないので、奇数"
      ],
      "text/plain": [
       "<IPython.core.display.Markdown object>"
      ]
     },
     "metadata": {},
     "output_type": "display_data"
    },
    {
     "data": {
      "text/markdown": [
       "<span></span>"
      ],
      "text/plain": [
       "<IPython.core.display.Markdown object>"
      ]
     },
     "metadata": {},
     "output_type": "display_data"
    },
    {
     "data": {
      "text/markdown": [
       "------ 証明終了 ------"
      ],
      "text/plain": [
       "<IPython.core.display.Markdown object>"
      ]
     },
     "metadata": {},
     "output_type": "display_data"
    }
   ],
   "source": [
    "def proof_00_03_01():\n",
    "    証明 = 証明クラス()\n",
    "    偶数か = get_squared_parity(証明, 'odd')\n",
    "    assert 偶数か == False\n",
    "    証明\\\n",
    "        .追加する_説明(\"上記の対偶を考える。\")\\\n",
    "        .追加する_説明(\"「$n$は奇数」ならば、「$n^2$は奇数」である。  \")\\\n",
    "        .挿入する_セクション('get_squared_parity')\\\n",
    "        .表示する_説明()\n",
    "\n",
    "proof_00_03_01()"
   ]
  },
  {
   "attachments": {},
   "cell_type": "markdown",
   "id": "af1cfe30",
   "metadata": {},
   "source": [
    "#### (2)\n",
    "「$\\sqrt{m}$が整数でない」ならば、「$\\sqrt{m}$は無理数」である。  "
   ]
  },
  {
   "cell_type": "code",
   "execution_count": 7,
   "metadata": {},
   "outputs": [
    {
     "data": {
      "text/markdown": [
       "------ 証明開始 ------"
      ],
      "text/plain": [
       "<IPython.core.display.Markdown object>"
      ]
     },
     "metadata": {},
     "output_type": "display_data"
    },
    {
     "data": {
      "text/markdown": [
       "下記、対偶を用いて証明する。"
      ],
      "text/plain": [
       "<IPython.core.display.Markdown object>"
      ]
     },
     "metadata": {},
     "output_type": "display_data"
    },
    {
     "data": {
      "text/markdown": [
       "「$\\sqrt{m}$は有理数」ならば、「$\\sqrt{m}$が整数」である。"
      ],
      "text/plain": [
       "<IPython.core.display.Markdown object>"
      ]
     },
     "metadata": {},
     "output_type": "display_data"
    },
    {
     "data": {
      "text/markdown": [
       "&emsp;&emsp;------ 背理法による無理数の証明 ------"
      ],
      "text/plain": [
       "<IPython.core.display.Markdown object>"
      ]
     },
     "metadata": {},
     "output_type": "display_data"
    },
    {
     "data": {
      "text/markdown": [
       "&emsp;&emsp;&nbsp;$\\displaystyle q$&nbsp;,&nbsp;$\\displaystyle l$&nbsp;は互いに素な整数とする・・・①"
      ],
      "text/plain": [
       "<IPython.core.display.Markdown object>"
      ]
     },
     "metadata": {},
     "output_type": "display_data"
    },
    {
     "data": {
      "text/markdown": [
       "&emsp;&emsp;&#8756;&nbsp;&nbsp;$\\displaystyle \\sqrt{m}$&nbsp; $=$ &nbsp;$\\displaystyle \\frac{q}{l}$&nbsp;"
      ],
      "text/plain": [
       "<IPython.core.display.Markdown object>"
      ]
     },
     "metadata": {},
     "output_type": "display_data"
    },
    {
     "data": {
      "text/markdown": [
       "&emsp;&emsp;$\\displaystyle m$&nbsp; $=$ &nbsp;$\\displaystyle \\frac{q^{2}}{l^{2}}$&nbsp;"
      ],
      "text/plain": [
       "<IPython.core.display.Markdown object>"
      ]
     },
     "metadata": {},
     "output_type": "display_data"
    },
    {
     "data": {
      "text/markdown": [
       "&emsp;&emsp;&#8756;&nbsp;&nbsp; &nbsp;$\\displaystyle \\left[\\begin{matrix}l\\\\\\sqrt{m}\\end{matrix}\\right]$&nbsp; $=$ &nbsp;$\\displaystyle \\left[\\begin{matrix}1\\\\q\\end{matrix}\\right]$&nbsp; &nbsp;&nbsp;&#8230;&#8230;&nbsp;(&nbsp;&#x2235;&nbsp;①かつmは整数&nbsp;)"
      ],
      "text/plain": [
       "<IPython.core.display.Markdown object>"
      ]
     },
     "metadata": {},
     "output_type": "display_data"
    },
    {
     "data": {
      "text/markdown": [
       "&emsp;&emsp;$\\displaystyle \\sqrt{m}$&nbsp; $ = 整数 $"
      ],
      "text/plain": [
       "<IPython.core.display.Markdown object>"
      ]
     },
     "metadata": {},
     "output_type": "display_data"
    },
    {
     "data": {
      "text/markdown": [
       "<span></span>"
      ],
      "text/plain": [
       "<IPython.core.display.Markdown object>"
      ]
     },
     "metadata": {},
     "output_type": "display_data"
    },
    {
     "data": {
      "text/markdown": [
       "よって、Trueである。"
      ],
      "text/plain": [
       "<IPython.core.display.Markdown object>"
      ]
     },
     "metadata": {},
     "output_type": "display_data"
    },
    {
     "data": {
      "text/markdown": [
       "------ 証明終了 ------"
      ],
      "text/plain": [
       "<IPython.core.display.Markdown object>"
      ]
     },
     "metadata": {},
     "output_type": "display_data"
    }
   ],
   "source": [
    "def proof_00_03_02():\n",
    "    証明 = 証明クラス()\n",
    "    結果 = 整数クラス.証明する_有理平方根を持つならば整数(証明)\n",
    "    assert 結果 == True\n",
    "    証明\\\n",
    "        .追加する_説明('下記、対偶を用いて証明する。')\\\n",
    "        .追加する_説明('「$\\sqrt{m}$は有理数」ならば、「$\\sqrt{m}$が整数」である。')\\\n",
    "        .挿入する_セクション('証明する_有理平方根を持つならば整数')\\\n",
    "        .追加する_説明(f'よって、{結果}である。')\\\n",
    "        .表示する_説明()\n",
    "\n",
    "\n",
    "proof_00_03_02()\n"
   ]
  },
  {
   "attachments": {},
   "cell_type": "markdown",
   "id": "57a7d58c",
   "metadata": {},
   "source": [
    "### [04]  "
   ]
  },
  {
   "attachments": {},
   "cell_type": "markdown",
   "metadata": {},
   "source": [
    "#### (1)\n",
    "「$\\sqrt{2}$が無理数であることを証明せよ。  "
   ]
  },
  {
   "cell_type": "code",
   "execution_count": 8,
   "metadata": {},
   "outputs": [
    {
     "data": {
      "text/markdown": [
       "------ 証明開始 ------"
      ],
      "text/plain": [
       "<IPython.core.display.Markdown object>"
      ]
     },
     "metadata": {},
     "output_type": "display_data"
    },
    {
     "data": {
      "text/markdown": [
       "背理法で証明する。"
      ],
      "text/plain": [
       "<IPython.core.display.Markdown object>"
      ]
     },
     "metadata": {},
     "output_type": "display_data"
    },
    {
     "data": {
      "text/markdown": [
       "「&nbsp;$\\displaystyle \\sqrt{2}$&nbsp;は有理数である」と、仮定する。"
      ],
      "text/plain": [
       "<IPython.core.display.Markdown object>"
      ]
     },
     "metadata": {},
     "output_type": "display_data"
    },
    {
     "data": {
      "text/markdown": [
       "$\\displaystyle m$&nbsp; $ \\coloneqq $ &nbsp;$\\displaystyle 2$&nbsp;&nbsp;&#8230;&#8230;&nbsp;&nbsp;と置く。&nbsp;"
      ],
      "text/plain": [
       "<IPython.core.display.Markdown object>"
      ]
     },
     "metadata": {},
     "output_type": "display_data"
    },
    {
     "data": {
      "text/markdown": [
       "&emsp;&emsp;------ 背理法による無理数の証明 ------"
      ],
      "text/plain": [
       "<IPython.core.display.Markdown object>"
      ]
     },
     "metadata": {},
     "output_type": "display_data"
    },
    {
     "data": {
      "text/markdown": [
       "&emsp;&emsp;&nbsp;$\\displaystyle q$&nbsp;,&nbsp;$\\displaystyle l$&nbsp;は互いに素な整数とする・・・①"
      ],
      "text/plain": [
       "<IPython.core.display.Markdown object>"
      ]
     },
     "metadata": {},
     "output_type": "display_data"
    },
    {
     "data": {
      "text/markdown": [
       "&emsp;&emsp;&#8756;&nbsp;&nbsp;$\\displaystyle \\sqrt{m}$&nbsp; $=$ &nbsp;$\\displaystyle \\frac{q}{l}$&nbsp;"
      ],
      "text/plain": [
       "<IPython.core.display.Markdown object>"
      ]
     },
     "metadata": {},
     "output_type": "display_data"
    },
    {
     "data": {
      "text/markdown": [
       "&emsp;&emsp;$\\displaystyle m$&nbsp; $=$ &nbsp;$\\displaystyle \\frac{q^{2}}{l^{2}}$&nbsp;"
      ],
      "text/plain": [
       "<IPython.core.display.Markdown object>"
      ]
     },
     "metadata": {},
     "output_type": "display_data"
    },
    {
     "data": {
      "text/markdown": [
       "&emsp;&emsp;&#8756;&nbsp;&nbsp; &nbsp;$\\displaystyle \\left[\\begin{matrix}l\\\\\\sqrt{m}\\end{matrix}\\right]$&nbsp; $=$ &nbsp;$\\displaystyle \\left[\\begin{matrix}1\\\\q\\end{matrix}\\right]$&nbsp; &nbsp;&nbsp;&#8230;&#8230;&nbsp;(&nbsp;&#x2235;&nbsp;①かつmは整数&nbsp;)"
      ],
      "text/plain": [
       "<IPython.core.display.Markdown object>"
      ]
     },
     "metadata": {},
     "output_type": "display_data"
    },
    {
     "data": {
      "text/markdown": [
       "&emsp;&emsp;$\\displaystyle \\sqrt{m}$&nbsp; $ = 整数 $"
      ],
      "text/plain": [
       "<IPython.core.display.Markdown object>"
      ]
     },
     "metadata": {},
     "output_type": "display_data"
    },
    {
     "data": {
      "text/markdown": [
       "<span></span>"
      ],
      "text/plain": [
       "<IPython.core.display.Markdown object>"
      ]
     },
     "metadata": {},
     "output_type": "display_data"
    },
    {
     "data": {
      "text/markdown": [
       "&#8756;&nbsp;&nbsp;$\\displaystyle q^{2}$&nbsp; $=$ &nbsp;$\\displaystyle 2$&nbsp;"
      ],
      "text/plain": [
       "<IPython.core.display.Markdown object>"
      ]
     },
     "metadata": {},
     "output_type": "display_data"
    },
    {
     "data": {
      "text/markdown": [
       "$2$は整数の$2$乗ではないので、矛盾。"
      ],
      "text/plain": [
       "<IPython.core.display.Markdown object>"
      ]
     },
     "metadata": {},
     "output_type": "display_data"
    },
    {
     "data": {
      "text/markdown": [
       "よって、&nbsp;$\\displaystyle \\sqrt{2}$&nbsp;は無理数である。"
      ],
      "text/plain": [
       "<IPython.core.display.Markdown object>"
      ]
     },
     "metadata": {},
     "output_type": "display_data"
    },
    {
     "data": {
      "text/markdown": [
       "------ 証明終了 ------"
      ],
      "text/plain": [
       "<IPython.core.display.Markdown object>"
      ]
     },
     "metadata": {},
     "output_type": "display_data"
    }
   ],
   "source": [
    "def proof_00_04_01():\n",
    "    証明 = 証明クラス()\n",
    "    m,q =証明.作成する_変数(['m', 'q'], {'integer':True, 'positive':True})\n",
    "    _2 = 整数クラス(証明,2)\n",
    "    _1_2 = 分数クラス(証明,(1,2))\n",
    "    結果 = 整数クラス.証明する_有理平方根を持つならば整数(証明)\n",
    "    assert 結果==True\n",
    "    証明\\\n",
    "        .追加する_説明('背理法で証明する。')\\\n",
    "        .追加する_説明(f'「{_2**(_1_2)}は有理数である」と、仮定する。') \\\n",
    "        .追加する_説明((m==2) >> 定義式クラス, 補足='と置く。', 補足のタイプ='plain')\\\n",
    "        .挿入する_セクション('証明する_有理平方根を持つならば整数')\\\n",
    "        .追加する_説明(q**2==2, 順接か=True)\\\n",
    "        .追加する_説明(f'$2$は整数の$2$乗ではないので、矛盾。')\\\n",
    "        .追加する_説明(f'よって、{_2**(_1_2)}は無理数である。') \\\n",
    "        .表示する_説明()\n",
    "\n",
    "\n",
    "proof_00_04_01()\n"
   ]
  },
  {
   "attachments": {},
   "cell_type": "markdown",
   "id": "8d49f8d0",
   "metadata": {},
   "source": [
    "#### (2)\n",
    "「素数は無限にある」ことを証明せよ  "
   ]
  },
  {
   "cell_type": "code",
   "execution_count": 9,
   "metadata": {},
   "outputs": [
    {
     "data": {
      "text/markdown": [
       "------ 証明開始 ------"
      ],
      "text/plain": [
       "<IPython.core.display.Markdown object>"
      ]
     },
     "metadata": {},
     "output_type": "display_data"
    },
    {
     "data": {
      "text/markdown": [
       "&emsp;&emsp;------ 素数が無限にある証明 ------"
      ],
      "text/plain": [
       "<IPython.core.display.Markdown object>"
      ]
     },
     "metadata": {},
     "output_type": "display_data"
    },
    {
     "data": {
      "text/markdown": [
       "&emsp;&emsp;素数が有限であると仮定する。"
      ],
      "text/plain": [
       "<IPython.core.display.Markdown object>"
      ]
     },
     "metadata": {},
     "output_type": "display_data"
    },
    {
     "data": {
      "text/markdown": [
       "&emsp;&emsp;$\\displaystyle k$&nbsp; $ = 整数 $"
      ],
      "text/plain": [
       "<IPython.core.display.Markdown object>"
      ]
     },
     "metadata": {},
     "output_type": "display_data"
    },
    {
     "data": {
      "text/markdown": [
       "&emsp;&emsp;$\\displaystyle p_{max}$&nbsp; $ = 最大の素数...① $"
      ],
      "text/plain": [
       "<IPython.core.display.Markdown object>"
      ]
     },
     "metadata": {},
     "output_type": "display_data"
    },
    {
     "data": {
      "text/markdown": [
       "&emsp;&emsp;$\\displaystyle p_{any}$&nbsp; $ = 最大の素数以下の、任意の素数 $"
      ],
      "text/plain": [
       "<IPython.core.display.Markdown object>"
      ]
     },
     "metadata": {},
     "output_type": "display_data"
    },
    {
     "data": {
      "text/markdown": [
       "&emsp;&emsp;$\\displaystyle k p_{any}$&nbsp; $ = 最大の素数までの、素数の総乗 $"
      ],
      "text/plain": [
       "<IPython.core.display.Markdown object>"
      ]
     },
     "metadata": {},
     "output_type": "display_data"
    },
    {
     "data": {
      "text/markdown": [
       "&emsp;&emsp;&emsp;&emsp;------ ユークリッドの互除法 ------"
      ],
      "text/plain": [
       "<IPython.core.display.Markdown object>"
      ]
     },
     "metadata": {},
     "output_type": "display_data"
    },
    {
     "data": {
      "text/markdown": [
       "&emsp;&emsp;&emsp;&emsp;$GCD($&nbsp;$\\displaystyle k p_{any} + 1$&nbsp;$,$&nbsp;$\\displaystyle p_{any}$&nbsp;$)$ &nbsp; $=$ &nbsp;$GCD($&nbsp;$\\displaystyle 1$&nbsp;$ , $&nbsp;$\\displaystyle p_{any}$&nbsp;$)$"
      ],
      "text/plain": [
       "<IPython.core.display.Markdown object>"
      ]
     },
     "metadata": {},
     "output_type": "display_data"
    },
    {
     "data": {
      "text/markdown": [
       "&emsp;&emsp;&emsp;&emsp;$GCD($ &nbsp;$\\displaystyle k p_{any} + 1$&nbsp;, &nbsp;$\\displaystyle p_{any}$&nbsp;) $=$ &nbsp;$\\displaystyle 1$&nbsp;"
      ],
      "text/plain": [
       "<IPython.core.display.Markdown object>"
      ]
     },
     "metadata": {},
     "output_type": "display_data"
    },
    {
     "data": {
      "text/markdown": [
       "<span></span>"
      ],
      "text/plain": [
       "<IPython.core.display.Markdown object>"
      ]
     },
     "metadata": {},
     "output_type": "display_data"
    },
    {
     "data": {
      "text/markdown": [
       "&emsp;&emsp;よって、①と矛盾する"
      ],
      "text/plain": [
       "<IPython.core.display.Markdown object>"
      ]
     },
     "metadata": {},
     "output_type": "display_data"
    },
    {
     "data": {
      "text/markdown": [
       "&emsp;&emsp;よって、素数は無限に存在する。"
      ],
      "text/plain": [
       "<IPython.core.display.Markdown object>"
      ]
     },
     "metadata": {},
     "output_type": "display_data"
    },
    {
     "data": {
      "text/markdown": [
       "<span></span>"
      ],
      "text/plain": [
       "<IPython.core.display.Markdown object>"
      ]
     },
     "metadata": {},
     "output_type": "display_data"
    },
    {
     "data": {
      "text/markdown": [
       "------ 証明終了 ------"
      ],
      "text/plain": [
       "<IPython.core.display.Markdown object>"
      ]
     },
     "metadata": {},
     "output_type": "display_data"
    }
   ],
   "source": [
    "def proof_00_04_02():\n",
    "    証明 = 証明クラス()\n",
    "    整数クラス.証明する_素数が無限に存在すること(証明)\n",
    "    証明\\\n",
    "        .挿入する_セクション('証明する_素数が無限に存在すること')\\\n",
    "        .表示する_説明()\n",
    "\n",
    "\n",
    "proof_00_04_02()"
   ]
  },
  {
   "attachments": {},
   "cell_type": "markdown",
   "id": "fae25ca7",
   "metadata": {},
   "source": [
    "## 第１章  "
   ]
  },
  {
   "attachments": {},
   "cell_type": "markdown",
   "id": "d6581da9",
   "metadata": {},
   "source": [
    "### [06]  "
   ]
  },
  {
   "attachments": {},
   "cell_type": "markdown",
   "id": "b6a8f563",
   "metadata": {},
   "source": [
    "#### (1)  \n",
    "5400の正の約数の個数、およびその総和を求めよ。"
   ]
  },
  {
   "cell_type": "code",
   "execution_count": 10,
   "metadata": {},
   "outputs": [
    {
     "data": {
      "text/markdown": [
       "------ 証明開始 ------"
      ],
      "text/plain": [
       "<IPython.core.display.Markdown object>"
      ]
     },
     "metadata": {},
     "output_type": "display_data"
    },
    {
     "data": {
      "text/markdown": [
       "&nbsp;$\\displaystyle 5400$&nbsp;の正の約数の個数は、&nbsp;$\\displaystyle 48$&nbsp;"
      ],
      "text/plain": [
       "<IPython.core.display.Markdown object>"
      ]
     },
     "metadata": {},
     "output_type": "display_data"
    },
    {
     "data": {
      "text/markdown": [
       "------ 証明終了 ------"
      ],
      "text/plain": [
       "<IPython.core.display.Markdown object>"
      ]
     },
     "metadata": {},
     "output_type": "display_data"
    },
    {
     "data": {
      "text/markdown": [
       "------ 証明開始 ------"
      ],
      "text/plain": [
       "<IPython.core.display.Markdown object>"
      ]
     },
     "metadata": {},
     "output_type": "display_data"
    },
    {
     "data": {
      "text/markdown": [
       "&nbsp;$\\displaystyle 5400$&nbsp;の正の約数の総和は、&nbsp;$\\displaystyle 18600$&nbsp;"
      ],
      "text/plain": [
       "<IPython.core.display.Markdown object>"
      ]
     },
     "metadata": {},
     "output_type": "display_data"
    },
    {
     "data": {
      "text/markdown": [
       "------ 証明終了 ------"
      ],
      "text/plain": [
       "<IPython.core.display.Markdown object>"
      ]
     },
     "metadata": {},
     "output_type": "display_data"
    }
   ],
   "source": [
    "def proof_01_06_01_01():\n",
    "    証明 = 証明クラス()\n",
    "    n = 整数クラス(証明, 5400)\n",
    "    assert n.約数の個数 ==48\n",
    "    # Explain\n",
    "    証明\\\n",
    "        .追加する_説明(f\"{n}の正の約数の個数は、{n.約数の個数}\")\\\n",
    "        .表示する_説明()\n",
    "\n",
    "\n",
    "def proof_01_06_01_02():\n",
    "    証明 = 証明クラス()\n",
    "    n = 整数クラス(証明, 5400)\n",
    "    assert n.約数の和 ==18600\n",
    "    # Explain\n",
    "    証明\\\n",
    "        .追加する_説明(f\"{n}の正の約数の総和は、{n.約数の和}\")\\\n",
    "        .表示する_説明()\n",
    "\n",
    "\n",
    "\n",
    "def proof_01_06_01():\n",
    "    proof_01_06_01_01()\n",
    "    proof_01_06_01_02()\n",
    "\n",
    "\n",
    "proof_01_06_01()\n"
   ]
  },
  {
   "attachments": {},
   "cell_type": "markdown",
   "id": "b6a8f563",
   "metadata": {},
   "source": [
    "#### (2)  \n",
    "2桁の自然数の中で、正の約数がちょうど10個であるものを全て求めよ"
   ]
  },
  {
   "cell_type": "code",
   "execution_count": 11,
   "metadata": {},
   "outputs": [
    {
     "data": {
      "text/markdown": [
       "------ 証明開始 ------"
      ],
      "text/plain": [
       "<IPython.core.display.Markdown object>"
      ]
     },
     "metadata": {},
     "output_type": "display_data"
    },
    {
     "data": {
      "text/markdown": [
       "&emsp;&emsp;------ 同定する_条件から ------"
      ],
      "text/plain": [
       "<IPython.core.display.Markdown object>"
      ]
     },
     "metadata": {},
     "output_type": "display_data"
    },
    {
     "data": {
      "text/markdown": [
       "&emsp;&emsp;求める整数を&nbsp;$\\displaystyle n$&nbsp;とする。"
      ],
      "text/plain": [
       "<IPython.core.display.Markdown object>"
      ]
     },
     "metadata": {},
     "output_type": "display_data"
    },
    {
     "data": {
      "text/markdown": [
       "&emsp;&emsp;&nbsp;$\\displaystyle \\left[\\begin{matrix}p_{}\\\\q_{}\\\\r_{}\\\\s_{}\\\\t_{}\\end{matrix}\\right]$&nbsp;を素数とする。"
      ],
      "text/plain": [
       "<IPython.core.display.Markdown object>"
      ]
     },
     "metadata": {},
     "output_type": "display_data"
    },
    {
     "data": {
      "text/markdown": [
       "&emsp;&emsp;約数が$ 10 $個なので、素因数分解して&nbsp;$\\displaystyle p_{}^{4} q_{}$&nbsp;となる$2$桁の自然数を求める"
      ],
      "text/plain": [
       "<IPython.core.display.Markdown object>"
      ]
     },
     "metadata": {},
     "output_type": "display_data"
    },
    {
     "data": {
      "text/markdown": [
       "&emsp;&emsp;上記を満たすのは、下記の自然数である。"
      ],
      "text/plain": [
       "<IPython.core.display.Markdown object>"
      ]
     },
     "metadata": {},
     "output_type": "display_data"
    },
    {
     "data": {
      "text/markdown": [
       "&emsp;&emsp;$\\displaystyle n$&nbsp; $=$ &nbsp;$\\displaystyle 48$&nbsp;, &nbsp;$\\displaystyle 80$&nbsp;"
      ],
      "text/plain": [
       "<IPython.core.display.Markdown object>"
      ]
     },
     "metadata": {},
     "output_type": "display_data"
    },
    {
     "data": {
      "text/markdown": [
       "<span></span>"
      ],
      "text/plain": [
       "<IPython.core.display.Markdown object>"
      ]
     },
     "metadata": {},
     "output_type": "display_data"
    },
    {
     "data": {
      "text/markdown": [
       "------ 証明終了 ------"
      ],
      "text/plain": [
       "<IPython.core.display.Markdown object>"
      ]
     },
     "metadata": {},
     "output_type": "display_data"
    }
   ],
   "source": [
    "def proof_01_06_02(約数の個数: int, range: tuple[int, int]) :\n",
    "    証明 = 証明クラス()\n",
    "    n = 証明.作成する_変数('n',{'integer':True, 'positive':True})\n",
    "    結果 = n.同定する_条件から(10, (10, 99))\n",
    "    assert 結果 == [48,80] \n",
    "    証明.挿入する_セクション('同定する_条件から').表示する_説明()\n",
    "\n",
    "proof_01_06_02(10, (10, 99)) \n"
   ]
  },
  {
   "attachments": {},
   "cell_type": "markdown",
   "id": "eb649f80",
   "metadata": {},
   "source": [
    "### [07]  \n",
    "次の条件を満たす２つの自然数a,b($a \\leq b$)を求めよ"
   ]
  },
  {
   "attachments": {},
   "cell_type": "markdown",
   "id": "bae9754a",
   "metadata": {},
   "source": [
    "#### (1)\n",
    "和が117で、最大公約数が13  "
   ]
  },
  {
   "cell_type": "code",
   "execution_count": 12,
   "metadata": {},
   "outputs": [
    {
     "data": {
      "text/markdown": [
       "------ 証明開始 ------"
      ],
      "text/plain": [
       "<IPython.core.display.Markdown object>"
      ]
     },
     "metadata": {},
     "output_type": "display_data"
    },
    {
     "data": {
      "text/markdown": [
       "&emsp;&emsp;------ 同定する_条件から ------"
      ],
      "text/plain": [
       "<IPython.core.display.Markdown object>"
      ]
     },
     "metadata": {},
     "output_type": "display_data"
    },
    {
     "data": {
      "text/markdown": [
       "&emsp;&emsp;&nbsp;$\\displaystyle a_{0 }$&nbsp;,&nbsp;$\\displaystyle b_{0 }$&nbsp;を求める整数として、下記とおく。"
      ],
      "text/plain": [
       "<IPython.core.display.Markdown object>"
      ]
     },
     "metadata": {},
     "output_type": "display_data"
    },
    {
     "data": {
      "text/markdown": [
       "&emsp;&emsp;$\\displaystyle a_{0 }$&nbsp; $ \\coloneqq $ &nbsp;$\\displaystyle l$&nbsp;"
      ],
      "text/plain": [
       "<IPython.core.display.Markdown object>"
      ]
     },
     "metadata": {},
     "output_type": "display_data"
    },
    {
     "data": {
      "text/markdown": [
       "&emsp;&emsp;$\\displaystyle b_{0 }$&nbsp; $ \\coloneqq $ &nbsp;$\\displaystyle k$&nbsp;"
      ],
      "text/plain": [
       "<IPython.core.display.Markdown object>"
      ]
     },
     "metadata": {},
     "output_type": "display_data"
    },
    {
     "data": {
      "text/markdown": [
       "&emsp;&emsp;$\\displaystyle a_{0 } + b_{0 }$&nbsp; $=$ &nbsp;$\\displaystyle 117$&nbsp;&nbsp;&#8230;&#8230;&nbsp;(&nbsp;&#x2235;&nbsp;与式&nbsp;)"
      ],
      "text/plain": [
       "<IPython.core.display.Markdown object>"
      ]
     },
     "metadata": {},
     "output_type": "display_data"
    },
    {
     "data": {
      "text/markdown": [
       "&emsp;&emsp;&nbsp;$\\displaystyle m_{0 }$&nbsp;,&nbsp;$\\displaystyle n_{0 }$&nbsp;を互いに素な自然数とすると、"
      ],
      "text/plain": [
       "<IPython.core.display.Markdown object>"
      ]
     },
     "metadata": {},
     "output_type": "display_data"
    },
    {
     "data": {
      "text/markdown": [
       "&emsp;&emsp;$\\displaystyle a_{0 }$&nbsp; $ \\coloneqq $ &nbsp;$\\displaystyle 13 m_{0 }$&nbsp;"
      ],
      "text/plain": [
       "<IPython.core.display.Markdown object>"
      ]
     },
     "metadata": {},
     "output_type": "display_data"
    },
    {
     "data": {
      "text/markdown": [
       "&emsp;&emsp;$\\displaystyle b_{0 }$&nbsp; $ \\coloneqq $ &nbsp;$\\displaystyle 13 n_{0 }$&nbsp;"
      ],
      "text/plain": [
       "<IPython.core.display.Markdown object>"
      ]
     },
     "metadata": {},
     "output_type": "display_data"
    },
    {
     "data": {
      "text/markdown": [
       "&emsp;&emsp;上記条件を満たすペアは、下記である"
      ],
      "text/plain": [
       "<IPython.core.display.Markdown object>"
      ]
     },
     "metadata": {},
     "output_type": "display_data"
    },
    {
     "data": {
      "text/markdown": [
       "&emsp;&emsp; $\\displaystyle \\left[\\begin{matrix}a_{0 }\\\\b_{0 }\\end{matrix}\\right]$&nbsp; $=$ &nbsp;$\\displaystyle \\left[\\begin{matrix}13\\\\104\\end{matrix}\\right]$&nbsp;, &nbsp;$\\displaystyle \\left[\\begin{matrix}26\\\\91\\end{matrix}\\right]$&nbsp;, &nbsp;$\\displaystyle \\left[\\begin{matrix}52\\\\65\\end{matrix}\\right]$&nbsp;"
      ],
      "text/plain": [
       "<IPython.core.display.Markdown object>"
      ]
     },
     "metadata": {},
     "output_type": "display_data"
    },
    {
     "data": {
      "text/markdown": [
       "<span></span>"
      ],
      "text/plain": [
       "<IPython.core.display.Markdown object>"
      ]
     },
     "metadata": {},
     "output_type": "display_data"
    },
    {
     "data": {
      "text/markdown": [
       "------ 証明終了 ------"
      ],
      "text/plain": [
       "<IPython.core.display.Markdown object>"
      ]
     },
     "metadata": {},
     "output_type": "display_data"
    }
   ],
   "source": [
    "def proof_01_07_01():\n",
    "    証明 = 証明クラス()\n",
    "    l,k = 証明.作成する_変数s('l k', {'integer':True, 'positive':True})\n",
    "    ペア = 自然数ペアクラス(証明, (l,k))\n",
    "    ペア.同定する_条件から(117,最大公約数 = 13, 最小公倍数=None)\n",
    "    # Explain\n",
    "    証明.挿入する_セクション('同定する_条件から')\\\n",
    "        .表示する_説明()\n",
    "\n",
    "\n",
    "proof_01_07_01()\n"
   ]
  },
  {
   "attachments": {},
   "cell_type": "markdown",
   "id": "effe40f7",
   "metadata": {},
   "source": [
    "#### (2)\n",
    "和が341で、最小公倍数が1650  "
   ]
  },
  {
   "cell_type": "code",
   "execution_count": 13,
   "metadata": {},
   "outputs": [
    {
     "data": {
      "text/markdown": [
       "------ 証明開始 ------"
      ],
      "text/plain": [
       "<IPython.core.display.Markdown object>"
      ]
     },
     "metadata": {},
     "output_type": "display_data"
    },
    {
     "data": {
      "text/markdown": [
       "&emsp;&emsp;------ 同定する_条件から ------"
      ],
      "text/plain": [
       "<IPython.core.display.Markdown object>"
      ]
     },
     "metadata": {},
     "output_type": "display_data"
    },
    {
     "data": {
      "text/markdown": [
       "&emsp;&emsp;&nbsp;$\\displaystyle a_{0 }$&nbsp;,&nbsp;$\\displaystyle b_{0 }$&nbsp;を求める整数として、下記とおく。"
      ],
      "text/plain": [
       "<IPython.core.display.Markdown object>"
      ]
     },
     "metadata": {},
     "output_type": "display_data"
    },
    {
     "data": {
      "text/markdown": [
       "&emsp;&emsp;$\\displaystyle a_{0 }$&nbsp; $ \\coloneqq $ &nbsp;$\\displaystyle m$&nbsp;"
      ],
      "text/plain": [
       "<IPython.core.display.Markdown object>"
      ]
     },
     "metadata": {},
     "output_type": "display_data"
    },
    {
     "data": {
      "text/markdown": [
       "&emsp;&emsp;$\\displaystyle b_{0 }$&nbsp; $ \\coloneqq $ &nbsp;$\\displaystyle n$&nbsp;"
      ],
      "text/plain": [
       "<IPython.core.display.Markdown object>"
      ]
     },
     "metadata": {},
     "output_type": "display_data"
    },
    {
     "data": {
      "text/markdown": [
       "&emsp;&emsp;$\\displaystyle a_{0 } + b_{0 }$&nbsp; $=$ &nbsp;$\\displaystyle 341$&nbsp;"
      ],
      "text/plain": [
       "<IPython.core.display.Markdown object>"
      ]
     },
     "metadata": {},
     "output_type": "display_data"
    },
    {
     "data": {
      "text/markdown": [
       "&emsp;&emsp;&nbsp;$\\displaystyle m_{}$&nbsp;,&nbsp;$\\displaystyle n_{}$&nbsp;を互いに素な自然数とする。"
      ],
      "text/plain": [
       "<IPython.core.display.Markdown object>"
      ]
     },
     "metadata": {},
     "output_type": "display_data"
    },
    {
     "data": {
      "text/markdown": [
       "&emsp;&emsp;&nbsp;$\\displaystyle GCD$&nbsp;, &nbsp;$\\displaystyle LCM$&nbsp;を&nbsp;$\\displaystyle a_{0 }$&nbsp;,&nbsp;$\\displaystyle b_{0 }$&nbsp;の最大公約数/最小公倍数とする。"
      ],
      "text/plain": [
       "<IPython.core.display.Markdown object>"
      ]
     },
     "metadata": {},
     "output_type": "display_data"
    },
    {
     "data": {
      "text/markdown": [
       "&emsp;&emsp;$\\displaystyle a_{0 }$&nbsp; $ \\coloneqq $ &nbsp;$\\displaystyle GCD m_{}$&nbsp;"
      ],
      "text/plain": [
       "<IPython.core.display.Markdown object>"
      ]
     },
     "metadata": {},
     "output_type": "display_data"
    },
    {
     "data": {
      "text/markdown": [
       "&emsp;&emsp;$\\displaystyle b_{0 }$&nbsp; $ \\coloneqq $ &nbsp;$\\displaystyle GCD n_{}$&nbsp;"
      ],
      "text/plain": [
       "<IPython.core.display.Markdown object>"
      ]
     },
     "metadata": {},
     "output_type": "display_data"
    },
    {
     "data": {
      "text/markdown": [
       "&emsp;&emsp;公約数・公倍数の関係式より"
      ],
      "text/plain": [
       "<IPython.core.display.Markdown object>"
      ]
     },
     "metadata": {},
     "output_type": "display_data"
    },
    {
     "data": {
      "text/markdown": [
       "&emsp;&emsp;$\\displaystyle GCD \\left(m_{} + n_{}\\right)$&nbsp; $=$ &nbsp;$\\displaystyle 341$&nbsp;&nbsp;&#8230;&#8230;&nbsp;(&nbsp;&#x2235;&nbsp;公約数・公倍数の関係式&nbsp;)"
      ],
      "text/plain": [
       "<IPython.core.display.Markdown object>"
      ]
     },
     "metadata": {},
     "output_type": "display_data"
    },
    {
     "data": {
      "text/markdown": [
       "&emsp;&emsp;$\\displaystyle GCD m_{} n_{}$&nbsp; $=$ &nbsp;$\\displaystyle LCM$&nbsp;&nbsp;&#8230;&#8230;&nbsp;(&nbsp;&#x2235;&nbsp;公約数・公倍数の関係式&nbsp;)"
      ],
      "text/plain": [
       "<IPython.core.display.Markdown object>"
      ]
     },
     "metadata": {},
     "output_type": "display_data"
    },
    {
     "data": {
      "text/markdown": [
       "&emsp;&emsp;<em style=\"opacity:0;\"></em>$\\textcolor{gray} {\\displaystyle GCD m_{} n_{}}$&nbsp; $=$ &nbsp;$\\displaystyle 1650$&nbsp;"
      ],
      "text/plain": [
       "<IPython.core.display.Markdown object>"
      ]
     },
     "metadata": {},
     "output_type": "display_data"
    },
    {
     "data": {
      "text/markdown": [
       "&emsp;&emsp;上記条件を満たすペアは、下記である"
      ],
      "text/plain": [
       "<IPython.core.display.Markdown object>"
      ]
     },
     "metadata": {},
     "output_type": "display_data"
    },
    {
     "data": {
      "text/markdown": [
       "&emsp;&emsp; $\\displaystyle \\left[\\begin{matrix}a_{0 }\\\\b_{0 }\\end{matrix}\\right]$&nbsp; $=$ &nbsp;$\\displaystyle \\left[\\begin{matrix}66\\\\275\\end{matrix}\\right]$&nbsp;"
      ],
      "text/plain": [
       "<IPython.core.display.Markdown object>"
      ]
     },
     "metadata": {},
     "output_type": "display_data"
    },
    {
     "data": {
      "text/markdown": [
       "<span></span>"
      ],
      "text/plain": [
       "<IPython.core.display.Markdown object>"
      ]
     },
     "metadata": {},
     "output_type": "display_data"
    },
    {
     "data": {
      "text/markdown": [
       "------ 証明終了 ------"
      ],
      "text/plain": [
       "<IPython.core.display.Markdown object>"
      ]
     },
     "metadata": {},
     "output_type": "display_data"
    }
   ],
   "source": [
    "def proof_01_07_02():\n",
    "    証明 = 証明クラス()\n",
    "    m,n = 証明.作成する_変数s('m,n', {'integer':True, 'positive':True})\n",
    "    ペア = 自然数ペアクラス(証明, (m,n))\n",
    "    結果 = ペア.同定する_条件から(341, 最小公倍数=1650)\n",
    "    # assertion\n",
    "    正解か:bool|数理的ブールクラス = True\n",
    "    correct_解s = [(66, 275)]\n",
    "    for i, ベクトル方程式 in enumerate(結果):\n",
    "        for j, 方程式 in enumerate(ベクトル方程式):\n",
    "            a =((方程式.式s[1] == correct_解s[i][j]) == True)\n",
    "            正解か =  a & 正解か\n",
    "    assert 正解か\n",
    "    # Explain\n",
    "    証明\\\n",
    "        .挿入する_セクション('同定する_条件から')\\\n",
    "        .表示する_説明()\n",
    "\n",
    "\n",
    "proof_01_07_02()\n"
   ]
  },
  {
   "attachments": {},
   "cell_type": "markdown",
   "id": "10756697",
   "metadata": {},
   "source": [
    "### [08]  \n",
    "自然数mとnが互いに素ならば、$3*m+n$と$7*m+2*n$も互いに素である。"
   ]
  },
  {
   "cell_type": "code",
   "execution_count": 14,
   "id": "bb357ad1",
   "metadata": {},
   "outputs": [
    {
     "data": {
      "text/markdown": [
       "------ 証明開始 ------"
      ],
      "text/plain": [
       "<IPython.core.display.Markdown object>"
      ]
     },
     "metadata": {},
     "output_type": "display_data"
    },
    {
     "data": {
      "text/markdown": [
       "&emsp;&emsp;------ ユークリッドの互除法 ------"
      ],
      "text/plain": [
       "<IPython.core.display.Markdown object>"
      ]
     },
     "metadata": {},
     "output_type": "display_data"
    },
    {
     "data": {
      "text/markdown": [
       "&emsp;&emsp;$GCD($&nbsp;$\\displaystyle 3 m + n$&nbsp;$,$&nbsp;$\\displaystyle 7 m + 2 n$&nbsp;$)$ &nbsp; $=$ &nbsp;$GCD($&nbsp;$\\displaystyle 3 m + n$&nbsp;$ , $&nbsp;$\\displaystyle m$&nbsp;$)$"
      ],
      "text/plain": [
       "<IPython.core.display.Markdown object>"
      ]
     },
     "metadata": {},
     "output_type": "display_data"
    },
    {
     "data": {
      "text/markdown": [
       "&emsp;&emsp;$GCD($&nbsp;$\\displaystyle 3 m + n$&nbsp;$,$&nbsp;$\\displaystyle 7 m + 2 n$&nbsp;$)$ &nbsp; $=$ &nbsp;$GCD($&nbsp;$\\displaystyle n$&nbsp;$ , $&nbsp;$\\displaystyle m$&nbsp;$)$"
      ],
      "text/plain": [
       "<IPython.core.display.Markdown object>"
      ]
     },
     "metadata": {},
     "output_type": "display_data"
    },
    {
     "data": {
      "text/markdown": [
       "&emsp;&emsp;$GCD($ &nbsp;$\\displaystyle 3 m + n$&nbsp;, &nbsp;$\\displaystyle 7 m + 2 n$&nbsp;) $=$ &nbsp;$\\displaystyle 1$&nbsp;"
      ],
      "text/plain": [
       "<IPython.core.display.Markdown object>"
      ]
     },
     "metadata": {},
     "output_type": "display_data"
    },
    {
     "data": {
      "text/markdown": [
       "<span></span>"
      ],
      "text/plain": [
       "<IPython.core.display.Markdown object>"
      ]
     },
     "metadata": {},
     "output_type": "display_data"
    },
    {
     "data": {
      "text/markdown": [
       "∴ 互いに素である。"
      ],
      "text/plain": [
       "<IPython.core.display.Markdown object>"
      ]
     },
     "metadata": {},
     "output_type": "display_data"
    },
    {
     "data": {
      "text/markdown": [
       "------ 証明終了 ------"
      ],
      "text/plain": [
       "<IPython.core.display.Markdown object>"
      ]
     },
     "metadata": {},
     "output_type": "display_data"
    }
   ],
   "source": [
    "def proof_01_08_01():\n",
    "    証明 = 証明クラス()\n",
    "    m,n = 証明.作成する_変数(['m', 'n'], {'integer':True, 'positive':True})\n",
    "    ペア =自然数ペアクラス(証明, (3*m+n, 7*m+2*n), relational_prime_pairs=[(m,n)])\n",
    "    結果 = ペア.最大公約数\n",
    "    assert 結果 == 1\n",
    "    # Explain\n",
    "    証明\\\n",
    "        .追加する_説明(ペア.最大公約数の履歴)\\\n",
    "        .追加する_説明('∴ 互いに素である。')\\\n",
    "        .表示する_説明()\n",
    "\n",
    "\n",
    "proof_01_08_01()\n"
   ]
  },
  {
   "attachments": {},
   "cell_type": "markdown",
   "id": "10756697",
   "metadata": {},
   "source": [
    "### [9]  \n",
    "nを自然数とするとき、$m \\leq n$でmとnの最大公約数が１となる自然数mの個数を$f(x)$とする。"
   ]
  },
  {
   "attachments": {},
   "cell_type": "markdown",
   "id": "bae9754a",
   "metadata": {},
   "source": [
    "#### (1)\n",
    "$f(15)$を求めよ  "
   ]
  },
  {
   "cell_type": "code",
   "execution_count": 15,
   "metadata": {},
   "outputs": [
    {
     "data": {
      "text/markdown": [
       "------ 証明開始 ------"
      ],
      "text/plain": [
       "<IPython.core.display.Markdown object>"
      ]
     },
     "metadata": {},
     "output_type": "display_data"
    },
    {
     "data": {
      "text/markdown": [
       "&emsp;&emsp;------ オイラー関数の証明 ------"
      ],
      "text/plain": [
       "<IPython.core.display.Markdown object>"
      ]
     },
     "metadata": {},
     "output_type": "display_data"
    },
    {
     "data": {
      "text/markdown": [
       "&emsp;&emsp;$ET(n)$ := オイラー関数(ただし、$n$は自然数)"
      ],
      "text/plain": [
       "<IPython.core.display.Markdown object>"
      ]
     },
     "metadata": {},
     "output_type": "display_data"
    },
    {
     "data": {
      "image/png": "[encoded data removed]",
      "text/plain": [
       "<Figure size 640x480 with 1 Axes>"
      ]
     },
     "metadata": {},
     "output_type": "display_data"
    },
    {
     "data": {
      "text/markdown": [
       "&emsp;&emsp;上図より、"
      ],
      "text/plain": [
       "<IPython.core.display.Markdown object>"
      ]
     },
     "metadata": {},
     "output_type": "display_data"
    },
    {
     "data": {
      "text/markdown": [
       "&emsp;&emsp;$ET(15) = $ 8"
      ],
      "text/plain": [
       "<IPython.core.display.Markdown object>"
      ]
     },
     "metadata": {},
     "output_type": "display_data"
    },
    {
     "data": {
      "text/markdown": [
       "<span></span>"
      ],
      "text/plain": [
       "<IPython.core.display.Markdown object>"
      ]
     },
     "metadata": {},
     "output_type": "display_data"
    },
    {
     "data": {
      "text/markdown": [
       "------ 証明終了 ------"
      ],
      "text/plain": [
       "<IPython.core.display.Markdown object>"
      ]
     },
     "metadata": {},
     "output_type": "display_data"
    }
   ],
   "source": [
    "class ベン図(TypedDict):\n",
    "    label: str\n",
    "    set: set[int]\n",
    "\n",
    "\n",
    "class VennData(TypedDict):\n",
    "    label: str\n",
    "    set: set[int] | set[str]\n",
    "\n",
    "\n",
    "def オイラー関数_v0(証明: 証明クラス, integer: int, セクションタイトル: str='オイラー関数') -> int:\n",
    "    素因数s = 整数クラス(証明, integer).素因数分解する()\n",
    "    assert len(素因数s) <= 2,\\\n",
    "        '    素因数が３以上には対応していません。\\n    素因数：{}'.format(\n",
    "        list(素因数s.keys()))\n",
    "    multiples: dict[int, set[int]] = {}\n",
    "    all_element: set[int] = set(range(1, integer+1))\n",
    "    relative_primes_candidate: set[int] = set(range(1, integer+1))\n",
    "    for i, prime in enumerate(素因数s):\n",
    "        multiples[prime] = set()\n",
    "        for j in range(1, integer+1):\n",
    "            if (j % prime == 0):\n",
    "                multiples[prime].add(j)\n",
    "                if j in relative_primes_candidate:\n",
    "                    relative_primes_candidate.remove(j)\n",
    "    relative_primes = relative_primes_candidate\n",
    "    結果 = len(relative_primes)\n",
    "    # Explain\n",
    "    セクション = 証明.作成する_セクション('オイラー関数の証明', セクションタイトル)\n",
    "    セクション.追加する('$ET(n)$ := オイラー関数(ただし、$n$は自然数)')\n",
    "    ベン図data: list[VennData] = [{\n",
    "        'label':  '{}以下の自然数'.format(integer),\n",
    "        'set': all_element\n",
    "    }]\n",
    "    for key, 値 in multiples.items():\n",
    "        ベン図data.append(\n",
    "            {\n",
    "                'label': '{} の倍数'.format(key),\n",
    "                'set': 値\n",
    "            }\n",
    "        )\n",
    "    セクション.追加する(ベン図登録クラス(ベン図data))\n",
    "    セクション.追加する('上図より、')\n",
    "    セクション.追加する(f'$ET({integer}) = $ {結果}')\n",
    "    return 結果\n",
    "\n",
    "\n",
    "def proof_01_09_01():\n",
    "    証明 = 証明クラス()\n",
    "    結果 = オイラー関数_v0(証明, 15, 'オイラー関数')\n",
    "    assert 結果 == 8\n",
    "    # Explain\n",
    "    証明\\\n",
    "        .挿入する_セクション('オイラー関数')\\\n",
    "        .表示する_説明()\n",
    "\n",
    "\n",
    "proof_01_09_01()\n"
   ]
  },
  {
   "attachments": {},
   "cell_type": "markdown",
   "id": "bae9754a",
   "metadata": {},
   "source": [
    "#### (2)\n",
    "$p, q$を互いに異なる素数とする。このとき$f(pq)$を求めよ  "
   ]
  },
  {
   "cell_type": "code",
   "execution_count": 16,
   "metadata": {},
   "outputs": [
    {
     "data": {
      "text/markdown": [
       "------ 証明開始 ------"
      ],
      "text/plain": [
       "<IPython.core.display.Markdown object>"
      ]
     },
     "metadata": {},
     "output_type": "display_data"
    },
    {
     "data": {
      "text/markdown": [
       "&emsp;&emsp;------ オイラー関数の証明 ------"
      ],
      "text/plain": [
       "<IPython.core.display.Markdown object>"
      ]
     },
     "metadata": {},
     "output_type": "display_data"
    },
    {
     "data": {
      "text/markdown": [
       "&emsp;&emsp;$ET(n)$ :=オイラー関数 （nは自然数）"
      ],
      "text/plain": [
       "<IPython.core.display.Markdown object>"
      ]
     },
     "metadata": {},
     "output_type": "display_data"
    },
    {
     "data": {
      "text/markdown": [
       "&emsp;&emsp;&nbsp;$\\displaystyle p$&nbsp;,&nbsp;$\\displaystyle q$&nbsp;は互いに異なる素数なので、"
      ],
      "text/plain": [
       "<IPython.core.display.Markdown object>"
      ]
     },
     "metadata": {},
     "output_type": "display_data"
    },
    {
     "data": {
      "image/png": "[encoded data removed]",
      "text/plain": [
       "<Figure size 640x480 with 1 Axes>"
      ]
     },
     "metadata": {},
     "output_type": "display_data"
    },
    {
     "data": {
      "text/markdown": [
       "&emsp;&emsp;上図より（数字に意味はない）、"
      ],
      "text/plain": [
       "<IPython.core.display.Markdown object>"
      ]
     },
     "metadata": {},
     "output_type": "display_data"
    },
    {
     "data": {
      "text/markdown": [
       "&emsp;&emsp;$ET($&nbsp;$\\displaystyle p$&nbsp;&nbsp;$\\displaystyle q$&nbsp;$) = $&nbsp;$\\displaystyle p + q$&nbsp;"
      ],
      "text/plain": [
       "<IPython.core.display.Markdown object>"
      ]
     },
     "metadata": {},
     "output_type": "display_data"
    },
    {
     "data": {
      "text/markdown": [
       "<span></span>"
      ],
      "text/plain": [
       "<IPython.core.display.Markdown object>"
      ]
     },
     "metadata": {},
     "output_type": "display_data"
    },
    {
     "data": {
      "text/markdown": [
       "------ 証明終了 ------"
      ],
      "text/plain": [
       "<IPython.core.display.Markdown object>"
      ]
     },
     "metadata": {},
     "output_type": "display_data"
    }
   ],
   "source": [
    "def オイラー関数_d1_v2(証明: 証明クラス, prime_symbols: tuple[str, str], セクションタイトル: str='オイラー関数') -> str:\n",
    "    p, q = 証明.作成する_変数(list(prime_symbols))\n",
    "    # p = 式クラス(証明, primeSymbols[0])\n",
    "    # q = 式クラス(証明, primeSymbols[1])\n",
    "    結果 = p+q\n",
    "    # Explain\n",
    "    セクション = 証明.作成する_セクション('オイラー関数の証明', セクションタイトル)\n",
    "    セクション\\\n",
    "        .追加する(f'$ET(n)$ :=オイラー関数 （nは自然数）')\\\n",
    "        .追加する(f'{p},{q}は互いに異なる素数なので、')\n",
    "    ベン図data: list[VennData] = [\n",
    "        {\n",
    "            'label': f'{p.テキスト}×{q.テキスト}以下の自然数',\n",
    "            'set': {1, 2, 3, 4, 5, 6, 7, 8, 9, 10}\n",
    "        },\n",
    "        {\n",
    "            'label': f'{p.テキスト}の倍数',\n",
    "            'set': {1, 2}\n",
    "        },\n",
    "        {\n",
    "            'label': f'{q.テキスト}の倍数',\n",
    "            'set': {3, 4}\n",
    "        }\n",
    "    ]\n",
    "    セクション\\\n",
    "        .追加する(ベン図登録クラス(ベン図data))\\\n",
    "        .追加する('上図より（数字に意味はない）、')\\\n",
    "        .追加する(f'$ET(${p}{q}$) = ${結果}')\n",
    "    return 結果.テキスト\n",
    "\n",
    "\n",
    "def proof_01_09_02():\n",
    "    証明 = 証明クラス()\n",
    "    結果 = オイラー関数_d1_v2(証明, ('p', 'q'))\n",
    "    assert 結果 == 'p + q'\n",
    "    # Explain\n",
    "    証明\\\n",
    "        .挿入する_セクション('オイラー関数')\\\n",
    "        .表示する_説明()\n",
    "\n",
    "\n",
    "proof_01_09_02()\n"
   ]
  },
  {
   "attachments": {},
   "cell_type": "markdown",
   "id": "10756697",
   "metadata": {},
   "source": [
    "### [10]  "
   ]
  },
  {
   "attachments": {},
   "cell_type": "markdown",
   "id": "bae9754a",
   "metadata": {},
   "source": [
    "#### (1)\n",
    "$589と703の最大公約数を求めよ$  "
   ]
  },
  {
   "cell_type": "code",
   "execution_count": 17,
   "id": "bb357ad1",
   "metadata": {},
   "outputs": [
    {
     "data": {
      "text/markdown": [
       "------ 証明開始 ------"
      ],
      "text/plain": [
       "<IPython.core.display.Markdown object>"
      ]
     },
     "metadata": {},
     "output_type": "display_data"
    },
    {
     "data": {
      "text/markdown": [
       "&emsp;&emsp;------ ユークリッドの互除法 ------"
      ],
      "text/plain": [
       "<IPython.core.display.Markdown object>"
      ]
     },
     "metadata": {},
     "output_type": "display_data"
    },
    {
     "data": {
      "text/markdown": [
       "&emsp;&emsp;$ GCD($ &nbsp;$\\displaystyle 589$&nbsp;, &nbsp;$\\displaystyle 703$&nbsp;) $=$ $GCD($ &nbsp;$\\displaystyle 589$&nbsp; , &nbsp;$\\displaystyle 114$&nbsp; )"
      ],
      "text/plain": [
       "<IPython.core.display.Markdown object>"
      ]
     },
     "metadata": {},
     "output_type": "display_data"
    },
    {
     "data": {
      "text/markdown": [
       "&emsp;&emsp;$ GCD($ &nbsp;$\\displaystyle 589$&nbsp;, &nbsp;$\\displaystyle 703$&nbsp;) $=$ $GCD($ &nbsp;$\\displaystyle 19$&nbsp; , &nbsp;$\\displaystyle 114$&nbsp; )"
      ],
      "text/plain": [
       "<IPython.core.display.Markdown object>"
      ]
     },
     "metadata": {},
     "output_type": "display_data"
    },
    {
     "data": {
      "text/markdown": [
       "&emsp;&emsp;$ GCD($ &nbsp;$\\displaystyle 589$&nbsp;, &nbsp;$\\displaystyle 703$&nbsp;) $=$ $GCD($ &nbsp;$\\displaystyle 19$&nbsp; , &nbsp;$\\displaystyle 19$&nbsp; )"
      ],
      "text/plain": [
       "<IPython.core.display.Markdown object>"
      ]
     },
     "metadata": {},
     "output_type": "display_data"
    },
    {
     "data": {
      "text/markdown": [
       "&emsp;&emsp;$GCD($ &nbsp;$\\displaystyle 589$&nbsp;, &nbsp;$\\displaystyle 703$&nbsp;) $=$ &nbsp;$\\displaystyle 19$&nbsp;"
      ],
      "text/plain": [
       "<IPython.core.display.Markdown object>"
      ]
     },
     "metadata": {},
     "output_type": "display_data"
    },
    {
     "data": {
      "text/markdown": [
       "<span></span>"
      ],
      "text/plain": [
       "<IPython.core.display.Markdown object>"
      ]
     },
     "metadata": {},
     "output_type": "display_data"
    },
    {
     "data": {
      "text/markdown": [
       "よって、&nbsp;$\\displaystyle 19$&nbsp;"
      ],
      "text/plain": [
       "<IPython.core.display.Markdown object>"
      ]
     },
     "metadata": {},
     "output_type": "display_data"
    },
    {
     "data": {
      "text/markdown": [
       "------ 証明終了 ------"
      ],
      "text/plain": [
       "<IPython.core.display.Markdown object>"
      ]
     },
     "metadata": {},
     "output_type": "display_data"
    }
   ],
   "source": [
    "def proof_01_10_01():\n",
    "    証明 = 証明クラス()\n",
    "    ペア = 自然数ペアクラス(証明, (589, 703))\n",
    "    assert ペア.最大公約数 == 19\n",
    "    # Explain\n",
    "    証明.追加する_説明(ペア.最大公約数の履歴).追加する_説明(f\"よって、{ペア.最大公約数}\").表示する_説明()\n",
    "\n",
    "\n",
    "proof_01_10_01()"
   ]
  },
  {
   "attachments": {},
   "cell_type": "markdown",
   "id": "bae9754a",
   "metadata": {},
   "source": [
    "### (2)\n",
    "#### m,nが互いに素な自然数であるとき、$\\displaystyle \\frac{4m+9n}{3m+7n}$は既約分数であることを示せ。  "
   ]
  },
  {
   "cell_type": "code",
   "execution_count": 18,
   "id": "bb357ad1",
   "metadata": {},
   "outputs": [
    {
     "data": {
      "text/markdown": [
       "------ 証明開始 ------"
      ],
      "text/plain": [
       "<IPython.core.display.Markdown object>"
      ]
     },
     "metadata": {},
     "output_type": "display_data"
    },
    {
     "data": {
      "text/markdown": [
       "「既約分数でない」ならば、「1より大きい最小公倍数を持つ」"
      ],
      "text/plain": [
       "<IPython.core.display.Markdown object>"
      ]
     },
     "metadata": {},
     "output_type": "display_data"
    },
    {
     "data": {
      "text/markdown": [
       "&emsp;&emsp;------ ユークリッドの互除法 ------"
      ],
      "text/plain": [
       "<IPython.core.display.Markdown object>"
      ]
     },
     "metadata": {},
     "output_type": "display_data"
    },
    {
     "data": {
      "text/markdown": [
       "&emsp;&emsp;$GCD($&nbsp;$\\displaystyle 4 m + 9 n$&nbsp;$,$&nbsp;$\\displaystyle 3 m + 7 n$&nbsp;$)$ &nbsp; $=$ &nbsp;$GCD($&nbsp;$\\displaystyle m + 2 n$&nbsp;$ , $&nbsp;$\\displaystyle 3 m + 7 n$&nbsp;$)$"
      ],
      "text/plain": [
       "<IPython.core.display.Markdown object>"
      ]
     },
     "metadata": {},
     "output_type": "display_data"
    },
    {
     "data": {
      "text/markdown": [
       "&emsp;&emsp;$GCD($&nbsp;$\\displaystyle 4 m + 9 n$&nbsp;$,$&nbsp;$\\displaystyle 3 m + 7 n$&nbsp;$)$ &nbsp; $=$ &nbsp;$GCD($&nbsp;$\\displaystyle m + 2 n$&nbsp;$ , $&nbsp;$\\displaystyle n$&nbsp;$)$"
      ],
      "text/plain": [
       "<IPython.core.display.Markdown object>"
      ]
     },
     "metadata": {},
     "output_type": "display_data"
    },
    {
     "data": {
      "text/markdown": [
       "&emsp;&emsp;$GCD($&nbsp;$\\displaystyle 4 m + 9 n$&nbsp;$,$&nbsp;$\\displaystyle 3 m + 7 n$&nbsp;$)$ &nbsp; $=$ &nbsp;$GCD($&nbsp;$\\displaystyle m$&nbsp;$ , $&nbsp;$\\displaystyle n$&nbsp;$)$"
      ],
      "text/plain": [
       "<IPython.core.display.Markdown object>"
      ]
     },
     "metadata": {},
     "output_type": "display_data"
    },
    {
     "data": {
      "text/markdown": [
       "&emsp;&emsp;$GCD($ &nbsp;$\\displaystyle 4 m + 9 n$&nbsp;, &nbsp;$\\displaystyle 3 m + 7 n$&nbsp;) $=$ &nbsp;$\\displaystyle 1$&nbsp;"
      ],
      "text/plain": [
       "<IPython.core.display.Markdown object>"
      ]
     },
     "metadata": {},
     "output_type": "display_data"
    },
    {
     "data": {
      "text/markdown": [
       "<span></span>"
      ],
      "text/plain": [
       "<IPython.core.display.Markdown object>"
      ]
     },
     "metadata": {},
     "output_type": "display_data"
    },
    {
     "data": {
      "text/markdown": [
       "よって、既約分数である。"
      ],
      "text/plain": [
       "<IPython.core.display.Markdown object>"
      ]
     },
     "metadata": {},
     "output_type": "display_data"
    },
    {
     "data": {
      "text/markdown": [
       "------ 証明終了 ------"
      ],
      "text/plain": [
       "<IPython.core.display.Markdown object>"
      ]
     },
     "metadata": {},
     "output_type": "display_data"
    }
   ],
   "source": [
    "def proof_01_10_02():\n",
    "    証明 = 証明クラス()\n",
    "    m,n = 証明.作成する_変数(['m', 'n'], {'integer':True, 'positive':True})\n",
    "    ペア = 自然数ペアクラス(証明, (4*m+9*n, 3*m+7*n), relational_prime_pairs=[(m,n)])\n",
    "    assert ペア.最大公約数 ==1\n",
    "    # Explain\n",
    "    証明\\\n",
    "        .追加する_説明('「既約分数でない」ならば、「1より大きい最小公倍数を持つ」')\\\n",
    "        .追加する_説明(ペア.最大公約数の履歴)\\\n",
    "        .追加する_説明('よって、既約分数である。')\\\n",
    "        .表示する_説明()\n",
    "\n",
    "\n",
    "proof_01_10_02()"
   ]
  },
  {
   "attachments": {},
   "cell_type": "markdown",
   "id": "10756697",
   "metadata": {},
   "source": [
    "### [11]  \n",
    "$2010! = 2^nm（mは奇数）のとき、自然数nを求めよ。$"
   ]
  },
  {
   "cell_type": "code",
   "execution_count": 19,
   "metadata": {},
   "outputs": [
    {
     "data": {
      "text/markdown": [
       "------ 証明開始 ------"
      ],
      "text/plain": [
       "<IPython.core.display.Markdown object>"
      ]
     },
     "metadata": {},
     "output_type": "display_data"
    },
    {
     "data": {
      "text/markdown": [
       "$2010!$を素因数分解した際の、2の乗数を求めることと同義である。"
      ],
      "text/plain": [
       "<IPython.core.display.Markdown object>"
      ]
     },
     "metadata": {},
     "output_type": "display_data"
    },
    {
     "data": {
      "text/markdown": [
       "&emsp;&emsp;------ 階乗の素数の乗数の算出 ------"
      ],
      "text/plain": [
       "<IPython.core.display.Markdown object>"
      ]
     },
     "metadata": {},
     "output_type": "display_data"
    },
    {
     "data": {
      "text/markdown": [
       "&emsp;&emsp;2010までの自然数は、2の何乗まで約数に含むかを、表にまとめる"
      ],
      "text/plain": [
       "<IPython.core.display.Markdown object>"
      ]
     },
     "metadata": {},
     "output_type": "display_data"
    },
    {
     "data": {
      "text/html": [
       "<div>\n",
       "<style scoped>\n",
       "    .dataframe tbody tr th:only-of-type {\n",
       "        vertical-align: middle;\n",
       "    }\n",
       "\n",
       "    .dataframe tbody tr th {\n",
       "        vertical-align: top;\n",
       "    }\n",
       "\n",
       "    .dataframe thead th {\n",
       "        text-align: right;\n",
       "    }\n",
       "</style>\n",
       "<table border=\"1\" class=\"dataframe\">\n",
       "  <thead>\n",
       "    <tr style=\"text-align: right;\">\n",
       "      <th></th>\n",
       "      <th>自然数</th>\n",
       "      <th>2の倍数</th>\n",
       "      <th>4の倍数</th>\n",
       "      <th>8の倍数</th>\n",
       "      <th>16の倍数</th>\n",
       "      <th>32の倍数</th>\n",
       "      <th>64の倍数</th>\n",
       "      <th>128の倍数</th>\n",
       "      <th>256の倍数</th>\n",
       "      <th>512の倍数</th>\n",
       "      <th>...</th>\n",
       "    </tr>\n",
       "  </thead>\n",
       "  <tbody>\n",
       "    <tr>\n",
       "      <th>0</th>\n",
       "      <td>1</td>\n",
       "      <td></td>\n",
       "      <td></td>\n",
       "      <td></td>\n",
       "      <td></td>\n",
       "      <td></td>\n",
       "      <td></td>\n",
       "      <td></td>\n",
       "      <td></td>\n",
       "      <td></td>\n",
       "      <td></td>\n",
       "    </tr>\n",
       "    <tr>\n",
       "      <th>1</th>\n",
       "      <td>2</td>\n",
       "      <td>○</td>\n",
       "      <td></td>\n",
       "      <td></td>\n",
       "      <td></td>\n",
       "      <td></td>\n",
       "      <td></td>\n",
       "      <td></td>\n",
       "      <td></td>\n",
       "      <td></td>\n",
       "      <td></td>\n",
       "    </tr>\n",
       "    <tr>\n",
       "      <th>2</th>\n",
       "      <td>3</td>\n",
       "      <td></td>\n",
       "      <td></td>\n",
       "      <td></td>\n",
       "      <td></td>\n",
       "      <td></td>\n",
       "      <td></td>\n",
       "      <td></td>\n",
       "      <td></td>\n",
       "      <td></td>\n",
       "      <td></td>\n",
       "    </tr>\n",
       "    <tr>\n",
       "      <th>3</th>\n",
       "      <td>4</td>\n",
       "      <td>○</td>\n",
       "      <td>○</td>\n",
       "      <td></td>\n",
       "      <td></td>\n",
       "      <td></td>\n",
       "      <td></td>\n",
       "      <td></td>\n",
       "      <td></td>\n",
       "      <td></td>\n",
       "      <td></td>\n",
       "    </tr>\n",
       "    <tr>\n",
       "      <th>4</th>\n",
       "      <td>5</td>\n",
       "      <td></td>\n",
       "      <td></td>\n",
       "      <td></td>\n",
       "      <td></td>\n",
       "      <td></td>\n",
       "      <td></td>\n",
       "      <td></td>\n",
       "      <td></td>\n",
       "      <td></td>\n",
       "      <td></td>\n",
       "    </tr>\n",
       "    <tr>\n",
       "      <th>...</th>\n",
       "      <td>...</td>\n",
       "      <td>...</td>\n",
       "      <td>...</td>\n",
       "      <td>...</td>\n",
       "      <td>...</td>\n",
       "      <td>...</td>\n",
       "      <td>...</td>\n",
       "      <td>...</td>\n",
       "      <td>...</td>\n",
       "      <td>...</td>\n",
       "      <td>...</td>\n",
       "    </tr>\n",
       "    <tr>\n",
       "      <th>2005</th>\n",
       "      <td>2006</td>\n",
       "      <td>○</td>\n",
       "      <td></td>\n",
       "      <td></td>\n",
       "      <td></td>\n",
       "      <td></td>\n",
       "      <td></td>\n",
       "      <td></td>\n",
       "      <td></td>\n",
       "      <td></td>\n",
       "      <td></td>\n",
       "    </tr>\n",
       "    <tr>\n",
       "      <th>2006</th>\n",
       "      <td>2007</td>\n",
       "      <td></td>\n",
       "      <td></td>\n",
       "      <td></td>\n",
       "      <td></td>\n",
       "      <td></td>\n",
       "      <td></td>\n",
       "      <td></td>\n",
       "      <td></td>\n",
       "      <td></td>\n",
       "      <td></td>\n",
       "    </tr>\n",
       "    <tr>\n",
       "      <th>2007</th>\n",
       "      <td>2008</td>\n",
       "      <td>○</td>\n",
       "      <td>○</td>\n",
       "      <td>○</td>\n",
       "      <td></td>\n",
       "      <td></td>\n",
       "      <td></td>\n",
       "      <td></td>\n",
       "      <td></td>\n",
       "      <td></td>\n",
       "      <td></td>\n",
       "    </tr>\n",
       "    <tr>\n",
       "      <th>2008</th>\n",
       "      <td>2009</td>\n",
       "      <td></td>\n",
       "      <td></td>\n",
       "      <td></td>\n",
       "      <td></td>\n",
       "      <td></td>\n",
       "      <td></td>\n",
       "      <td></td>\n",
       "      <td></td>\n",
       "      <td></td>\n",
       "      <td></td>\n",
       "    </tr>\n",
       "    <tr>\n",
       "      <th>2009</th>\n",
       "      <td>2010</td>\n",
       "      <td>○</td>\n",
       "      <td></td>\n",
       "      <td></td>\n",
       "      <td></td>\n",
       "      <td></td>\n",
       "      <td></td>\n",
       "      <td></td>\n",
       "      <td></td>\n",
       "      <td></td>\n",
       "      <td></td>\n",
       "    </tr>\n",
       "  </tbody>\n",
       "</table>\n",
       "<p>2010 rows × 11 columns</p>\n",
       "</div>"
      ],
      "text/plain": [
       "       自然数 2の倍数 4の倍数 8の倍数 16の倍数 32の倍数 64の倍数 128の倍数 256の倍数 512の倍数 ...\n",
       "0        1                                                          \n",
       "1        2    ○                                                     \n",
       "2        3                                                          \n",
       "3        4    ○    ○                                                \n",
       "4        5                                                          \n",
       "...    ...  ...  ...  ...   ...   ...   ...    ...    ...    ...  ..\n",
       "2005  2006    ○                                                     \n",
       "2006  2007                                                          \n",
       "2007  2008    ○    ○    ○                                           \n",
       "2008  2009                                                          \n",
       "2009  2010    ○                                                     \n",
       "\n",
       "[2010 rows x 11 columns]"
      ]
     },
     "metadata": {},
     "output_type": "display_data"
    },
    {
     "data": {
      "text/markdown": [
       "<span></span>"
      ],
      "text/plain": [
       "<IPython.core.display.Markdown object>"
      ]
     },
     "metadata": {},
     "output_type": "display_data"
    },
    {
     "data": {
      "text/markdown": [
       "&#8756;&nbsp;&nbsp;$\\displaystyle n_{}$&nbsp; $=$ &nbsp;$\\displaystyle 2002$&nbsp;"
      ],
      "text/plain": [
       "<IPython.core.display.Markdown object>"
      ]
     },
     "metadata": {},
     "output_type": "display_data"
    },
    {
     "data": {
      "text/markdown": [
       "------ 証明終了 ------"
      ],
      "text/plain": [
       "<IPython.core.display.Markdown object>"
      ]
     },
     "metadata": {},
     "output_type": "display_data"
    }
   ],
   "source": [
    "def 取得する_階乗の素数の乗数(証明: 証明クラス, factorial: int, prime: int, セクションタイトル: str = '取得する_階乗の素数の乗数') -> int:\n",
    "    結果 = 0\n",
    "    power = 1\n",
    "    should_continue: bool = True\n",
    "    while (should_continue):\n",
    "        結果_tmp = factorial//(prime**power)\n",
    "        結果 += 結果_tmp\n",
    "        power += 1\n",
    "        if (結果_tmp < 1):\n",
    "            should_continue = False\n",
    "    # Make テーブル\n",
    "    tableData: dict[str, list[str | int | float]] = {\n",
    "        '自然数': list(range(1, factorial+1))\n",
    "    }\n",
    "    テーブル = テーブルクラス(tableData)\n",
    "    for power in range(1, 10):\n",
    "        テーブル.追加する_列('{}の倍数'.format(\n",
    "            2**power), ((['']*(2**power-1)+['○'])*factorial + ['']*factorial)[:2010])\n",
    "    テーブル.追加する_列('...', ['']*2010)\n",
    "    # Explain\n",
    "    セクション = 証明.作成する_セクション('階乗の素数の乗数の算出', セクションタイトル)\\\n",
    "        .追加する(f'{factorial}までの自然数は、2の何乗まで約数に含むかを、表にまとめる')\n",
    "    セクション.追加する(テーブル)\n",
    "    return 結果\n",
    "\n",
    "\n",
    "def proof_01_11_01():\n",
    "    証明 = 証明クラス()\n",
    "    結果 = 取得する_階乗の素数の乗数(\n",
    "        証明, 2010, 2, )\n",
    "    assert 結果 == 2002\n",
    "    # Explain\n",
    "    n = 証明.作成する_変数('n_')\n",
    "    証明\\\n",
    "        .追加する_説明('$2010!$を素因数分解した際の、2の乗数を求めることと同義である。')\\\n",
    "        .挿入する_セクション('取得する_階乗の素数の乗数')\\\n",
    "        .追加する_説明(n == 結果, 順接か=True)\\\n",
    "        .表示する_説明()\n",
    "\n",
    "\n",
    "proof_01_11_01()\n"
   ]
  },
  {
   "attachments": {},
   "cell_type": "markdown",
   "id": "fae25ca7",
   "metadata": {},
   "source": [
    "## 第2章  "
   ]
  },
  {
   "attachments": {},
   "cell_type": "markdown",
   "id": "10756697",
   "metadata": {},
   "source": [
    "### [12] 余りで分類 \n",
    "$l,m,nは自然数とする。$"
   ]
  },
  {
   "attachments": {},
   "cell_type": "markdown",
   "id": "bae9754a",
   "metadata": {},
   "source": [
    "#### (1)\n",
    "$n^2を3で割った余りは、0または1であることを示せ。$"
   ]
  },
  {
   "cell_type": "code",
   "execution_count": 20,
   "metadata": {},
   "outputs": [
    {
     "data": {
      "text/markdown": [
       "------ 証明開始 ------"
      ],
      "text/plain": [
       "<IPython.core.display.Markdown object>"
      ]
     },
     "metadata": {},
     "output_type": "display_data"
    },
    {
     "data": {
      "text/markdown": [
       "&emsp;&emsp;------ 倍数の証明をする ------"
      ],
      "text/plain": [
       "<IPython.core.display.Markdown object>"
      ]
     },
     "metadata": {},
     "output_type": "display_data"
    },
    {
     "data": {
      "text/markdown": [
       "&emsp;&emsp;各変数を$3$で割った余りで、場合分けする。"
      ],
      "text/plain": [
       "<IPython.core.display.Markdown object>"
      ]
     },
     "metadata": {},
     "output_type": "display_data"
    },
    {
     "data": {
      "text/markdown": [
       "&emsp;&emsp; $m_0$ を自然数とする。"
      ],
      "text/plain": [
       "<IPython.core.display.Markdown object>"
      ]
     },
     "metadata": {},
     "output_type": "display_data"
    },
    {
     "data": {
      "text/markdown": [
       "&emsp;&emsp;&emsp;&emsp;------ &nbsp;$\\displaystyle n$&nbsp; $ \\coloneqq $ &nbsp;$\\displaystyle 3 m_{0} - 2$&nbsp;のとき ------"
      ],
      "text/plain": [
       "<IPython.core.display.Markdown object>"
      ]
     },
     "metadata": {},
     "output_type": "display_data"
    },
    {
     "data": {
      "text/markdown": [
       "&emsp;&emsp;&emsp;&emsp;&#8756;&nbsp;&nbsp;$\\displaystyle n^{2}$&nbsp; $=$ &nbsp;$\\displaystyle 9 m_{0}^{2} - 12 m_{0} + 4$&nbsp;"
      ],
      "text/plain": [
       "<IPython.core.display.Markdown object>"
      ]
     },
     "metadata": {},
     "output_type": "display_data"
    },
    {
     "data": {
      "text/markdown": [
       "&emsp;&emsp;&emsp;&emsp;&#8756;&nbsp;&nbsp;$\\displaystyle n^{2} \\bmod 3$&nbsp; $=$ &nbsp;$\\displaystyle 1$&nbsp;"
      ],
      "text/plain": [
       "<IPython.core.display.Markdown object>"
      ]
     },
     "metadata": {},
     "output_type": "display_data"
    },
    {
     "data": {
      "text/markdown": [
       "&emsp;&emsp;&emsp;&emsp;よって、剰余は$1$である"
      ],
      "text/plain": [
       "<IPython.core.display.Markdown object>"
      ]
     },
     "metadata": {},
     "output_type": "display_data"
    },
    {
     "data": {
      "text/markdown": [
       "<span></span>"
      ],
      "text/plain": [
       "<IPython.core.display.Markdown object>"
      ]
     },
     "metadata": {},
     "output_type": "display_data"
    },
    {
     "data": {
      "text/markdown": [
       "&emsp;&emsp;&emsp;&emsp;------ &nbsp;$\\displaystyle n$&nbsp; $ \\coloneqq $ &nbsp;$\\displaystyle 3 m_{0} - 1$&nbsp;のとき ------"
      ],
      "text/plain": [
       "<IPython.core.display.Markdown object>"
      ]
     },
     "metadata": {},
     "output_type": "display_data"
    },
    {
     "data": {
      "text/markdown": [
       "&emsp;&emsp;&emsp;&emsp;&#8756;&nbsp;&nbsp;$\\displaystyle n^{2}$&nbsp; $=$ &nbsp;$\\displaystyle 9 m_{0}^{2} - 6 m_{0} + 1$&nbsp;"
      ],
      "text/plain": [
       "<IPython.core.display.Markdown object>"
      ]
     },
     "metadata": {},
     "output_type": "display_data"
    },
    {
     "data": {
      "text/markdown": [
       "&emsp;&emsp;&emsp;&emsp;&#8756;&nbsp;&nbsp;$\\displaystyle n^{2} \\bmod 3$&nbsp; $=$ &nbsp;$\\displaystyle 1$&nbsp;"
      ],
      "text/plain": [
       "<IPython.core.display.Markdown object>"
      ]
     },
     "metadata": {},
     "output_type": "display_data"
    },
    {
     "data": {
      "text/markdown": [
       "&emsp;&emsp;&emsp;&emsp;よって、剰余は$1$である"
      ],
      "text/plain": [
       "<IPython.core.display.Markdown object>"
      ]
     },
     "metadata": {},
     "output_type": "display_data"
    },
    {
     "data": {
      "text/markdown": [
       "<span></span>"
      ],
      "text/plain": [
       "<IPython.core.display.Markdown object>"
      ]
     },
     "metadata": {},
     "output_type": "display_data"
    },
    {
     "data": {
      "text/markdown": [
       "&emsp;&emsp;&emsp;&emsp;------ &nbsp;$\\displaystyle n$&nbsp; $ \\coloneqq $ &nbsp;$\\displaystyle 3 m_{0}$&nbsp;のとき ------"
      ],
      "text/plain": [
       "<IPython.core.display.Markdown object>"
      ]
     },
     "metadata": {},
     "output_type": "display_data"
    },
    {
     "data": {
      "text/markdown": [
       "&emsp;&emsp;&emsp;&emsp;&#8756;&nbsp;&nbsp;$\\displaystyle n^{2}$&nbsp; $=$ &nbsp;$\\displaystyle 9 m_{0}^{2}$&nbsp;"
      ],
      "text/plain": [
       "<IPython.core.display.Markdown object>"
      ]
     },
     "metadata": {},
     "output_type": "display_data"
    },
    {
     "data": {
      "text/markdown": [
       "&emsp;&emsp;&emsp;&emsp;&#8756;&nbsp;&nbsp;$\\displaystyle n^{2} \\bmod 3$&nbsp; $=$ &nbsp;$\\displaystyle 0$&nbsp;"
      ],
      "text/plain": [
       "<IPython.core.display.Markdown object>"
      ]
     },
     "metadata": {},
     "output_type": "display_data"
    },
    {
     "data": {
      "text/markdown": [
       "&emsp;&emsp;&emsp;&emsp;よって、$3$の倍数である"
      ],
      "text/plain": [
       "<IPython.core.display.Markdown object>"
      ]
     },
     "metadata": {},
     "output_type": "display_data"
    },
    {
     "data": {
      "text/markdown": [
       "<span></span>"
      ],
      "text/plain": [
       "<IPython.core.display.Markdown object>"
      ]
     },
     "metadata": {},
     "output_type": "display_data"
    },
    {
     "data": {
      "text/markdown": [
       "よって、証明された。"
      ],
      "text/plain": [
       "<IPython.core.display.Markdown object>"
      ]
     },
     "metadata": {},
     "output_type": "display_data"
    },
    {
     "data": {
      "text/markdown": [
       "------ 証明終了 ------"
      ],
      "text/plain": [
       "<IPython.core.display.Markdown object>"
      ]
     },
     "metadata": {},
     "output_type": "display_data"
    }
   ],
   "source": [
    "def proof_02_12_01():\n",
    "    証明 = 証明クラス()\n",
    "    n = 証明.作成する_変数('n', {'integer':True, 'positive':True})\n",
    "    結果 = (n**2).チェックする_特定の倍数か(3, [0, 1])\n",
    "    assert 結果 == True\n",
    "    # Explain\n",
    "    証明.挿入する_セクション('チェックする_特定の倍数か')\n",
    "    if 結果:\n",
    "        証明.追加する_説明('よって、証明された。')\n",
    "    証明.表示する_説明()\n",
    "\n",
    "proof_02_12_01()\n"
   ]
  },
  {
   "attachments": {},
   "cell_type": "markdown",
   "id": "bae9754a",
   "metadata": {},
   "source": [
    "#### (2)\n",
    "$l^2+m^2が3の倍数のとき、l,mが共に３の倍数であることを示せ。$"
   ]
  },
  {
   "attachments": {},
   "cell_type": "markdown",
   "id": "bae9754a",
   "metadata": {},
   "source": [
    "#### 対偶をとって、以下を証明する。  \n",
    "#### 「l,mのいずれかが3の倍数でない」ならば、「$l^2+m^2$が3の倍数」ではない  "
   ]
  },
  {
   "attachments": {},
   "cell_type": "markdown",
   "metadata": {},
   "source": [
    "#### 式の対称性より、lを３の倍数でないとする。\n",
    "#### (1)より、$mod(l^2,3)=1$\n",
    "#### $mod(m^2,3)=$　0 or 1\n",
    "#### $mod(l^2+m^2,3) = 0$"
   ]
  },
  {
   "attachments": {},
   "cell_type": "markdown",
   "id": "10756697",
   "metadata": {},
   "source": [
    "### [13] 素数になる、ならない \n",
    "$2以上の自然数nに対して、nとn^2+2がともに素数になるのは、n=3の場合に限ることを証明せよ。$"
   ]
  },
  {
   "cell_type": "code",
   "execution_count": 21,
   "metadata": {},
   "outputs": [
    {
     "data": {
      "text/markdown": [
       "------ 証明開始 ------"
      ],
      "text/plain": [
       "<IPython.core.display.Markdown object>"
      ]
     },
     "metadata": {},
     "output_type": "display_data"
    },
    {
     "data": {
      "text/markdown": [
       "&nbsp;$\\displaystyle n$&nbsp;を[$2, 3, 3$の倍数、$3$の倍数でない]で場合分けする。"
      ],
      "text/plain": [
       "<IPython.core.display.Markdown object>"
      ]
     },
     "metadata": {},
     "output_type": "display_data"
    },
    {
     "data": {
      "text/markdown": [
       "&nbsp;$\\displaystyle m$&nbsp;を自然数とする。"
      ],
      "text/plain": [
       "<IPython.core.display.Markdown object>"
      ]
     },
     "metadata": {},
     "output_type": "display_data"
    },
    {
     "data": {
      "text/markdown": [
       "&emsp;&emsp;------ &nbsp;$\\displaystyle n$&nbsp; $ \\coloneqq $ &nbsp;$\\displaystyle 2$&nbsp;のとき ------"
      ],
      "text/plain": [
       "<IPython.core.display.Markdown object>"
      ]
     },
     "metadata": {},
     "output_type": "display_data"
    },
    {
     "data": {
      "text/markdown": [
       "&emsp;&emsp;$\\displaystyle n^{2} + 2$&nbsp; $=$ &nbsp;$\\displaystyle 6$&nbsp;"
      ],
      "text/plain": [
       "<IPython.core.display.Markdown object>"
      ]
     },
     "metadata": {},
     "output_type": "display_data"
    },
    {
     "data": {
      "text/markdown": [
       "&emsp;&emsp;よって、素数ではない"
      ],
      "text/plain": [
       "<IPython.core.display.Markdown object>"
      ]
     },
     "metadata": {},
     "output_type": "display_data"
    },
    {
     "data": {
      "text/markdown": [
       "<span></span>"
      ],
      "text/plain": [
       "<IPython.core.display.Markdown object>"
      ]
     },
     "metadata": {},
     "output_type": "display_data"
    },
    {
     "data": {
      "text/markdown": [
       "&emsp;&emsp;------ &nbsp;$\\displaystyle n$&nbsp; $ \\coloneqq $ &nbsp;$\\displaystyle 3$&nbsp;のとき ------"
      ],
      "text/plain": [
       "<IPython.core.display.Markdown object>"
      ]
     },
     "metadata": {},
     "output_type": "display_data"
    },
    {
     "data": {
      "text/markdown": [
       "&emsp;&emsp;$\\displaystyle n^{2} + 2$&nbsp; $=$ &nbsp;$\\displaystyle 11$&nbsp;"
      ],
      "text/plain": [
       "<IPython.core.display.Markdown object>"
      ]
     },
     "metadata": {},
     "output_type": "display_data"
    },
    {
     "data": {
      "text/markdown": [
       "&emsp;&emsp;よって、素数。"
      ],
      "text/plain": [
       "<IPython.core.display.Markdown object>"
      ]
     },
     "metadata": {},
     "output_type": "display_data"
    },
    {
     "data": {
      "text/markdown": [
       "<span></span>"
      ],
      "text/plain": [
       "<IPython.core.display.Markdown object>"
      ]
     },
     "metadata": {},
     "output_type": "display_data"
    },
    {
     "data": {
      "text/markdown": [
       "&emsp;&emsp;------ &nbsp;$\\displaystyle n$&nbsp; $ \\coloneqq $ &nbsp;$\\displaystyle 3 m$&nbsp;のとき ------"
      ],
      "text/plain": [
       "<IPython.core.display.Markdown object>"
      ]
     },
     "metadata": {},
     "output_type": "display_data"
    },
    {
     "data": {
      "text/markdown": [
       "&emsp;&emsp;$\\displaystyle n$&nbsp; $ = 3の倍数 $"
      ],
      "text/plain": [
       "<IPython.core.display.Markdown object>"
      ]
     },
     "metadata": {},
     "output_type": "display_data"
    },
    {
     "data": {
      "text/markdown": [
       "&emsp;&emsp;よって、素数ではない"
      ],
      "text/plain": [
       "<IPython.core.display.Markdown object>"
      ]
     },
     "metadata": {},
     "output_type": "display_data"
    },
    {
     "data": {
      "text/markdown": [
       "<span></span>"
      ],
      "text/plain": [
       "<IPython.core.display.Markdown object>"
      ]
     },
     "metadata": {},
     "output_type": "display_data"
    },
    {
     "data": {
      "text/markdown": [
       "&emsp;&emsp;------ 倍数の証明をする ------"
      ],
      "text/plain": [
       "<IPython.core.display.Markdown object>"
      ]
     },
     "metadata": {},
     "output_type": "display_data"
    },
    {
     "data": {
      "text/markdown": [
       "&emsp;&emsp;各変数を$3$で割った余りで、場合分けする。"
      ],
      "text/plain": [
       "<IPython.core.display.Markdown object>"
      ]
     },
     "metadata": {},
     "output_type": "display_data"
    },
    {
     "data": {
      "text/markdown": [
       "&emsp;&emsp; $m_0$ を自然数とする。"
      ],
      "text/plain": [
       "<IPython.core.display.Markdown object>"
      ]
     },
     "metadata": {},
     "output_type": "display_data"
    },
    {
     "data": {
      "text/markdown": [
       "&emsp;&emsp;&emsp;&emsp;------ &nbsp;$\\displaystyle n$&nbsp; $ \\coloneqq $ &nbsp;$\\displaystyle 3 m_{0} - 2$&nbsp;のとき ------"
      ],
      "text/plain": [
       "<IPython.core.display.Markdown object>"
      ]
     },
     "metadata": {},
     "output_type": "display_data"
    },
    {
     "data": {
      "text/markdown": [
       "&emsp;&emsp;&emsp;&emsp;&#8756;&nbsp;&nbsp;$\\displaystyle n^{2} + 2$&nbsp; $=$ &nbsp;$\\displaystyle 9 m_{0}^{2} - 12 m_{0} + 6$&nbsp;"
      ],
      "text/plain": [
       "<IPython.core.display.Markdown object>"
      ]
     },
     "metadata": {},
     "output_type": "display_data"
    },
    {
     "data": {
      "text/markdown": [
       "&emsp;&emsp;&emsp;&emsp;&#8756;&nbsp;&nbsp;$\\displaystyle \\left(n^{2} + 2\\right) \\bmod 3$&nbsp; $=$ &nbsp;$\\displaystyle 0$&nbsp;"
      ],
      "text/plain": [
       "<IPython.core.display.Markdown object>"
      ]
     },
     "metadata": {},
     "output_type": "display_data"
    },
    {
     "data": {
      "text/markdown": [
       "&emsp;&emsp;&emsp;&emsp;よって、$3$の倍数である"
      ],
      "text/plain": [
       "<IPython.core.display.Markdown object>"
      ]
     },
     "metadata": {},
     "output_type": "display_data"
    },
    {
     "data": {
      "text/markdown": [
       "<span></span>"
      ],
      "text/plain": [
       "<IPython.core.display.Markdown object>"
      ]
     },
     "metadata": {},
     "output_type": "display_data"
    },
    {
     "data": {
      "text/markdown": [
       "&emsp;&emsp;&emsp;&emsp;------ &nbsp;$\\displaystyle n$&nbsp; $ \\coloneqq $ &nbsp;$\\displaystyle 3 m_{0} - 1$&nbsp;のとき ------"
      ],
      "text/plain": [
       "<IPython.core.display.Markdown object>"
      ]
     },
     "metadata": {},
     "output_type": "display_data"
    },
    {
     "data": {
      "text/markdown": [
       "&emsp;&emsp;&emsp;&emsp;&#8756;&nbsp;&nbsp;$\\displaystyle n^{2} + 2$&nbsp; $=$ &nbsp;$\\displaystyle 9 m_{0}^{2} - 6 m_{0} + 3$&nbsp;"
      ],
      "text/plain": [
       "<IPython.core.display.Markdown object>"
      ]
     },
     "metadata": {},
     "output_type": "display_data"
    },
    {
     "data": {
      "text/markdown": [
       "&emsp;&emsp;&emsp;&emsp;&#8756;&nbsp;&nbsp;$\\displaystyle \\left(n^{2} + 2\\right) \\bmod 3$&nbsp; $=$ &nbsp;$\\displaystyle 0$&nbsp;"
      ],
      "text/plain": [
       "<IPython.core.display.Markdown object>"
      ]
     },
     "metadata": {},
     "output_type": "display_data"
    },
    {
     "data": {
      "text/markdown": [
       "&emsp;&emsp;&emsp;&emsp;よって、$3$の倍数である"
      ],
      "text/plain": [
       "<IPython.core.display.Markdown object>"
      ]
     },
     "metadata": {},
     "output_type": "display_data"
    },
    {
     "data": {
      "text/markdown": [
       "<span></span>"
      ],
      "text/plain": [
       "<IPython.core.display.Markdown object>"
      ]
     },
     "metadata": {},
     "output_type": "display_data"
    },
    {
     "data": {
      "text/markdown": [
       "よって、証明された。"
      ],
      "text/plain": [
       "<IPython.core.display.Markdown object>"
      ]
     },
     "metadata": {},
     "output_type": "display_data"
    },
    {
     "data": {
      "text/markdown": [
       "------ 証明終了 ------"
      ],
      "text/plain": [
       "<IPython.core.display.Markdown object>"
      ]
     },
     "metadata": {},
     "output_type": "display_data"
    }
   ],
   "source": [
    "def proof_02_13_01():\n",
    "    証明 = 証明クラス()\n",
    "    m, n = 証明.作成する_変数(['m','n'],{'integer':True, 'positive':True})\n",
    "    N2 = 式クラス(証明, '2')\n",
    "    N3 = 式クラス(証明, '3')\n",
    "    N_3times = 3*m\n",
    "    式 = n**2+2\n",
    "    結果 = 式.チェックする_特定の倍数か(\n",
    "        3, [0], {'times': 3, 'mod': [1, 2]})\n",
    "    assert 結果 == True\n",
    "    # Explain\n",
    "    セクション_1 = 証明\\\n",
    "        .作成する_セクション(f'{(n==N2) >> 定義式クラス}のとき', 'case_1')\\\n",
    "        .追加する(式 == 式.代入する((n==N2) >> 方程式クラス))\\\n",
    "        .追加する('よって、素数ではない')\n",
    "    セクション_2 = 証明\\\n",
    "        .作成する_セクション(f'{(n==N3) >> 定義式クラス}のとき', 'case_2')\\\n",
    "        .追加する(式 == 式.代入する((n==N3) >> 方程式クラス))\\\n",
    "        .追加する('よって、素数。')\n",
    "    セクション_3 = 証明\\\n",
    "        .作成する_セクション(f'{(n==N_3times) >> 定義式クラス}のとき', 'case_3')\\\n",
    "        .追加する(n=='3の倍数')\\\n",
    "        .追加する('よって、素数ではない')\\\n",
    "\n",
    "    証明\\\n",
    "        .追加する_説明(f'{n}を[$2, 3, 3$の倍数、$3$の倍数でない]で場合分けする。')\\\n",
    "        .追加する_説明(f'{m}を自然数とする。')\\\n",
    "        .挿入する_セクション(セクション_1)\\\n",
    "        .挿入する_セクション(セクション_2)\\\n",
    "        .挿入する_セクション(セクション_3)\\\n",
    "        .挿入する_セクション('チェックする_特定の倍数か')\n",
    "    if 結果:\n",
    "        証明.追加する_説明('よって、証明された。')\n",
    "    証明.表示する_説明()\n",
    "\n",
    "\n",
    "proof_02_13_01()\n"
   ]
  },
  {
   "attachments": {},
   "cell_type": "markdown",
   "id": "10756697",
   "metadata": {},
   "source": [
    "### [14] 倍数の証明 \n",
    "$nを奇数とすると、次の問いに答えよ。$"
   ]
  },
  {
   "attachments": {},
   "cell_type": "markdown",
   "id": "bae9754a",
   "metadata": {},
   "source": [
    "#### (1)\n",
    "$n^2-1は８の倍数であることを証明せよ。$  "
   ]
  },
  {
   "cell_type": "code",
   "execution_count": 22,
   "metadata": {},
   "outputs": [
    {
     "data": {
      "text/markdown": [
       "------ 証明開始 ------"
      ],
      "text/plain": [
       "<IPython.core.display.Markdown object>"
      ]
     },
     "metadata": {},
     "output_type": "display_data"
    },
    {
     "data": {
      "text/markdown": [
       "&emsp;&emsp;------ 倍数の証明をする ------"
      ],
      "text/plain": [
       "<IPython.core.display.Markdown object>"
      ]
     },
     "metadata": {},
     "output_type": "display_data"
    },
    {
     "data": {
      "text/markdown": [
       "&emsp;&emsp;各変数を$8$で割った余りで、場合分けする。"
      ],
      "text/plain": [
       "<IPython.core.display.Markdown object>"
      ]
     },
     "metadata": {},
     "output_type": "display_data"
    },
    {
     "data": {
      "text/markdown": [
       "&emsp;&emsp; $m_0$ を自然数とする。"
      ],
      "text/plain": [
       "<IPython.core.display.Markdown object>"
      ]
     },
     "metadata": {},
     "output_type": "display_data"
    },
    {
     "data": {
      "text/markdown": [
       "&emsp;&emsp;&emsp;&emsp;------ &nbsp;$\\displaystyle n$&nbsp; $ \\coloneqq $ &nbsp;$\\displaystyle 8 m_{0} - 3$&nbsp;のとき ------"
      ],
      "text/plain": [
       "<IPython.core.display.Markdown object>"
      ]
     },
     "metadata": {},
     "output_type": "display_data"
    },
    {
     "data": {
      "text/markdown": [
       "&emsp;&emsp;&emsp;&emsp;&#8756;&nbsp;&nbsp;$\\displaystyle n^{2} - 1$&nbsp; $=$ &nbsp;$\\displaystyle 64 m_{0}^{2} - 48 m_{0} + 8$&nbsp;"
      ],
      "text/plain": [
       "<IPython.core.display.Markdown object>"
      ]
     },
     "metadata": {},
     "output_type": "display_data"
    },
    {
     "data": {
      "text/markdown": [
       "&emsp;&emsp;&emsp;&emsp;&#8756;&nbsp;&nbsp;$\\displaystyle \\left(n^{2} + 7\\right) \\bmod 8$&nbsp; $=$ &nbsp;$\\displaystyle 0$&nbsp;"
      ],
      "text/plain": [
       "<IPython.core.display.Markdown object>"
      ]
     },
     "metadata": {},
     "output_type": "display_data"
    },
    {
     "data": {
      "text/markdown": [
       "&emsp;&emsp;&emsp;&emsp;よって、$8$の倍数である"
      ],
      "text/plain": [
       "<IPython.core.display.Markdown object>"
      ]
     },
     "metadata": {},
     "output_type": "display_data"
    },
    {
     "data": {
      "text/markdown": [
       "<span></span>"
      ],
      "text/plain": [
       "<IPython.core.display.Markdown object>"
      ]
     },
     "metadata": {},
     "output_type": "display_data"
    },
    {
     "data": {
      "text/markdown": [
       "&emsp;&emsp;&emsp;&emsp;------ &nbsp;$\\displaystyle n$&nbsp; $ \\coloneqq $ &nbsp;$\\displaystyle 8 m_{0} - 1$&nbsp;のとき ------"
      ],
      "text/plain": [
       "<IPython.core.display.Markdown object>"
      ]
     },
     "metadata": {},
     "output_type": "display_data"
    },
    {
     "data": {
      "text/markdown": [
       "&emsp;&emsp;&emsp;&emsp;&#8756;&nbsp;&nbsp;$\\displaystyle n^{2} - 1$&nbsp; $=$ &nbsp;$\\displaystyle 64 m_{0}^{2} - 16 m_{0}$&nbsp;"
      ],
      "text/plain": [
       "<IPython.core.display.Markdown object>"
      ]
     },
     "metadata": {},
     "output_type": "display_data"
    },
    {
     "data": {
      "text/markdown": [
       "&emsp;&emsp;&emsp;&emsp;&#8756;&nbsp;&nbsp;$\\displaystyle \\left(n^{2} + 7\\right) \\bmod 8$&nbsp; $=$ &nbsp;$\\displaystyle 0$&nbsp;"
      ],
      "text/plain": [
       "<IPython.core.display.Markdown object>"
      ]
     },
     "metadata": {},
     "output_type": "display_data"
    },
    {
     "data": {
      "text/markdown": [
       "&emsp;&emsp;&emsp;&emsp;よって、$8$の倍数である"
      ],
      "text/plain": [
       "<IPython.core.display.Markdown object>"
      ]
     },
     "metadata": {},
     "output_type": "display_data"
    },
    {
     "data": {
      "text/markdown": [
       "<span></span>"
      ],
      "text/plain": [
       "<IPython.core.display.Markdown object>"
      ]
     },
     "metadata": {},
     "output_type": "display_data"
    },
    {
     "data": {
      "text/markdown": [
       "&emsp;&emsp;&emsp;&emsp;------ &nbsp;$\\displaystyle n$&nbsp; $ \\coloneqq $ &nbsp;$\\displaystyle 8 m_{0} + 1$&nbsp;のとき ------"
      ],
      "text/plain": [
       "<IPython.core.display.Markdown object>"
      ]
     },
     "metadata": {},
     "output_type": "display_data"
    },
    {
     "data": {
      "text/markdown": [
       "&emsp;&emsp;&emsp;&emsp;&#8756;&nbsp;&nbsp;$\\displaystyle n^{2} - 1$&nbsp; $=$ &nbsp;$\\displaystyle 64 m_{0}^{2} + 16 m_{0}$&nbsp;"
      ],
      "text/plain": [
       "<IPython.core.display.Markdown object>"
      ]
     },
     "metadata": {},
     "output_type": "display_data"
    },
    {
     "data": {
      "text/markdown": [
       "&emsp;&emsp;&emsp;&emsp;&#8756;&nbsp;&nbsp;$\\displaystyle \\left(n^{2} + 7\\right) \\bmod 8$&nbsp; $=$ &nbsp;$\\displaystyle 0$&nbsp;"
      ],
      "text/plain": [
       "<IPython.core.display.Markdown object>"
      ]
     },
     "metadata": {},
     "output_type": "display_data"
    },
    {
     "data": {
      "text/markdown": [
       "&emsp;&emsp;&emsp;&emsp;よって、$8$の倍数である"
      ],
      "text/plain": [
       "<IPython.core.display.Markdown object>"
      ]
     },
     "metadata": {},
     "output_type": "display_data"
    },
    {
     "data": {
      "text/markdown": [
       "<span></span>"
      ],
      "text/plain": [
       "<IPython.core.display.Markdown object>"
      ]
     },
     "metadata": {},
     "output_type": "display_data"
    },
    {
     "data": {
      "text/markdown": [
       "&emsp;&emsp;&emsp;&emsp;------ &nbsp;$\\displaystyle n$&nbsp; $ \\coloneqq $ &nbsp;$\\displaystyle 8 m_{0} + 3$&nbsp;のとき ------"
      ],
      "text/plain": [
       "<IPython.core.display.Markdown object>"
      ]
     },
     "metadata": {},
     "output_type": "display_data"
    },
    {
     "data": {
      "text/markdown": [
       "&emsp;&emsp;&emsp;&emsp;&#8756;&nbsp;&nbsp;$\\displaystyle n^{2} - 1$&nbsp; $=$ &nbsp;$\\displaystyle 64 m_{0}^{2} + 48 m_{0} + 8$&nbsp;"
      ],
      "text/plain": [
       "<IPython.core.display.Markdown object>"
      ]
     },
     "metadata": {},
     "output_type": "display_data"
    },
    {
     "data": {
      "text/markdown": [
       "&emsp;&emsp;&emsp;&emsp;&#8756;&nbsp;&nbsp;$\\displaystyle \\left(n^{2} + 7\\right) \\bmod 8$&nbsp; $=$ &nbsp;$\\displaystyle 0$&nbsp;"
      ],
      "text/plain": [
       "<IPython.core.display.Markdown object>"
      ]
     },
     "metadata": {},
     "output_type": "display_data"
    },
    {
     "data": {
      "text/markdown": [
       "&emsp;&emsp;&emsp;&emsp;よって、$8$の倍数である"
      ],
      "text/plain": [
       "<IPython.core.display.Markdown object>"
      ]
     },
     "metadata": {},
     "output_type": "display_data"
    },
    {
     "data": {
      "text/markdown": [
       "<span></span>"
      ],
      "text/plain": [
       "<IPython.core.display.Markdown object>"
      ]
     },
     "metadata": {},
     "output_type": "display_data"
    },
    {
     "data": {
      "text/markdown": [
       "よって、証明された。"
      ],
      "text/plain": [
       "<IPython.core.display.Markdown object>"
      ]
     },
     "metadata": {},
     "output_type": "display_data"
    },
    {
     "data": {
      "text/markdown": [
       "------ 証明終了 ------"
      ],
      "text/plain": [
       "<IPython.core.display.Markdown object>"
      ]
     },
     "metadata": {},
     "output_type": "display_data"
    }
   ],
   "source": [
    "def proof_02_14_01():\n",
    "    証明 = 証明クラス()\n",
    "    n = 証明.作成する_変数('n', {'integer':True})\n",
    "    結果 = (n**2-1).チェックする_特定の倍数か(\n",
    "        8, [0],{'times': 2, 'mod': [1]})\n",
    "    assert 結果 == True\n",
    "    # Explain\n",
    "    証明.挿入する_セクション('チェックする_特定の倍数か')\n",
    "    if 結果:\n",
    "        証明.追加する_説明('よって、証明された。')\n",
    "\n",
    "    証明.表示する_説明()\n",
    "\n",
    "\n",
    "proof_02_14_01()\n"
   ]
  },
  {
   "attachments": {},
   "cell_type": "markdown",
   "id": "bae9754a",
   "metadata": {},
   "source": [
    "#### (2)\n",
    "$n^5-nは3の倍数であることを証明せよ。$  "
   ]
  },
  {
   "cell_type": "code",
   "execution_count": 23,
   "metadata": {},
   "outputs": [
    {
     "data": {
      "text/markdown": [
       "------ 証明開始 ------"
      ],
      "text/plain": [
       "<IPython.core.display.Markdown object>"
      ]
     },
     "metadata": {},
     "output_type": "display_data"
    },
    {
     "data": {
      "text/markdown": [
       "&emsp;&emsp;------ 倍数の証明をする ------"
      ],
      "text/plain": [
       "<IPython.core.display.Markdown object>"
      ]
     },
     "metadata": {},
     "output_type": "display_data"
    },
    {
     "data": {
      "text/markdown": [
       "&emsp;&emsp;各変数を$3$で割った余りで、場合分けする。"
      ],
      "text/plain": [
       "<IPython.core.display.Markdown object>"
      ]
     },
     "metadata": {},
     "output_type": "display_data"
    },
    {
     "data": {
      "text/markdown": [
       "&emsp;&emsp; $m_0$ を自然数とする。"
      ],
      "text/plain": [
       "<IPython.core.display.Markdown object>"
      ]
     },
     "metadata": {},
     "output_type": "display_data"
    },
    {
     "data": {
      "text/markdown": [
       "&emsp;&emsp;&emsp;&emsp;------ &nbsp;$\\displaystyle n$&nbsp; $ \\coloneqq $ &nbsp;$\\displaystyle 3 m_{0} - 2$&nbsp;のとき ------"
      ],
      "text/plain": [
       "<IPython.core.display.Markdown object>"
      ]
     },
     "metadata": {},
     "output_type": "display_data"
    },
    {
     "data": {
      "text/markdown": [
       "&emsp;&emsp;&emsp;&emsp;&#8756;&nbsp;&nbsp;$\\displaystyle n^{5} - n$&nbsp; $=$ &nbsp;$\\displaystyle 243 m_{0}^{5} - 810 m_{0}^{4} + 1080 m_{0}^{3} - 720 m_{0}^{2} + 237 m_{0} - 30$&nbsp;"
      ],
      "text/plain": [
       "<IPython.core.display.Markdown object>"
      ]
     },
     "metadata": {},
     "output_type": "display_data"
    },
    {
     "data": {
      "text/markdown": [
       "&emsp;&emsp;&emsp;&emsp;&#8756;&nbsp;&nbsp;$\\displaystyle \\left(n^{5} - n\\right) \\bmod 3$&nbsp; $=$ &nbsp;$\\displaystyle 0$&nbsp;"
      ],
      "text/plain": [
       "<IPython.core.display.Markdown object>"
      ]
     },
     "metadata": {},
     "output_type": "display_data"
    },
    {
     "data": {
      "text/markdown": [
       "&emsp;&emsp;&emsp;&emsp;よって、$3$の倍数である"
      ],
      "text/plain": [
       "<IPython.core.display.Markdown object>"
      ]
     },
     "metadata": {},
     "output_type": "display_data"
    },
    {
     "data": {
      "text/markdown": [
       "<span></span>"
      ],
      "text/plain": [
       "<IPython.core.display.Markdown object>"
      ]
     },
     "metadata": {},
     "output_type": "display_data"
    },
    {
     "data": {
      "text/markdown": [
       "&emsp;&emsp;&emsp;&emsp;------ &nbsp;$\\displaystyle n$&nbsp; $ \\coloneqq $ &nbsp;$\\displaystyle 3 m_{0} - 1$&nbsp;のとき ------"
      ],
      "text/plain": [
       "<IPython.core.display.Markdown object>"
      ]
     },
     "metadata": {},
     "output_type": "display_data"
    },
    {
     "data": {
      "text/markdown": [
       "&emsp;&emsp;&emsp;&emsp;&#8756;&nbsp;&nbsp;$\\displaystyle n^{5} - n$&nbsp; $=$ &nbsp;$\\displaystyle 243 m_{0}^{5} - 405 m_{0}^{4} + 270 m_{0}^{3} - 90 m_{0}^{2} + 12 m_{0}$&nbsp;"
      ],
      "text/plain": [
       "<IPython.core.display.Markdown object>"
      ]
     },
     "metadata": {},
     "output_type": "display_data"
    },
    {
     "data": {
      "text/markdown": [
       "&emsp;&emsp;&emsp;&emsp;&#8756;&nbsp;&nbsp;$\\displaystyle \\left(n^{5} - n\\right) \\bmod 3$&nbsp; $=$ &nbsp;$\\displaystyle 0$&nbsp;"
      ],
      "text/plain": [
       "<IPython.core.display.Markdown object>"
      ]
     },
     "metadata": {},
     "output_type": "display_data"
    },
    {
     "data": {
      "text/markdown": [
       "&emsp;&emsp;&emsp;&emsp;よって、$3$の倍数である"
      ],
      "text/plain": [
       "<IPython.core.display.Markdown object>"
      ]
     },
     "metadata": {},
     "output_type": "display_data"
    },
    {
     "data": {
      "text/markdown": [
       "<span></span>"
      ],
      "text/plain": [
       "<IPython.core.display.Markdown object>"
      ]
     },
     "metadata": {},
     "output_type": "display_data"
    },
    {
     "data": {
      "text/markdown": [
       "&emsp;&emsp;&emsp;&emsp;------ &nbsp;$\\displaystyle n$&nbsp; $ \\coloneqq $ &nbsp;$\\displaystyle 3 m_{0}$&nbsp;のとき ------"
      ],
      "text/plain": [
       "<IPython.core.display.Markdown object>"
      ]
     },
     "metadata": {},
     "output_type": "display_data"
    },
    {
     "data": {
      "text/markdown": [
       "&emsp;&emsp;&emsp;&emsp;&#8756;&nbsp;&nbsp;$\\displaystyle n^{5} - n$&nbsp; $=$ &nbsp;$\\displaystyle 243 m_{0}^{5} - 3 m_{0}$&nbsp;"
      ],
      "text/plain": [
       "<IPython.core.display.Markdown object>"
      ]
     },
     "metadata": {},
     "output_type": "display_data"
    },
    {
     "data": {
      "text/markdown": [
       "&emsp;&emsp;&emsp;&emsp;&#8756;&nbsp;&nbsp;$\\displaystyle \\left(n^{5} - n\\right) \\bmod 3$&nbsp; $=$ &nbsp;$\\displaystyle 0$&nbsp;"
      ],
      "text/plain": [
       "<IPython.core.display.Markdown object>"
      ]
     },
     "metadata": {},
     "output_type": "display_data"
    },
    {
     "data": {
      "text/markdown": [
       "&emsp;&emsp;&emsp;&emsp;よって、$3$の倍数である"
      ],
      "text/plain": [
       "<IPython.core.display.Markdown object>"
      ]
     },
     "metadata": {},
     "output_type": "display_data"
    },
    {
     "data": {
      "text/markdown": [
       "<span></span>"
      ],
      "text/plain": [
       "<IPython.core.display.Markdown object>"
      ]
     },
     "metadata": {},
     "output_type": "display_data"
    },
    {
     "data": {
      "text/markdown": [
       "よって、証明された。"
      ],
      "text/plain": [
       "<IPython.core.display.Markdown object>"
      ]
     },
     "metadata": {},
     "output_type": "display_data"
    },
    {
     "data": {
      "text/markdown": [
       "------ 証明終了 ------"
      ],
      "text/plain": [
       "<IPython.core.display.Markdown object>"
      ]
     },
     "metadata": {},
     "output_type": "display_data"
    }
   ],
   "source": [
    "def proof_02_14_02():\n",
    "    証明 = 証明クラス()\n",
    "    n = 証明.作成する_変数('n', {'integer':True})\n",
    "    結果 = (n**5-n).チェックする_特定の倍数か(\n",
    "        3, [0],{'times': 2, 'mod': [1]})\n",
    "    assert 結果 == True\n",
    "    # Explain\n",
    "    証明.挿入する_セクション(\"チェックする_特定の倍数か\")\n",
    "    if 結果:\n",
    "        証明.追加する_説明('よって、証明された。')\n",
    "    証明.表示する_説明()\n",
    "\n",
    "\n",
    "proof_02_14_02()"
   ]
  },
  {
   "attachments": {},
   "cell_type": "markdown",
   "id": "bae9754a",
   "metadata": {},
   "source": [
    "#### (3)\n",
    "$n^5-1は3の倍数であることを証明せよ。$  "
   ]
  },
  {
   "attachments": {},
   "cell_type": "markdown",
   "id": "bae9754a",
   "metadata": {},
   "source": [
    "$ (1),(2)より、n^5-1は、3の倍数、かつ８の倍数なので、あとは５の倍数であることを証明すれば良い。 $  "
   ]
  },
  {
   "cell_type": "code",
   "execution_count": 24,
   "metadata": {},
   "outputs": [
    {
     "data": {
      "text/markdown": [
       "------ 証明開始 ------"
      ],
      "text/plain": [
       "<IPython.core.display.Markdown object>"
      ]
     },
     "metadata": {},
     "output_type": "display_data"
    },
    {
     "data": {
      "text/markdown": [
       "&emsp;&emsp;------ 倍数の証明をする ------"
      ],
      "text/plain": [
       "<IPython.core.display.Markdown object>"
      ]
     },
     "metadata": {},
     "output_type": "display_data"
    },
    {
     "data": {
      "text/markdown": [
       "&emsp;&emsp;各変数を$5$で割った余りで、場合分けする。"
      ],
      "text/plain": [
       "<IPython.core.display.Markdown object>"
      ]
     },
     "metadata": {},
     "output_type": "display_data"
    },
    {
     "data": {
      "text/markdown": [
       "&emsp;&emsp; $m_0$ を自然数とする。"
      ],
      "text/plain": [
       "<IPython.core.display.Markdown object>"
      ]
     },
     "metadata": {},
     "output_type": "display_data"
    },
    {
     "data": {
      "text/markdown": [
       "&emsp;&emsp;&emsp;&emsp;------ &nbsp;$\\displaystyle n$&nbsp; $ \\coloneqq $ &nbsp;$\\displaystyle 5 m_{0} - 3$&nbsp;のとき ------"
      ],
      "text/plain": [
       "<IPython.core.display.Markdown object>"
      ]
     },
     "metadata": {},
     "output_type": "display_data"
    },
    {
     "data": {
      "text/markdown": [
       "&emsp;&emsp;&emsp;&emsp;&#8756;&nbsp;&nbsp;$\\displaystyle n^{5} - n$&nbsp; $=$ &nbsp;$\\displaystyle 3125 m_{0}^{5} - 9375 m_{0}^{4} + 11250 m_{0}^{3} - 6750 m_{0}^{2} + 2020 m_{0} - 240$&nbsp;"
      ],
      "text/plain": [
       "<IPython.core.display.Markdown object>"
      ]
     },
     "metadata": {},
     "output_type": "display_data"
    },
    {
     "data": {
      "text/markdown": [
       "&emsp;&emsp;&emsp;&emsp;&#8756;&nbsp;&nbsp;$\\displaystyle \\left(n^{5} - n\\right) \\bmod 5$&nbsp; $=$ &nbsp;$\\displaystyle 0$&nbsp;"
      ],
      "text/plain": [
       "<IPython.core.display.Markdown object>"
      ]
     },
     "metadata": {},
     "output_type": "display_data"
    },
    {
     "data": {
      "text/markdown": [
       "&emsp;&emsp;&emsp;&emsp;よって、$5$の倍数である"
      ],
      "text/plain": [
       "<IPython.core.display.Markdown object>"
      ]
     },
     "metadata": {},
     "output_type": "display_data"
    },
    {
     "data": {
      "text/markdown": [
       "<span></span>"
      ],
      "text/plain": [
       "<IPython.core.display.Markdown object>"
      ]
     },
     "metadata": {},
     "output_type": "display_data"
    },
    {
     "data": {
      "text/markdown": [
       "&emsp;&emsp;&emsp;&emsp;------ &nbsp;$\\displaystyle n$&nbsp; $ \\coloneqq $ &nbsp;$\\displaystyle 5 m_{0} - 2$&nbsp;のとき ------"
      ],
      "text/plain": [
       "<IPython.core.display.Markdown object>"
      ]
     },
     "metadata": {},
     "output_type": "display_data"
    },
    {
     "data": {
      "text/markdown": [
       "&emsp;&emsp;&emsp;&emsp;&#8756;&nbsp;&nbsp;$\\displaystyle n^{5} - n$&nbsp; $=$ &nbsp;$\\displaystyle 3125 m_{0}^{5} - 6250 m_{0}^{4} + 5000 m_{0}^{3} - 2000 m_{0}^{2} + 395 m_{0} - 30$&nbsp;"
      ],
      "text/plain": [
       "<IPython.core.display.Markdown object>"
      ]
     },
     "metadata": {},
     "output_type": "display_data"
    },
    {
     "data": {
      "text/markdown": [
       "&emsp;&emsp;&emsp;&emsp;&#8756;&nbsp;&nbsp;$\\displaystyle \\left(n^{5} - n\\right) \\bmod 5$&nbsp; $=$ &nbsp;$\\displaystyle 0$&nbsp;"
      ],
      "text/plain": [
       "<IPython.core.display.Markdown object>"
      ]
     },
     "metadata": {},
     "output_type": "display_data"
    },
    {
     "data": {
      "text/markdown": [
       "&emsp;&emsp;&emsp;&emsp;よって、$5$の倍数である"
      ],
      "text/plain": [
       "<IPython.core.display.Markdown object>"
      ]
     },
     "metadata": {},
     "output_type": "display_data"
    },
    {
     "data": {
      "text/markdown": [
       "<span></span>"
      ],
      "text/plain": [
       "<IPython.core.display.Markdown object>"
      ]
     },
     "metadata": {},
     "output_type": "display_data"
    },
    {
     "data": {
      "text/markdown": [
       "&emsp;&emsp;&emsp;&emsp;------ &nbsp;$\\displaystyle n$&nbsp; $ \\coloneqq $ &nbsp;$\\displaystyle 5 m_{0} - 1$&nbsp;のとき ------"
      ],
      "text/plain": [
       "<IPython.core.display.Markdown object>"
      ]
     },
     "metadata": {},
     "output_type": "display_data"
    },
    {
     "data": {
      "text/markdown": [
       "&emsp;&emsp;&emsp;&emsp;&#8756;&nbsp;&nbsp;$\\displaystyle n^{5} - n$&nbsp; $=$ &nbsp;$\\displaystyle 3125 m_{0}^{5} - 3125 m_{0}^{4} + 1250 m_{0}^{3} - 250 m_{0}^{2} + 20 m_{0}$&nbsp;"
      ],
      "text/plain": [
       "<IPython.core.display.Markdown object>"
      ]
     },
     "metadata": {},
     "output_type": "display_data"
    },
    {
     "data": {
      "text/markdown": [
       "&emsp;&emsp;&emsp;&emsp;&#8756;&nbsp;&nbsp;$\\displaystyle \\left(n^{5} - n\\right) \\bmod 5$&nbsp; $=$ &nbsp;$\\displaystyle 0$&nbsp;"
      ],
      "text/plain": [
       "<IPython.core.display.Markdown object>"
      ]
     },
     "metadata": {},
     "output_type": "display_data"
    },
    {
     "data": {
      "text/markdown": [
       "&emsp;&emsp;&emsp;&emsp;よって、$5$の倍数である"
      ],
      "text/plain": [
       "<IPython.core.display.Markdown object>"
      ]
     },
     "metadata": {},
     "output_type": "display_data"
    },
    {
     "data": {
      "text/markdown": [
       "<span></span>"
      ],
      "text/plain": [
       "<IPython.core.display.Markdown object>"
      ]
     },
     "metadata": {},
     "output_type": "display_data"
    },
    {
     "data": {
      "text/markdown": [
       "&emsp;&emsp;&emsp;&emsp;------ &nbsp;$\\displaystyle n$&nbsp; $ \\coloneqq $ &nbsp;$\\displaystyle 5 m_{0}$&nbsp;のとき ------"
      ],
      "text/plain": [
       "<IPython.core.display.Markdown object>"
      ]
     },
     "metadata": {},
     "output_type": "display_data"
    },
    {
     "data": {
      "text/markdown": [
       "&emsp;&emsp;&emsp;&emsp;&#8756;&nbsp;&nbsp;$\\displaystyle n^{5} - n$&nbsp; $=$ &nbsp;$\\displaystyle 3125 m_{0}^{5} - 5 m_{0}$&nbsp;"
      ],
      "text/plain": [
       "<IPython.core.display.Markdown object>"
      ]
     },
     "metadata": {},
     "output_type": "display_data"
    },
    {
     "data": {
      "text/markdown": [
       "&emsp;&emsp;&emsp;&emsp;&#8756;&nbsp;&nbsp;$\\displaystyle \\left(n^{5} - n\\right) \\bmod 5$&nbsp; $=$ &nbsp;$\\displaystyle 0$&nbsp;"
      ],
      "text/plain": [
       "<IPython.core.display.Markdown object>"
      ]
     },
     "metadata": {},
     "output_type": "display_data"
    },
    {
     "data": {
      "text/markdown": [
       "&emsp;&emsp;&emsp;&emsp;よって、$5$の倍数である"
      ],
      "text/plain": [
       "<IPython.core.display.Markdown object>"
      ]
     },
     "metadata": {},
     "output_type": "display_data"
    },
    {
     "data": {
      "text/markdown": [
       "<span></span>"
      ],
      "text/plain": [
       "<IPython.core.display.Markdown object>"
      ]
     },
     "metadata": {},
     "output_type": "display_data"
    },
    {
     "data": {
      "text/markdown": [
       "&emsp;&emsp;&emsp;&emsp;------ &nbsp;$\\displaystyle n$&nbsp; $ \\coloneqq $ &nbsp;$\\displaystyle 5 m_{0} + 1$&nbsp;のとき ------"
      ],
      "text/plain": [
       "<IPython.core.display.Markdown object>"
      ]
     },
     "metadata": {},
     "output_type": "display_data"
    },
    {
     "data": {
      "text/markdown": [
       "&emsp;&emsp;&emsp;&emsp;&#8756;&nbsp;&nbsp;$\\displaystyle n^{5} - n$&nbsp; $=$ &nbsp;$\\displaystyle 3125 m_{0}^{5} + 3125 m_{0}^{4} + 1250 m_{0}^{3} + 250 m_{0}^{2} + 20 m_{0}$&nbsp;"
      ],
      "text/plain": [
       "<IPython.core.display.Markdown object>"
      ]
     },
     "metadata": {},
     "output_type": "display_data"
    },
    {
     "data": {
      "text/markdown": [
       "&emsp;&emsp;&emsp;&emsp;&#8756;&nbsp;&nbsp;$\\displaystyle \\left(n^{5} - n\\right) \\bmod 5$&nbsp; $=$ &nbsp;$\\displaystyle 0$&nbsp;"
      ],
      "text/plain": [
       "<IPython.core.display.Markdown object>"
      ]
     },
     "metadata": {},
     "output_type": "display_data"
    },
    {
     "data": {
      "text/markdown": [
       "&emsp;&emsp;&emsp;&emsp;よって、$5$の倍数である"
      ],
      "text/plain": [
       "<IPython.core.display.Markdown object>"
      ]
     },
     "metadata": {},
     "output_type": "display_data"
    },
    {
     "data": {
      "text/markdown": [
       "<span></span>"
      ],
      "text/plain": [
       "<IPython.core.display.Markdown object>"
      ]
     },
     "metadata": {},
     "output_type": "display_data"
    },
    {
     "data": {
      "text/markdown": [
       "よって、証明された。"
      ],
      "text/plain": [
       "<IPython.core.display.Markdown object>"
      ]
     },
     "metadata": {},
     "output_type": "display_data"
    },
    {
     "data": {
      "text/markdown": [
       "------ 証明終了 ------"
      ],
      "text/plain": [
       "<IPython.core.display.Markdown object>"
      ]
     },
     "metadata": {},
     "output_type": "display_data"
    }
   ],
   "source": [
    "def proof_02_14_03():\n",
    "    証明 = 証明クラス()\n",
    "    式 = 式クラス(証明, 'n**5-n')\n",
    "    結果 = 式.チェックする_特定の倍数か(\n",
    "        5, [0],{'times': 2, 'mod': [1]})\n",
    "    assert 結果 == True\n",
    "    # Explain\n",
    "    証明.挿入する_セクション('チェックする_特定の倍数か')\n",
    "    if 結果:\n",
    "        証明.追加する_説明('よって、証明された。')\n",
    "\n",
    "    証明.表示する_説明()\n",
    "\n",
    "\n",
    "proof_02_14_03()"
   ]
  },
  {
   "attachments": {},
   "cell_type": "markdown",
   "id": "10756697",
   "metadata": {},
   "source": [
    "### [15] ピタゴラス数 \n",
    "$自然数の組(x,y,z)が等式x^2+y^2=z^2を満たすとする。$"
   ]
  },
  {
   "attachments": {},
   "cell_type": "markdown",
   "id": "bae9754a",
   "metadata": {},
   "source": [
    "#### (1)\n",
    "全ての自然数$n$について、$n^2$を$4$で割った余りは$0$か$1$もいずれかであることを示せ。"
   ]
  },
  {
   "cell_type": "code",
   "execution_count": 25,
   "metadata": {},
   "outputs": [
    {
     "data": {
      "text/markdown": [
       "------ 証明開始 ------"
      ],
      "text/plain": [
       "<IPython.core.display.Markdown object>"
      ]
     },
     "metadata": {},
     "output_type": "display_data"
    },
    {
     "data": {
      "text/markdown": [
       "&emsp;&emsp;------ 倍数の証明をする ------"
      ],
      "text/plain": [
       "<IPython.core.display.Markdown object>"
      ]
     },
     "metadata": {},
     "output_type": "display_data"
    },
    {
     "data": {
      "text/markdown": [
       "&emsp;&emsp;各変数を$4$で割った余りで、場合分けする。"
      ],
      "text/plain": [
       "<IPython.core.display.Markdown object>"
      ]
     },
     "metadata": {},
     "output_type": "display_data"
    },
    {
     "data": {
      "text/markdown": [
       "&emsp;&emsp; $m_0$ を自然数とする。"
      ],
      "text/plain": [
       "<IPython.core.display.Markdown object>"
      ]
     },
     "metadata": {},
     "output_type": "display_data"
    },
    {
     "data": {
      "text/markdown": [
       "&emsp;&emsp;&emsp;&emsp;------ &nbsp;$\\displaystyle n$&nbsp; $ \\coloneqq $ &nbsp;$\\displaystyle 4 m_{0} - 2$&nbsp;のとき ------"
      ],
      "text/plain": [
       "<IPython.core.display.Markdown object>"
      ]
     },
     "metadata": {},
     "output_type": "display_data"
    },
    {
     "data": {
      "text/markdown": [
       "&emsp;&emsp;&emsp;&emsp;&#8756;&nbsp;&nbsp;$\\displaystyle n^{2}$&nbsp; $=$ &nbsp;$\\displaystyle 16 m_{0}^{2} - 16 m_{0} + 4$&nbsp;"
      ],
      "text/plain": [
       "<IPython.core.display.Markdown object>"
      ]
     },
     "metadata": {},
     "output_type": "display_data"
    },
    {
     "data": {
      "text/markdown": [
       "&emsp;&emsp;&emsp;&emsp;&#8756;&nbsp;&nbsp;$\\displaystyle n^{2} \\bmod 4$&nbsp; $=$ &nbsp;$\\displaystyle 0$&nbsp;"
      ],
      "text/plain": [
       "<IPython.core.display.Markdown object>"
      ]
     },
     "metadata": {},
     "output_type": "display_data"
    },
    {
     "data": {
      "text/markdown": [
       "&emsp;&emsp;&emsp;&emsp;よって、$4$の倍数である"
      ],
      "text/plain": [
       "<IPython.core.display.Markdown object>"
      ]
     },
     "metadata": {},
     "output_type": "display_data"
    },
    {
     "data": {
      "text/markdown": [
       "<span></span>"
      ],
      "text/plain": [
       "<IPython.core.display.Markdown object>"
      ]
     },
     "metadata": {},
     "output_type": "display_data"
    },
    {
     "data": {
      "text/markdown": [
       "&emsp;&emsp;&emsp;&emsp;------ &nbsp;$\\displaystyle n$&nbsp; $ \\coloneqq $ &nbsp;$\\displaystyle 4 m_{0} - 1$&nbsp;のとき ------"
      ],
      "text/plain": [
       "<IPython.core.display.Markdown object>"
      ]
     },
     "metadata": {},
     "output_type": "display_data"
    },
    {
     "data": {
      "text/markdown": [
       "&emsp;&emsp;&emsp;&emsp;&#8756;&nbsp;&nbsp;$\\displaystyle n^{2}$&nbsp; $=$ &nbsp;$\\displaystyle 16 m_{0}^{2} - 8 m_{0} + 1$&nbsp;"
      ],
      "text/plain": [
       "<IPython.core.display.Markdown object>"
      ]
     },
     "metadata": {},
     "output_type": "display_data"
    },
    {
     "data": {
      "text/markdown": [
       "&emsp;&emsp;&emsp;&emsp;&#8756;&nbsp;&nbsp;$\\displaystyle n^{2} \\bmod 4$&nbsp; $=$ &nbsp;$\\displaystyle 1$&nbsp;"
      ],
      "text/plain": [
       "<IPython.core.display.Markdown object>"
      ]
     },
     "metadata": {},
     "output_type": "display_data"
    },
    {
     "data": {
      "text/markdown": [
       "&emsp;&emsp;&emsp;&emsp;よって、剰余は$1$である"
      ],
      "text/plain": [
       "<IPython.core.display.Markdown object>"
      ]
     },
     "metadata": {},
     "output_type": "display_data"
    },
    {
     "data": {
      "text/markdown": [
       "<span></span>"
      ],
      "text/plain": [
       "<IPython.core.display.Markdown object>"
      ]
     },
     "metadata": {},
     "output_type": "display_data"
    },
    {
     "data": {
      "text/markdown": [
       "&emsp;&emsp;&emsp;&emsp;------ &nbsp;$\\displaystyle n$&nbsp; $ \\coloneqq $ &nbsp;$\\displaystyle 4 m_{0}$&nbsp;のとき ------"
      ],
      "text/plain": [
       "<IPython.core.display.Markdown object>"
      ]
     },
     "metadata": {},
     "output_type": "display_data"
    },
    {
     "data": {
      "text/markdown": [
       "&emsp;&emsp;&emsp;&emsp;&#8756;&nbsp;&nbsp;$\\displaystyle n^{2}$&nbsp; $=$ &nbsp;$\\displaystyle 16 m_{0}^{2}$&nbsp;"
      ],
      "text/plain": [
       "<IPython.core.display.Markdown object>"
      ]
     },
     "metadata": {},
     "output_type": "display_data"
    },
    {
     "data": {
      "text/markdown": [
       "&emsp;&emsp;&emsp;&emsp;&#8756;&nbsp;&nbsp;$\\displaystyle n^{2} \\bmod 4$&nbsp; $=$ &nbsp;$\\displaystyle 0$&nbsp;"
      ],
      "text/plain": [
       "<IPython.core.display.Markdown object>"
      ]
     },
     "metadata": {},
     "output_type": "display_data"
    },
    {
     "data": {
      "text/markdown": [
       "&emsp;&emsp;&emsp;&emsp;よって、$4$の倍数である"
      ],
      "text/plain": [
       "<IPython.core.display.Markdown object>"
      ]
     },
     "metadata": {},
     "output_type": "display_data"
    },
    {
     "data": {
      "text/markdown": [
       "<span></span>"
      ],
      "text/plain": [
       "<IPython.core.display.Markdown object>"
      ]
     },
     "metadata": {},
     "output_type": "display_data"
    },
    {
     "data": {
      "text/markdown": [
       "&emsp;&emsp;&emsp;&emsp;------ &nbsp;$\\displaystyle n$&nbsp; $ \\coloneqq $ &nbsp;$\\displaystyle 4 m_{0} + 1$&nbsp;のとき ------"
      ],
      "text/plain": [
       "<IPython.core.display.Markdown object>"
      ]
     },
     "metadata": {},
     "output_type": "display_data"
    },
    {
     "data": {
      "text/markdown": [
       "&emsp;&emsp;&emsp;&emsp;&#8756;&nbsp;&nbsp;$\\displaystyle n^{2}$&nbsp; $=$ &nbsp;$\\displaystyle 16 m_{0}^{2} + 8 m_{0} + 1$&nbsp;"
      ],
      "text/plain": [
       "<IPython.core.display.Markdown object>"
      ]
     },
     "metadata": {},
     "output_type": "display_data"
    },
    {
     "data": {
      "text/markdown": [
       "&emsp;&emsp;&emsp;&emsp;&#8756;&nbsp;&nbsp;$\\displaystyle n^{2} \\bmod 4$&nbsp; $=$ &nbsp;$\\displaystyle 1$&nbsp;"
      ],
      "text/plain": [
       "<IPython.core.display.Markdown object>"
      ]
     },
     "metadata": {},
     "output_type": "display_data"
    },
    {
     "data": {
      "text/markdown": [
       "&emsp;&emsp;&emsp;&emsp;よって、剰余は$1$である"
      ],
      "text/plain": [
       "<IPython.core.display.Markdown object>"
      ]
     },
     "metadata": {},
     "output_type": "display_data"
    },
    {
     "data": {
      "text/markdown": [
       "<span></span>"
      ],
      "text/plain": [
       "<IPython.core.display.Markdown object>"
      ]
     },
     "metadata": {},
     "output_type": "display_data"
    },
    {
     "data": {
      "text/markdown": [
       "よって、証明された。"
      ],
      "text/plain": [
       "<IPython.core.display.Markdown object>"
      ]
     },
     "metadata": {},
     "output_type": "display_data"
    },
    {
     "data": {
      "text/markdown": [
       "------ 証明終了 ------"
      ],
      "text/plain": [
       "<IPython.core.display.Markdown object>"
      ]
     },
     "metadata": {},
     "output_type": "display_data"
    }
   ],
   "source": [
    "def proof_02_15_01():\n",
    "    証明 = 証明クラス()\n",
    "    式 = 式クラス(証明, 'n**2')\n",
    "    結果 = 式.チェックする_特定の倍数か(\n",
    "        4, [0,1],{'times': 0, 'mod': []},)\n",
    "    # Explain\n",
    "    証明.挿入する_セクション('チェックする_特定の倍数か')\n",
    "    if 結果:\n",
    "        証明.追加する_説明('よって、証明された。')\n",
    "    証明.表示する_説明()\n",
    "\n",
    "\n",
    "proof_02_15_01()"
   ]
  },
  {
   "attachments": {},
   "cell_type": "markdown",
   "id": "bae9754a",
   "metadata": {},
   "source": [
    "#### (2)\n",
    "$xとyの少なくとも一方が偶数であることを示せ。$"
   ]
  },
  {
   "attachments": {},
   "cell_type": "markdown",
   "id": "bae9754a",
   "metadata": {},
   "source": [
    "#### $x$,$y$ともに奇数と仮定する。\n",
    "#### (1)と仮定より、$x^2+y^2$を4で割った余りは、2である。\n",
    "#### 同様に、(1)より$z^2$を4で割った余りは、0,1のいずれかである。\n",
    "#### よって矛盾。\n",
    "#### $x$,$y$のいずれかが、偶数である。"
   ]
  },
  {
   "attachments": {},
   "cell_type": "markdown",
   "id": "bae9754a",
   "metadata": {},
   "source": [
    "#### (3)\n",
    "$xが偶数、yが奇数であるとする。このとき、xが4の倍数であることを示せ。$"
   ]
  },
  {
   "cell_type": "code",
   "execution_count": 26,
   "metadata": {},
   "outputs": [
    {
     "data": {
      "text/markdown": [
       "------ 証明開始 ------"
      ],
      "text/plain": [
       "<IPython.core.display.Markdown object>"
      ]
     },
     "metadata": {},
     "output_type": "display_data"
    },
    {
     "data": {
      "text/markdown": [
       "条件より、&nbsp;$\\displaystyle x$&nbsp;,&nbsp;$\\displaystyle y$&nbsp;,&nbsp;$\\displaystyle z$&nbsp;を下記で書き換える。（&nbsp;$\\displaystyle a$&nbsp;,&nbsp;$\\displaystyle b$&nbsp;,&nbsp;$\\displaystyle c$&nbsp;は自然数）"
      ],
      "text/plain": [
       "<IPython.core.display.Markdown object>"
      ]
     },
     "metadata": {},
     "output_type": "display_data"
    },
    {
     "data": {
      "text/markdown": [
       "$\\displaystyle x^{2}$&nbsp; $=$ &nbsp;$\\displaystyle 4 a$&nbsp;"
      ],
      "text/plain": [
       "<IPython.core.display.Markdown object>"
      ]
     },
     "metadata": {},
     "output_type": "display_data"
    },
    {
     "data": {
      "text/markdown": [
       "$\\displaystyle y$&nbsp; $=$ &nbsp;$\\displaystyle 2 b + 1$&nbsp;"
      ],
      "text/plain": [
       "<IPython.core.display.Markdown object>"
      ]
     },
     "metadata": {},
     "output_type": "display_data"
    },
    {
     "data": {
      "text/markdown": [
       "$\\displaystyle z$&nbsp; $=$ &nbsp;$\\displaystyle 2 c + 1$&nbsp;"
      ],
      "text/plain": [
       "<IPython.core.display.Markdown object>"
      ]
     },
     "metadata": {},
     "output_type": "display_data"
    },
    {
     "data": {
      "text/markdown": [
       "上記を用い、問題文の式を書き換えると、"
      ],
      "text/plain": [
       "<IPython.core.display.Markdown object>"
      ]
     },
     "metadata": {},
     "output_type": "display_data"
    },
    {
     "data": {
      "text/markdown": [
       "$\\displaystyle 4 a$&nbsp; $=$ &nbsp;$\\displaystyle - \\left(2 b + 1\\right)^{2} + \\left(2 c + 1\\right)^{2}$&nbsp;"
      ],
      "text/plain": [
       "<IPython.core.display.Markdown object>"
      ]
     },
     "metadata": {},
     "output_type": "display_data"
    },
    {
     "data": {
      "text/markdown": [
       "$\\displaystyle a$&nbsp; $=$ &nbsp;$\\displaystyle \\left(- b + c\\right) \\left(b + c + 1\\right)$&nbsp;"
      ],
      "text/plain": [
       "<IPython.core.display.Markdown object>"
      ]
     },
     "metadata": {},
     "output_type": "display_data"
    },
    {
     "data": {
      "text/markdown": [
       "「右辺が２の倍数」であると証明する"
      ],
      "text/plain": [
       "<IPython.core.display.Markdown object>"
      ]
     },
     "metadata": {},
     "output_type": "display_data"
    },
    {
     "data": {
      "text/markdown": [
       "&emsp;&emsp;------ 倍数の証明をする ------"
      ],
      "text/plain": [
       "<IPython.core.display.Markdown object>"
      ]
     },
     "metadata": {},
     "output_type": "display_data"
    },
    {
     "data": {
      "text/markdown": [
       "&emsp;&emsp;各変数を$2$で割った余りで、場合分けする。"
      ],
      "text/plain": [
       "<IPython.core.display.Markdown object>"
      ]
     },
     "metadata": {},
     "output_type": "display_data"
    },
    {
     "data": {
      "text/markdown": [
       "&emsp;&emsp; $m_0$ , $m_1$ を自然数とする。"
      ],
      "text/plain": [
       "<IPython.core.display.Markdown object>"
      ]
     },
     "metadata": {},
     "output_type": "display_data"
    },
    {
     "data": {
      "text/markdown": [
       "&emsp;&emsp;&emsp;&emsp;------ &nbsp;$\\displaystyle b$&nbsp; $ \\coloneqq $ &nbsp;$\\displaystyle 2 m_{0} - 1$&nbsp;,&nbsp;$\\displaystyle c$&nbsp; $ \\coloneqq $ &nbsp;$\\displaystyle 2 m_{1} - 1$&nbsp;のとき ------"
      ],
      "text/plain": [
       "<IPython.core.display.Markdown object>"
      ]
     },
     "metadata": {},
     "output_type": "display_data"
    },
    {
     "data": {
      "text/markdown": [
       "&emsp;&emsp;&emsp;&emsp;&#8756;&nbsp;&nbsp;$\\displaystyle \\left(- b + c\\right) \\left(b + c + 1\\right)$&nbsp; $=$ &nbsp;$\\displaystyle - 4 m_{0}^{2} + 2 m_{0} + 4 m_{1}^{2} - 2 m_{1}$&nbsp;"
      ],
      "text/plain": [
       "<IPython.core.display.Markdown object>"
      ]
     },
     "metadata": {},
     "output_type": "display_data"
    },
    {
     "data": {
      "text/markdown": [
       "&emsp;&emsp;&emsp;&emsp;&#8756;&nbsp;&nbsp; $\\displaystyle True $ &nbsp;"
      ],
      "text/plain": [
       "<IPython.core.display.Markdown object>"
      ]
     },
     "metadata": {},
     "output_type": "display_data"
    },
    {
     "data": {
      "text/markdown": [
       "&emsp;&emsp;&emsp;&emsp;よって、$2$の倍数である"
      ],
      "text/plain": [
       "<IPython.core.display.Markdown object>"
      ]
     },
     "metadata": {},
     "output_type": "display_data"
    },
    {
     "data": {
      "text/markdown": [
       "<span></span>"
      ],
      "text/plain": [
       "<IPython.core.display.Markdown object>"
      ]
     },
     "metadata": {},
     "output_type": "display_data"
    },
    {
     "data": {
      "text/markdown": [
       "&emsp;&emsp;&emsp;&emsp;------ &nbsp;$\\displaystyle b$&nbsp; $ \\coloneqq $ &nbsp;$\\displaystyle 2 m_{0} - 1$&nbsp;,&nbsp;$\\displaystyle c$&nbsp; $ \\coloneqq $ &nbsp;$\\displaystyle 2 m_{1}$&nbsp;のとき ------"
      ],
      "text/plain": [
       "<IPython.core.display.Markdown object>"
      ]
     },
     "metadata": {},
     "output_type": "display_data"
    },
    {
     "data": {
      "text/markdown": [
       "&emsp;&emsp;&emsp;&emsp;&#8756;&nbsp;&nbsp;$\\displaystyle \\left(- b + c\\right) \\left(b + c + 1\\right)$&nbsp; $=$ &nbsp;$\\displaystyle - 4 m_{0}^{2} + 2 m_{0} + 4 m_{1}^{2} + 2 m_{1}$&nbsp;"
      ],
      "text/plain": [
       "<IPython.core.display.Markdown object>"
      ]
     },
     "metadata": {},
     "output_type": "display_data"
    },
    {
     "data": {
      "text/markdown": [
       "&emsp;&emsp;&emsp;&emsp;&#8756;&nbsp;&nbsp; $\\displaystyle True $ &nbsp;"
      ],
      "text/plain": [
       "<IPython.core.display.Markdown object>"
      ]
     },
     "metadata": {},
     "output_type": "display_data"
    },
    {
     "data": {
      "text/markdown": [
       "&emsp;&emsp;&emsp;&emsp;よって、$2$の倍数である"
      ],
      "text/plain": [
       "<IPython.core.display.Markdown object>"
      ]
     },
     "metadata": {},
     "output_type": "display_data"
    },
    {
     "data": {
      "text/markdown": [
       "<span></span>"
      ],
      "text/plain": [
       "<IPython.core.display.Markdown object>"
      ]
     },
     "metadata": {},
     "output_type": "display_data"
    },
    {
     "data": {
      "text/markdown": [
       "&emsp;&emsp;&emsp;&emsp;------ &nbsp;$\\displaystyle b$&nbsp; $ \\coloneqq $ &nbsp;$\\displaystyle 2 m_{0}$&nbsp;,&nbsp;$\\displaystyle c$&nbsp; $ \\coloneqq $ &nbsp;$\\displaystyle 2 m_{1} - 1$&nbsp;のとき ------"
      ],
      "text/plain": [
       "<IPython.core.display.Markdown object>"
      ]
     },
     "metadata": {},
     "output_type": "display_data"
    },
    {
     "data": {
      "text/markdown": [
       "&emsp;&emsp;&emsp;&emsp;&#8756;&nbsp;&nbsp;$\\displaystyle \\left(- b + c\\right) \\left(b + c + 1\\right)$&nbsp; $=$ &nbsp;$\\displaystyle - 4 m_{0}^{2} - 2 m_{0} + 4 m_{1}^{2} - 2 m_{1}$&nbsp;"
      ],
      "text/plain": [
       "<IPython.core.display.Markdown object>"
      ]
     },
     "metadata": {},
     "output_type": "display_data"
    },
    {
     "data": {
      "text/markdown": [
       "&emsp;&emsp;&emsp;&emsp;&#8756;&nbsp;&nbsp; $\\displaystyle True $ &nbsp;"
      ],
      "text/plain": [
       "<IPython.core.display.Markdown object>"
      ]
     },
     "metadata": {},
     "output_type": "display_data"
    },
    {
     "data": {
      "text/markdown": [
       "&emsp;&emsp;&emsp;&emsp;よって、$2$の倍数である"
      ],
      "text/plain": [
       "<IPython.core.display.Markdown object>"
      ]
     },
     "metadata": {},
     "output_type": "display_data"
    },
    {
     "data": {
      "text/markdown": [
       "<span></span>"
      ],
      "text/plain": [
       "<IPython.core.display.Markdown object>"
      ]
     },
     "metadata": {},
     "output_type": "display_data"
    },
    {
     "data": {
      "text/markdown": [
       "&emsp;&emsp;&emsp;&emsp;------ &nbsp;$\\displaystyle b$&nbsp; $ \\coloneqq $ &nbsp;$\\displaystyle 2 m_{0}$&nbsp;,&nbsp;$\\displaystyle c$&nbsp; $ \\coloneqq $ &nbsp;$\\displaystyle 2 m_{1}$&nbsp;のとき ------"
      ],
      "text/plain": [
       "<IPython.core.display.Markdown object>"
      ]
     },
     "metadata": {},
     "output_type": "display_data"
    },
    {
     "data": {
      "text/markdown": [
       "&emsp;&emsp;&emsp;&emsp;&#8756;&nbsp;&nbsp;$\\displaystyle \\left(- b + c\\right) \\left(b + c + 1\\right)$&nbsp; $=$ &nbsp;$\\displaystyle - 4 m_{0}^{2} - 2 m_{0} + 4 m_{1}^{2} + 2 m_{1}$&nbsp;"
      ],
      "text/plain": [
       "<IPython.core.display.Markdown object>"
      ]
     },
     "metadata": {},
     "output_type": "display_data"
    },
    {
     "data": {
      "text/markdown": [
       "&emsp;&emsp;&emsp;&emsp;&#8756;&nbsp;&nbsp; $\\displaystyle True $ &nbsp;"
      ],
      "text/plain": [
       "<IPython.core.display.Markdown object>"
      ]
     },
     "metadata": {},
     "output_type": "display_data"
    },
    {
     "data": {
      "text/markdown": [
       "&emsp;&emsp;&emsp;&emsp;よって、$2$の倍数である"
      ],
      "text/plain": [
       "<IPython.core.display.Markdown object>"
      ]
     },
     "metadata": {},
     "output_type": "display_data"
    },
    {
     "data": {
      "text/markdown": [
       "<span></span>"
      ],
      "text/plain": [
       "<IPython.core.display.Markdown object>"
      ]
     },
     "metadata": {},
     "output_type": "display_data"
    },
    {
     "data": {
      "text/markdown": [
       "よって、&nbsp;$\\displaystyle x^{2}$&nbsp;は下記となる"
      ],
      "text/plain": [
       "<IPython.core.display.Markdown object>"
      ]
     },
     "metadata": {},
     "output_type": "display_data"
    },
    {
     "data": {
      "text/markdown": [
       "$\\displaystyle x^{2}$&nbsp; $=$ &nbsp;$\\displaystyle 8 a$&nbsp;"
      ],
      "text/plain": [
       "<IPython.core.display.Markdown object>"
      ]
     },
     "metadata": {},
     "output_type": "display_data"
    },
    {
     "data": {
      "text/markdown": [
       "よって、&nbsp;$\\displaystyle x$&nbsp;は4の倍数"
      ],
      "text/plain": [
       "<IPython.core.display.Markdown object>"
      ]
     },
     "metadata": {},
     "output_type": "display_data"
    },
    {
     "data": {
      "text/markdown": [
       "------ 証明終了 ------"
      ],
      "text/plain": [
       "<IPython.core.display.Markdown object>"
      ]
     },
     "metadata": {},
     "output_type": "display_data"
    }
   ],
   "source": [
    "def proof_02_15_03():\n",
    "    証明 = 証明クラス()\n",
    "    a,b,c, x, y,z = 証明.作成する_変数(['a','b','c', 'x','y','z'], {'integer':True})\n",
    "    X_2 = 4*a\n",
    "    Y = 2*b+1\n",
    "    Z= 2*c+1\n",
    "    与式 = (X_2 == (Z**2-Y**2)) >> 方程式クラス\n",
    "    aについて解いた式 = 与式.解く('a')[0].因数分解する()\n",
    "    結果 = aについて解いた式.チェックする_特定の倍数か(2, [0])\n",
    "    assert 結果 == True\n",
    "    # Explain\n",
    "    証明\\\n",
    "        .追加する_説明(f'条件より、{x},{y},{z}を下記で書き換える。（{a},{b},{c}は自然数）')\\\n",
    "        .追加する_説明(x**2 == X_2)\\\n",
    "        .追加する_説明(y == Y)\\\n",
    "        .追加する_説明(z == Z)\\\n",
    "        .追加する_説明('上記を用い、問題文の式を書き換えると、')\\\n",
    "        .追加する_説明(与式)\\\n",
    "        .追加する_説明(a == aについて解いた式)\\\n",
    "        .追加する_説明('「右辺が２の倍数」であると証明する')\\\n",
    "        .挿入する_セクション('チェックする_特定の倍数か')\\\n",
    "        .追加する_説明(f'よって、{x**2}は下記となる')\\\n",
    "        .追加する_説明(x**2 == 8*a)\\\n",
    "        .追加する_説明(f'よって、{x}は4の倍数')\\\n",
    "        .表示する_説明()\n",
    "\n",
    "\n",
    "proof_02_15_03()"
   ]
  },
  {
   "attachments": {},
   "cell_type": "markdown",
   "id": "10756697",
   "metadata": {},
   "source": [
    "### [16] ピタゴラス数 \n",
    "$m,n(m<n)$を自然数として、  \n",
    "$$a=n^2-m^2,  b=2mn,c=n^2+m^2$$\n",
    "とおく。  \n",
    "３辺の長さが、$a,b,c$である三角形の内接円の半径を$r$とし、その三角形の面積を$S$とする。  \n",
    "このとき、以下の問いに答えよ。"
   ]
  },
  {
   "attachments": {},
   "cell_type": "markdown",
   "id": "bae9754a",
   "metadata": {},
   "source": [
    "#### (1)\n",
    "$a^2+b^2=c^2$を示せ"
   ]
  },
  {
   "cell_type": "code",
   "execution_count": 27,
   "metadata": {},
   "outputs": [
    {
     "data": {
      "text/markdown": [
       "------ 証明開始 ------"
      ],
      "text/plain": [
       "<IPython.core.display.Markdown object>"
      ]
     },
     "metadata": {},
     "output_type": "display_data"
    },
    {
     "data": {
      "text/markdown": [
       "$\\displaystyle a^{2} + b^{2}$&nbsp; $=$ &nbsp;$\\displaystyle m^{4} + 2 m^{2} n^{2} + n^{4}$&nbsp;"
      ],
      "text/plain": [
       "<IPython.core.display.Markdown object>"
      ]
     },
     "metadata": {},
     "output_type": "display_data"
    },
    {
     "data": {
      "text/markdown": [
       "<em style=\"opacity:0;\"></em>$\\textcolor{gray} {\\displaystyle a^{2} + b^{2}}$&nbsp; $=$ &nbsp;$\\displaystyle \\left(m^{2} + n^{2}\\right)^{2}$&nbsp;"
      ],
      "text/plain": [
       "<IPython.core.display.Markdown object>"
      ]
     },
     "metadata": {},
     "output_type": "display_data"
    },
    {
     "data": {
      "text/markdown": [
       "<em style=\"opacity:0;\"></em>$\\textcolor{gray} {\\displaystyle a^{2} + b^{2}}$&nbsp; $=$ &nbsp;$\\displaystyle c^{2}$&nbsp;"
      ],
      "text/plain": [
       "<IPython.core.display.Markdown object>"
      ]
     },
     "metadata": {},
     "output_type": "display_data"
    },
    {
     "data": {
      "text/markdown": [
       "------ 証明終了 ------"
      ],
      "text/plain": [
       "<IPython.core.display.Markdown object>"
      ]
     },
     "metadata": {},
     "output_type": "display_data"
    }
   ],
   "source": [
    "def proof_02_16_01():\n",
    "    証明 = 証明クラス()\n",
    "    m,n = 証明.作成する_変数s('m,n', {'positive':True, 'integer':True})\n",
    "    a,b,c= 証明.作成する_変数s('a,b,c')\n",
    "    A = n**2-m**2\n",
    "    B = 2*m*n\n",
    "    C = n**2+m**2\n",
    "    方程式 = A**2+B**2 == C**2\n",
    "    assert 方程式 == True\n",
    "    # Explain\n",
    "    証明\\\n",
    "        .追加する_説明(a**2+b**2 == (A**2+B**2).展開する())\\\n",
    "        .追加する_説明(a**2+b**2 ==(A**2+B**2).因数分解する())\\\n",
    "        .追加する_説明(a**2+b**2==c**2)\\\n",
    "        .表示する_説明()\n",
    "\n",
    "proof_02_16_01()"
   ]
  },
  {
   "attachments": {},
   "cell_type": "markdown",
   "id": "bae9754a",
   "metadata": {},
   "source": [
    "### (2)\n",
    "$r$を$m,n$を用いて表せ"
   ]
  },
  {
   "cell_type": "code",
   "execution_count": 28,
   "metadata": {},
   "outputs": [
    {
     "data": {
      "text/markdown": [
       "------ 証明開始 ------"
      ],
      "text/plain": [
       "<IPython.core.display.Markdown object>"
      ]
     },
     "metadata": {},
     "output_type": "display_data"
    },
    {
     "data": {
      "text/markdown": [
       "$\\displaystyle c$&nbsp; $=$ &nbsp;$\\displaystyle a + b - 2 r$&nbsp;"
      ],
      "text/plain": [
       "<IPython.core.display.Markdown object>"
      ]
     },
     "metadata": {},
     "output_type": "display_data"
    },
    {
     "data": {
      "text/markdown": [
       "&#8756;&nbsp;&nbsp;$\\displaystyle m^{2} + n^{2}$&nbsp; $=$ &nbsp;$\\displaystyle - m^{2} + 2 m n + n^{2} - 2 r$&nbsp;"
      ],
      "text/plain": [
       "<IPython.core.display.Markdown object>"
      ]
     },
     "metadata": {},
     "output_type": "display_data"
    },
    {
     "data": {
      "text/markdown": [
       "&#8756;&nbsp;&nbsp;$\\displaystyle r$&nbsp; $=$ &nbsp;$\\displaystyle m \\left(- m + n\\right)$&nbsp;"
      ],
      "text/plain": [
       "<IPython.core.display.Markdown object>"
      ]
     },
     "metadata": {},
     "output_type": "display_data"
    },
    {
     "data": {
      "text/markdown": [
       "------ 証明終了 ------"
      ],
      "text/plain": [
       "<IPython.core.display.Markdown object>"
      ]
     },
     "metadata": {},
     "output_type": "display_data"
    }
   ],
   "source": [
    "def proof_02_16_02():\n",
    "    証明 = 証明クラス()\n",
    "    # 変数定義\n",
    "    m,n = 証明.作成する_変数s('m,n', {'positive':True, 'integer':True})\n",
    "    a,b,c= 証明.作成する_変数s('a,b,c' )\n",
    "    A = n**2-m**2\n",
    "    B = 2*m*n\n",
    "    C = n**2+m**2\n",
    "    r = 証明.作成する_変数('r')\n",
    "    # 証明\n",
    "    方程式 = (C == (A-r)+(B-r)) >> 方程式クラス\n",
    "    R = 方程式.解く('r')[0]\n",
    "    assert R == m*(-m + n)\n",
    "    # Explain\n",
    "    証明.追加する_説明(c == (a-r)+(b-r))\\\n",
    "        .追加する_説明(C == (A-r)+(B-r), 順接か=True)\\\n",
    "        .追加する_説明(r==R, 順接か=True)\\\n",
    "        .表示する_説明()\n",
    "\n",
    "\n",
    "\n",
    "proof_02_16_02()"
   ]
  },
  {
   "attachments": {},
   "cell_type": "markdown",
   "id": "bae9754a",
   "metadata": {},
   "source": [
    "### (3)\n",
    "#### $r$が素数のときに、$S$を$r$を用いて表せ"
   ]
  },
  {
   "cell_type": "code",
   "execution_count": 30,
   "metadata": {},
   "outputs": [
    {
     "data": {
      "text/markdown": [
       "------ 証明開始 ------"
      ],
      "text/plain": [
       "<IPython.core.display.Markdown object>"
      ]
     },
     "metadata": {},
     "output_type": "display_data"
    },
    {
     "data": {
      "text/markdown": [
       "$\\displaystyle r$&nbsp; $=$ &nbsp;$\\displaystyle m \\left(- m + n\\right)$&nbsp;"
      ],
      "text/plain": [
       "<IPython.core.display.Markdown object>"
      ]
     },
     "metadata": {},
     "output_type": "display_data"
    },
    {
     "data": {
      "text/markdown": [
       "&nbsp;$\\displaystyle r$&nbsp;は素数なので、"
      ],
      "text/plain": [
       "<IPython.core.display.Markdown object>"
      ]
     },
     "metadata": {},
     "output_type": "display_data"
    },
    {
     "data": {
      "text/markdown": [
       " $\\displaystyle \\left[\\begin{matrix}m\\\\- m + n\\end{matrix}\\right]$&nbsp; $=$ &nbsp;$\\displaystyle \\left[\\begin{matrix}r\\\\1\\end{matrix}\\right]$&nbsp;, &nbsp;$\\displaystyle \\left[\\begin{matrix}1\\\\r\\end{matrix}\\right]$&nbsp;"
      ],
      "text/plain": [
       "<IPython.core.display.Markdown object>"
      ]
     },
     "metadata": {},
     "output_type": "display_data"
    },
    {
     "data": {
      "text/markdown": [
       "&emsp;&emsp;------ &nbsp; &nbsp;$\\displaystyle \\left[\\begin{matrix}m\\\\- m + n\\end{matrix}\\right]$&nbsp; $=$ &nbsp;$\\displaystyle \\left[\\begin{matrix}r\\\\1\\end{matrix}\\right]$&nbsp; &nbsp;のとき ------"
      ],
      "text/plain": [
       "<IPython.core.display.Markdown object>"
      ]
     },
     "metadata": {},
     "output_type": "display_data"
    },
    {
     "data": {
      "text/markdown": [
       "&emsp;&emsp;$\\displaystyle s$&nbsp; $=$ &nbsp;$\\displaystyle r \\left(r + 1\\right) \\left(2 r + 1\\right)$&nbsp;"
      ],
      "text/plain": [
       "<IPython.core.display.Markdown object>"
      ]
     },
     "metadata": {},
     "output_type": "display_data"
    },
    {
     "data": {
      "text/markdown": [
       "<span></span>"
      ],
      "text/plain": [
       "<IPython.core.display.Markdown object>"
      ]
     },
     "metadata": {},
     "output_type": "display_data"
    },
    {
     "data": {
      "text/markdown": [
       "&emsp;&emsp;------ &nbsp; &nbsp;$\\displaystyle \\left[\\begin{matrix}m\\\\- m + n\\end{matrix}\\right]$&nbsp; $=$ &nbsp;$\\displaystyle \\left[\\begin{matrix}1\\\\r\\end{matrix}\\right]$&nbsp; &nbsp;のとき ------"
      ],
      "text/plain": [
       "<IPython.core.display.Markdown object>"
      ]
     },
     "metadata": {},
     "output_type": "display_data"
    },
    {
     "data": {
      "text/markdown": [
       "&emsp;&emsp;$\\displaystyle s$&nbsp; $=$ &nbsp;$\\displaystyle r \\left(r + 1\\right) \\left(r + 2\\right)$&nbsp;"
      ],
      "text/plain": [
       "<IPython.core.display.Markdown object>"
      ]
     },
     "metadata": {},
     "output_type": "display_data"
    },
    {
     "data": {
      "text/markdown": [
       "<span></span>"
      ],
      "text/plain": [
       "<IPython.core.display.Markdown object>"
      ]
     },
     "metadata": {},
     "output_type": "display_data"
    },
    {
     "data": {
      "text/markdown": [
       "------ 証明終了 ------"
      ],
      "text/plain": [
       "<IPython.core.display.Markdown object>"
      ]
     },
     "metadata": {},
     "output_type": "display_data"
    }
   ],
   "source": [
    "def proof_02_16_03():\n",
    "    証明 = 証明クラス()\n",
    "    # 変数定義\n",
    "    m,n = 証明.作成する_変数s('m,n', {'positive':True, 'integer':True})\n",
    "    a,b,c= 証明.作成する_変数s('a,b,c' )\n",
    "    A = n**2-m**2\n",
    "    B = 2*m*n\n",
    "    C = n**2+m**2\n",
    "    r = 証明.作成する_変数('r')\n",
    "    s = 証明.作成する_変数('s')\n",
    "    S = (A+B+C)*r/2\n",
    "    # (m, n-m) = (r, 1)の場合\n",
    "    S_1 = S.代入する({'n':'1+m'}).代入する({ 'm':'r'}).因数分解する()\n",
    "    # (m, n-m) = (1, r)の場合\n",
    "    S_2 = S.代入する({'n':'r+m'}).代入する({ 'm':1}).因数分解する()\n",
    "    assert (S_1 ==r*(r + 1)*(2*r + 1)) >> 数理的ブールクラス\n",
    "    assert (S_2 ==r*(r + 1)*(r + 2)) >> 数理的ブールクラス\n",
    "    # Explain\n",
    "    解_1 =  ベクトル方程式クラス(証明, [\n",
    "                (m==r) >> 方程式クラス,\n",
    "                (n-m==1) >> 方程式クラス,\n",
    "            ])\n",
    "    解_2 =  ベクトル方程式クラス(証明, [\n",
    "                (m==1) >> 方程式クラス,\n",
    "                (n-m==r) >> 方程式クラス,\n",
    "            ])\n",
    "    解ず =  ベクトル解sクラス(証明, [解_1, 解_2])\n",
    "    # セクションを作成\n",
    "    セクション_1 = 証明.作成する_セクション(f'{解_1}のとき', 'case_1')\\\n",
    "        .追加する(s==S_1)\n",
    "    セクション_2 = 証明.作成する_セクション(f'{解_2}のとき','case_2')\\\n",
    "        .追加する(s==S_2)\n",
    "    証明.追加する_説明((r == m*(n-m)) >> 方程式クラス)\\\n",
    "        .追加する_説明(f'{r}は素数なので、')\\\n",
    "        .追加する_説明(解ず)\\\n",
    "        .挿入する_セクション(セクション_1)\\\n",
    "        .挿入する_セクション(セクション_2)\\\n",
    "        .表示する_説明()\n",
    "\n",
    "proof_02_16_03()"
   ]
  },
  {
   "attachments": {},
   "cell_type": "markdown",
   "id": "bae9754a",
   "metadata": {},
   "source": [
    "### (4)\n",
    "#### $r$が素数のときに、$S$が6で割り切れることを示せ"
   ]
  },
  {
   "cell_type": "code",
   "execution_count": 31,
   "metadata": {},
   "outputs": [
    {
     "data": {
      "text/markdown": [
       "------ 証明開始 ------"
      ],
      "text/plain": [
       "<IPython.core.display.Markdown object>"
      ]
     },
     "metadata": {},
     "output_type": "display_data"
    },
    {
     "data": {
      "text/markdown": [
       "&emsp;&emsp;------  &nbsp;$\\displaystyle s$&nbsp; $=$ &nbsp;$\\displaystyle r \\left(r + 1\\right) \\left(2 r + 1\\right)$&nbsp;のとき  ------"
      ],
      "text/plain": [
       "<IPython.core.display.Markdown object>"
      ]
     },
     "metadata": {},
     "output_type": "display_data"
    },
    {
     "data": {
      "text/markdown": [
       "&emsp;&emsp;&emsp;&emsp;------ 倍数の証明をする ------"
      ],
      "text/plain": [
       "<IPython.core.display.Markdown object>"
      ]
     },
     "metadata": {},
     "output_type": "display_data"
    },
    {
     "data": {
      "text/markdown": [
       "&emsp;&emsp;&emsp;&emsp;各変数を$6$で割った余りで、場合分けする。"
      ],
      "text/plain": [
       "<IPython.core.display.Markdown object>"
      ]
     },
     "metadata": {},
     "output_type": "display_data"
    },
    {
     "data": {
      "text/markdown": [
       "&emsp;&emsp;&emsp;&emsp; $m_0$ を自然数とする。"
      ],
      "text/plain": [
       "<IPython.core.display.Markdown object>"
      ]
     },
     "metadata": {},
     "output_type": "display_data"
    },
    {
     "data": {
      "text/markdown": [
       "&emsp;&emsp;&emsp;&emsp;&emsp;&emsp;------ &nbsp;$\\displaystyle r$&nbsp; $ \\coloneqq $ &nbsp;$\\displaystyle 6 m_{0} - 3$&nbsp;のとき ------"
      ],
      "text/plain": [
       "<IPython.core.display.Markdown object>"
      ]
     },
     "metadata": {},
     "output_type": "display_data"
    },
    {
     "data": {
      "text/markdown": [
       "&emsp;&emsp;&emsp;&emsp;&emsp;&emsp;&#8756;&nbsp;&nbsp;$\\displaystyle r \\left(r + 1\\right) \\left(2 r + 1\\right)$&nbsp; $=$ &nbsp;$\\displaystyle 432 m_{0}^{3} - 540 m_{0}^{2} + 222 m_{0} - 30$&nbsp;"
      ],
      "text/plain": [
       "<IPython.core.display.Markdown object>"
      ]
     },
     "metadata": {},
     "output_type": "display_data"
    },
    {
     "data": {
      "text/markdown": [
       "&emsp;&emsp;&emsp;&emsp;&emsp;&emsp;&#8756;&nbsp;&nbsp;$\\displaystyle r \\left(r + 1\\right) \\left(2 r + 1\\right) \\bmod 6$&nbsp; $=$ &nbsp;$\\displaystyle 0$&nbsp;"
      ],
      "text/plain": [
       "<IPython.core.display.Markdown object>"
      ]
     },
     "metadata": {},
     "output_type": "display_data"
    },
    {
     "data": {
      "text/markdown": [
       "&emsp;&emsp;&emsp;&emsp;&emsp;&emsp;よって、$6$の倍数である"
      ],
      "text/plain": [
       "<IPython.core.display.Markdown object>"
      ]
     },
     "metadata": {},
     "output_type": "display_data"
    },
    {
     "data": {
      "text/markdown": [
       "<span></span>"
      ],
      "text/plain": [
       "<IPython.core.display.Markdown object>"
      ]
     },
     "metadata": {},
     "output_type": "display_data"
    },
    {
     "data": {
      "text/markdown": [
       "&emsp;&emsp;&emsp;&emsp;&emsp;&emsp;------ &nbsp;$\\displaystyle r$&nbsp; $ \\coloneqq $ &nbsp;$\\displaystyle 6 m_{0} - 1$&nbsp;のとき ------"
      ],
      "text/plain": [
       "<IPython.core.display.Markdown object>"
      ]
     },
     "metadata": {},
     "output_type": "display_data"
    },
    {
     "data": {
      "text/markdown": [
       "&emsp;&emsp;&emsp;&emsp;&emsp;&emsp;&#8756;&nbsp;&nbsp;$\\displaystyle r \\left(r + 1\\right) \\left(2 r + 1\\right)$&nbsp; $=$ &nbsp;$\\displaystyle 432 m_{0}^{3} - 108 m_{0}^{2} + 6 m_{0}$&nbsp;"
      ],
      "text/plain": [
       "<IPython.core.display.Markdown object>"
      ]
     },
     "metadata": {},
     "output_type": "display_data"
    },
    {
     "data": {
      "text/markdown": [
       "&emsp;&emsp;&emsp;&emsp;&emsp;&emsp;&#8756;&nbsp;&nbsp;$\\displaystyle r \\left(r + 1\\right) \\left(2 r + 1\\right) \\bmod 6$&nbsp; $=$ &nbsp;$\\displaystyle 0$&nbsp;"
      ],
      "text/plain": [
       "<IPython.core.display.Markdown object>"
      ]
     },
     "metadata": {},
     "output_type": "display_data"
    },
    {
     "data": {
      "text/markdown": [
       "&emsp;&emsp;&emsp;&emsp;&emsp;&emsp;よって、$6$の倍数である"
      ],
      "text/plain": [
       "<IPython.core.display.Markdown object>"
      ]
     },
     "metadata": {},
     "output_type": "display_data"
    },
    {
     "data": {
      "text/markdown": [
       "<span></span>"
      ],
      "text/plain": [
       "<IPython.core.display.Markdown object>"
      ]
     },
     "metadata": {},
     "output_type": "display_data"
    },
    {
     "data": {
      "text/markdown": [
       "&emsp;&emsp;&emsp;&emsp;&emsp;&emsp;------ &nbsp;$\\displaystyle r$&nbsp; $ \\coloneqq $ &nbsp;$\\displaystyle 6 m_{0} + 1$&nbsp;のとき ------"
      ],
      "text/plain": [
       "<IPython.core.display.Markdown object>"
      ]
     },
     "metadata": {},
     "output_type": "display_data"
    },
    {
     "data": {
      "text/markdown": [
       "&emsp;&emsp;&emsp;&emsp;&emsp;&emsp;&#8756;&nbsp;&nbsp;$\\displaystyle r \\left(r + 1\\right) \\left(2 r + 1\\right)$&nbsp; $=$ &nbsp;$\\displaystyle 432 m_{0}^{3} + 324 m_{0}^{2} + 78 m_{0} + 6$&nbsp;"
      ],
      "text/plain": [
       "<IPython.core.display.Markdown object>"
      ]
     },
     "metadata": {},
     "output_type": "display_data"
    },
    {
     "data": {
      "text/markdown": [
       "&emsp;&emsp;&emsp;&emsp;&emsp;&emsp;&#8756;&nbsp;&nbsp;$\\displaystyle r \\left(r + 1\\right) \\left(2 r + 1\\right) \\bmod 6$&nbsp; $=$ &nbsp;$\\displaystyle 0$&nbsp;"
      ],
      "text/plain": [
       "<IPython.core.display.Markdown object>"
      ]
     },
     "metadata": {},
     "output_type": "display_data"
    },
    {
     "data": {
      "text/markdown": [
       "&emsp;&emsp;&emsp;&emsp;&emsp;&emsp;よって、$6$の倍数である"
      ],
      "text/plain": [
       "<IPython.core.display.Markdown object>"
      ]
     },
     "metadata": {},
     "output_type": "display_data"
    },
    {
     "data": {
      "text/markdown": [
       "<span></span>"
      ],
      "text/plain": [
       "<IPython.core.display.Markdown object>"
      ]
     },
     "metadata": {},
     "output_type": "display_data"
    },
    {
     "data": {
      "text/markdown": [
       "&emsp;&emsp;------  &nbsp;$\\displaystyle s$&nbsp; $=$ &nbsp;$\\displaystyle r \\left(r + 1\\right) \\left(r + 2\\right)$&nbsp;のとき  ------"
      ],
      "text/plain": [
       "<IPython.core.display.Markdown object>"
      ]
     },
     "metadata": {},
     "output_type": "display_data"
    },
    {
     "data": {
      "text/markdown": [
       "&emsp;&emsp;&emsp;&emsp;------ 倍数の証明をする ------"
      ],
      "text/plain": [
       "<IPython.core.display.Markdown object>"
      ]
     },
     "metadata": {},
     "output_type": "display_data"
    },
    {
     "data": {
      "text/markdown": [
       "&emsp;&emsp;&emsp;&emsp;各変数を$6$で割った余りで、場合分けする。"
      ],
      "text/plain": [
       "<IPython.core.display.Markdown object>"
      ]
     },
     "metadata": {},
     "output_type": "display_data"
    },
    {
     "data": {
      "text/markdown": [
       "&emsp;&emsp;&emsp;&emsp; $m_0$ を自然数とする。"
      ],
      "text/plain": [
       "<IPython.core.display.Markdown object>"
      ]
     },
     "metadata": {},
     "output_type": "display_data"
    },
    {
     "data": {
      "text/markdown": [
       "&emsp;&emsp;&emsp;&emsp;&emsp;&emsp;------ &nbsp;$\\displaystyle r$&nbsp; $ \\coloneqq $ &nbsp;$\\displaystyle 6 m_{0} - 3$&nbsp;のとき ------"
      ],
      "text/plain": [
       "<IPython.core.display.Markdown object>"
      ]
     },
     "metadata": {},
     "output_type": "display_data"
    },
    {
     "data": {
      "text/markdown": [
       "&emsp;&emsp;&emsp;&emsp;&emsp;&emsp;&#8756;&nbsp;&nbsp;$\\displaystyle r \\left(r + 1\\right) \\left(r + 2\\right)$&nbsp; $=$ &nbsp;$\\displaystyle 216 m_{0}^{3} - 216 m_{0}^{2} + 66 m_{0} - 6$&nbsp;"
      ],
      "text/plain": [
       "<IPython.core.display.Markdown object>"
      ]
     },
     "metadata": {},
     "output_type": "display_data"
    },
    {
     "data": {
      "text/markdown": [
       "&emsp;&emsp;&emsp;&emsp;&emsp;&emsp;&#8756;&nbsp;&nbsp;$\\displaystyle r \\left(r + 1\\right) \\left(r + 2\\right) \\bmod 6$&nbsp; $=$ &nbsp;$\\displaystyle 0$&nbsp;"
      ],
      "text/plain": [
       "<IPython.core.display.Markdown object>"
      ]
     },
     "metadata": {},
     "output_type": "display_data"
    },
    {
     "data": {
      "text/markdown": [
       "&emsp;&emsp;&emsp;&emsp;&emsp;&emsp;よって、$6$の倍数である"
      ],
      "text/plain": [
       "<IPython.core.display.Markdown object>"
      ]
     },
     "metadata": {},
     "output_type": "display_data"
    },
    {
     "data": {
      "text/markdown": [
       "<span></span>"
      ],
      "text/plain": [
       "<IPython.core.display.Markdown object>"
      ]
     },
     "metadata": {},
     "output_type": "display_data"
    },
    {
     "data": {
      "text/markdown": [
       "&emsp;&emsp;&emsp;&emsp;&emsp;&emsp;------ &nbsp;$\\displaystyle r$&nbsp; $ \\coloneqq $ &nbsp;$\\displaystyle 6 m_{0} - 1$&nbsp;のとき ------"
      ],
      "text/plain": [
       "<IPython.core.display.Markdown object>"
      ]
     },
     "metadata": {},
     "output_type": "display_data"
    },
    {
     "data": {
      "text/markdown": [
       "&emsp;&emsp;&emsp;&emsp;&emsp;&emsp;&#8756;&nbsp;&nbsp;$\\displaystyle r \\left(r + 1\\right) \\left(r + 2\\right)$&nbsp; $=$ &nbsp;$\\displaystyle 216 m_{0}^{3} - 6 m_{0}$&nbsp;"
      ],
      "text/plain": [
       "<IPython.core.display.Markdown object>"
      ]
     },
     "metadata": {},
     "output_type": "display_data"
    },
    {
     "data": {
      "text/markdown": [
       "&emsp;&emsp;&emsp;&emsp;&emsp;&emsp;&#8756;&nbsp;&nbsp;$\\displaystyle r \\left(r + 1\\right) \\left(r + 2\\right) \\bmod 6$&nbsp; $=$ &nbsp;$\\displaystyle 0$&nbsp;"
      ],
      "text/plain": [
       "<IPython.core.display.Markdown object>"
      ]
     },
     "metadata": {},
     "output_type": "display_data"
    },
    {
     "data": {
      "text/markdown": [
       "&emsp;&emsp;&emsp;&emsp;&emsp;&emsp;よって、$6$の倍数である"
      ],
      "text/plain": [
       "<IPython.core.display.Markdown object>"
      ]
     },
     "metadata": {},
     "output_type": "display_data"
    },
    {
     "data": {
      "text/markdown": [
       "<span></span>"
      ],
      "text/plain": [
       "<IPython.core.display.Markdown object>"
      ]
     },
     "metadata": {},
     "output_type": "display_data"
    },
    {
     "data": {
      "text/markdown": [
       "&emsp;&emsp;&emsp;&emsp;&emsp;&emsp;------ &nbsp;$\\displaystyle r$&nbsp; $ \\coloneqq $ &nbsp;$\\displaystyle 6 m_{0} + 1$&nbsp;のとき ------"
      ],
      "text/plain": [
       "<IPython.core.display.Markdown object>"
      ]
     },
     "metadata": {},
     "output_type": "display_data"
    },
    {
     "data": {
      "text/markdown": [
       "&emsp;&emsp;&emsp;&emsp;&emsp;&emsp;&#8756;&nbsp;&nbsp;$\\displaystyle r \\left(r + 1\\right) \\left(r + 2\\right)$&nbsp; $=$ &nbsp;$\\displaystyle 216 m_{0}^{3} + 216 m_{0}^{2} + 66 m_{0} + 6$&nbsp;"
      ],
      "text/plain": [
       "<IPython.core.display.Markdown object>"
      ]
     },
     "metadata": {},
     "output_type": "display_data"
    },
    {
     "data": {
      "text/markdown": [
       "&emsp;&emsp;&emsp;&emsp;&emsp;&emsp;&#8756;&nbsp;&nbsp;$\\displaystyle r \\left(r + 1\\right) \\left(r + 2\\right) \\bmod 6$&nbsp; $=$ &nbsp;$\\displaystyle 0$&nbsp;"
      ],
      "text/plain": [
       "<IPython.core.display.Markdown object>"
      ]
     },
     "metadata": {},
     "output_type": "display_data"
    },
    {
     "data": {
      "text/markdown": [
       "&emsp;&emsp;&emsp;&emsp;&emsp;&emsp;よって、$6$の倍数である"
      ],
      "text/plain": [
       "<IPython.core.display.Markdown object>"
      ]
     },
     "metadata": {},
     "output_type": "display_data"
    },
    {
     "data": {
      "text/markdown": [
       "<span></span>"
      ],
      "text/plain": [
       "<IPython.core.display.Markdown object>"
      ]
     },
     "metadata": {},
     "output_type": "display_data"
    },
    {
     "data": {
      "text/markdown": [
       "------ 証明終了 ------"
      ],
      "text/plain": [
       "<IPython.core.display.Markdown object>"
      ]
     },
     "metadata": {},
     "output_type": "display_data"
    }
   ],
   "source": [
    "def proof_02_16_04():\n",
    "    証明 = 証明クラス()\n",
    "    r = 証明.作成する_変数('r', {'integer':True, 'positive':True})\n",
    "    s = 証明.作成する_変数('s')\n",
    "    # (m, n-m) = (r, 1)の場合\n",
    "    S_1 = r*(r+1)*(2*r+1)\n",
    "    結果_S_1 = S_1.チェックする_特定の倍数か(\n",
    "        6, \n",
    "        [0], \n",
    "        {'times': 2, 'mod': [1]}, \n",
    "        セクションタイトル='チェックする_特定の倍数か_s1'\n",
    "    )\n",
    "    # (m, n-m) = (1, r)の場合\n",
    "    S_2 = r*(r+1)*(r+2)\n",
    "    結果_S_2 = S_2.チェックする_特定の倍数か(\n",
    "        6, [0], {'times': 2, 'mod': [1]}, セクションタイトル='チェックする_特定の倍数か_s2')\n",
    "    assert 結果_S_1 & 結果_S_2 == True\n",
    "    # Explain\n",
    "    # セクションを作成\n",
    "    セクション_1 = 証明\\\n",
    "        .作成する_セクション(f' {s==S_1}のとき ', 'case_1')\\\n",
    "        .挿入する_セクション('チェックする_特定の倍数か_s1')\n",
    "    セクション_2 = 証明\\\n",
    "        .作成する_セクション(f' {s==S_2}のとき ', 'case_2')\\\n",
    "        .挿入する_セクション('チェックする_特定の倍数か_s2')\n",
    "\n",
    "    証明.挿入する_セクション(セクション_1)\n",
    "    証明.挿入する_セクション(セクション_2)\n",
    "    証明.表示する_説明()\n",
    "\n",
    "\n",
    "proof_02_16_04()\n"
   ]
  }
 ],
 "metadata": {
  "kernelspec": {
   "display_name": "Python 3",
   "language": "python",
   "name": "python3"
  },
  "language_info": {
   "codemirror_mode": {
    "name": "ipython",
    "version": 3
   },
   "file_extension": ".py",
   "mimetype": "text/x-python",
   "name": "python",
   "nbconvert_exporter": "python",
   "pygments_lexer": "ipython3",
   "version": "3.10.6"
  },
  "orig_nbformat": 4,
  "vscode": {
   "interpreter": {
    "hash": "238c1ea8c448eccf9fd2251b11cfe73ec33b32533ed097542e23ec4f415bcbe6"
   }
  }
 },
 "nbformat": 4,
 "nbformat_minor": 2,
 "nbformat_最小or": 2
}
